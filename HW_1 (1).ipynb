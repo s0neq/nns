{
  "nbformat": 4,
  "nbformat_minor": 0,
  "metadata": {
    "interpreter": {
      "hash": "aee8b7b246df8f9039afb4144a1f6fd8d2ca17a180786b69acc140d282b71a49"
    },
    "kernelspec": {
      "display_name": "Python 3.9.5 64-bit",
      "name": "python3"
    },
    "language_info": {
      "name": "python",
      "version": ""
    },
    "colab": {
      "name": "HW_1.ipynb",
      "provenance": [],
      "collapsed_sections": []
    }
  },
  "cells": [
    {
      "cell_type": "markdown",
      "metadata": {
        "id": "dcAbv3KyNTYP"
      },
      "source": [
        "# ДЗ 1\n",
        "## Классический МЛ в NLP, вспомнить все!"
      ]
    },
    {
      "cell_type": "markdown",
      "metadata": {
        "id": "ICFTwIfsNTYS"
      },
      "source": [
        "В этом ДЗ будем работать с датасетом Men_Women_Shoes_Reviews https://www.kaggle.com/daishinkan002/men-women-shoes-reviews \n",
        " \n",
        "\n",
        "### **Задание 1**. \n",
        "Предсказать цену по описанию товара (для каждого товара)\n",
        "### **Задание 2.** \n",
        "Предсказать оценку товара пользователем по его отзыву (для каждого отзыва)\n",
        "\n",
        "т е \n",
        "\n",
        "Reviews - Contains up to 10 reviews of Shoe ( separated by '|| ')\n",
        "exmpl - \n",
        "\n",
        "\n",
        "Reviews Rating -  Contains up to 10 corresponding reviews rating of Mobile ( separated by '|| ')\n",
        "exmpl - \n",
        "\n",
        "## *Что нужно сделать в каждом задании:* \n",
        "1) проанализировать данные (все, на что хватит вашей фантазии, хороший анализ включает в себя графики и статистические инструменты анализа, можно приходить с вопросами \"какой инструмент поможет мне проверить такую-то гипотезу/хочу посмотреть вот это вот, как это сделать\", предварительно не стесняйтесь гуглить) **1 балл**\n",
        "\n",
        "2) подготовить данные (стемминг, лемматизация, убрать мусор и стоп-слова, нормализовать... все, что покажется вам разумным относительно данных, но вы должны кратко (комментарием к этому блоку кода в тетрадке) объяснить почему вы сделали именно такой препроцессинг. Хороший препроцессинг - разумный, в данном случае чем больше тем не всегда лучше) **1 балла**\n",
        "\n",
        "3) векторизовать тексты (контекстуальные эммбединги пока что не берем, только BoW и TF-IDF) **0.5 балл**\n",
        "\n",
        "4) сделать гридсерч по нескольким моделям (у нас 2 задания, классификация и регрессия), подобрать гиперпараметры, выбрать лучшую модель, рассказать, почему, на ваш взгляд,лучший результат показал лучший алгоритм **1 балл**\n",
        "\n",
        "5) оценить и проанализировать качество лучших решений для каждой задачи (рассказать с чем ваша модель справляется хорошо, а где у нее \"слабые места\", можно ли как-то улучшить ваши результаты. Хороший анализ сопровождается графиками) **1,5 балла** \n",
        "\n",
        "Максимальная сумма баллов при выполнении 5 пунктов в 2 заданиях - 10\n",
        "\n",
        "В тетрадке с первого занятия много дополнительной информации, которая может вам помочь, но все равно не стесняйтесь приходить с вопросами в чат курса. "
      ]
    },
    {
      "cell_type": "markdown",
      "metadata": {
        "id": "LhoeNCgI39lr"
      },
      "source": [
        "# общая часть анализа данных для двух заданий\n"
      ]
    },
    {
      "cell_type": "code",
      "metadata": {
        "id": "GccI9FeSNTYV"
      },
      "source": [
        "import pandas as pd\n",
        "import matplotlib.pyplot as plt\n",
        "import numpy as np"
      ],
      "execution_count": 6,
      "outputs": []
    },
    {
      "cell_type": "code",
      "metadata": {
        "colab": {
          "base_uri": "https://localhost:8080/"
        },
        "id": "mVpGgYbCN1ZF",
        "outputId": "6218c7c3-5d2d-4eee-980b-ac013fcb16aa"
      },
      "source": [
        "from google.colab import drive \n",
        "drive.mount('/content/drive')"
      ],
      "execution_count": 4,
      "outputs": [
        {
          "output_type": "stream",
          "name": "stdout",
          "text": [
            "Drive already mounted at /content/drive; to attempt to forcibly remount, call drive.mount(\"/content/drive\", force_remount=True).\n"
          ]
        }
      ]
    },
    {
      "cell_type": "code",
      "metadata": {
        "colab": {
          "base_uri": "https://localhost:8080/",
          "height": 451
        },
        "id": "d5Q1jNLFLgIH",
        "outputId": "59a3f9d3-1276-4cdb-9a79-66b33261a68f"
      },
      "source": [
        "df = pd.read_csv('/content/drive/My Drive/Shoes_Data.csv')\n",
        "df.head(3)"
      ],
      "execution_count": 36,
      "outputs": [
        {
          "output_type": "execute_result",
          "data": {
            "text/html": [
              "<div>\n",
              "<style scoped>\n",
              "    .dataframe tbody tr th:only-of-type {\n",
              "        vertical-align: middle;\n",
              "    }\n",
              "\n",
              "    .dataframe tbody tr th {\n",
              "        vertical-align: top;\n",
              "    }\n",
              "\n",
              "    .dataframe thead th {\n",
              "        text-align: right;\n",
              "    }\n",
              "</style>\n",
              "<table border=\"1\" class=\"dataframe\">\n",
              "  <thead>\n",
              "    <tr style=\"text-align: right;\">\n",
              "      <th></th>\n",
              "      <th>title</th>\n",
              "      <th>price</th>\n",
              "      <th>rating</th>\n",
              "      <th>total_reviews</th>\n",
              "      <th>product_description</th>\n",
              "      <th>reviews</th>\n",
              "      <th>reviews_rating</th>\n",
              "      <th>Shoe Type</th>\n",
              "    </tr>\n",
              "  </thead>\n",
              "  <tbody>\n",
              "    <tr>\n",
              "      <th>0</th>\n",
              "      <td>CLYMB Outdoor Sports Running Shoes for Mens Boy</td>\n",
              "      <td>₹279.00</td>\n",
              "      <td>2.9 out of 5 stars</td>\n",
              "      <td>2389 ratings</td>\n",
              "      <td>Elevate your style with this classy pair of Ru...</td>\n",
              "      <td>Not happy with product|| It's not as expected....</td>\n",
              "      <td>1.0 out of 5 stars|| 1.0 out of 5 stars|| 3.0 ...</td>\n",
              "      <td>Men</td>\n",
              "    </tr>\n",
              "    <tr>\n",
              "      <th>1</th>\n",
              "      <td>Bourge Men's Loire-z126 Running Shoes</td>\n",
              "      <td>₹479.00</td>\n",
              "      <td>3.9 out of 5 stars</td>\n",
              "      <td>11520 ratings</td>\n",
              "      <td>The product will be an excellent pick for you....</td>\n",
              "      <td>Memory cushioning in these shoes is the best f...</td>\n",
              "      <td>5.0 out of 5 stars|| 1.0 out of 5 stars|| 5.0 ...</td>\n",
              "      <td>Men</td>\n",
              "    </tr>\n",
              "    <tr>\n",
              "      <th>2</th>\n",
              "      <td>T-Rock Men's Sneaker</td>\n",
              "      <td>₹430.00</td>\n",
              "      <td>3.3 out of 5 stars</td>\n",
              "      <td>1251 ratings</td>\n",
              "      <td>Flaunt with these stylish and unique red casua...</td>\n",
              "      <td>Worth to its amount|| Go for it|| Perfect|| 5 ...</td>\n",
              "      <td>5.0 out of 5 stars|| 5.0 out of 5 stars|| 5.0 ...</td>\n",
              "      <td>Men</td>\n",
              "    </tr>\n",
              "  </tbody>\n",
              "</table>\n",
              "</div>"
            ],
            "text/plain": [
              "                                             title  ... Shoe Type\n",
              "0  CLYMB Outdoor Sports Running Shoes for Mens Boy  ...       Men\n",
              "1            Bourge Men's Loire-z126 Running Shoes  ...       Men\n",
              "2                             T-Rock Men's Sneaker  ...       Men\n",
              "\n",
              "[3 rows x 8 columns]"
            ]
          },
          "metadata": {},
          "execution_count": 36
        }
      ]
    },
    {
      "cell_type": "markdown",
      "metadata": {
        "id": "q5x4wC3yUDfJ"
      },
      "source": [
        "инфа по столбцам"
      ]
    },
    {
      "cell_type": "code",
      "metadata": {
        "colab": {
          "base_uri": "https://localhost:8080/"
        },
        "id": "L6d2jxG-T30b",
        "outputId": "518f88d1-56c5-49fd-98a0-999e8afd11e5"
      },
      "source": [
        "df.info()"
      ],
      "execution_count": 37,
      "outputs": [
        {
          "output_type": "stream",
          "name": "stdout",
          "text": [
            "<class 'pandas.core.frame.DataFrame'>\n",
            "RangeIndex: 1230 entries, 0 to 1229\n",
            "Data columns (total 8 columns):\n",
            " #   Column               Non-Null Count  Dtype \n",
            "---  ------               --------------  ----- \n",
            " 0   title                1230 non-null   object\n",
            " 1   price                1230 non-null   object\n",
            " 2   rating               1230 non-null   object\n",
            " 3   total_reviews        1230 non-null   object\n",
            " 4   product_description  1230 non-null   object\n",
            " 5   reviews              1230 non-null   object\n",
            " 6   reviews_rating       1230 non-null   object\n",
            " 7   Shoe Type            1230 non-null   object\n",
            "dtypes: object(8)\n",
            "memory usage: 77.0+ KB\n"
          ]
        }
      ]
    },
    {
      "cell_type": "markdown",
      "metadata": {
        "id": "ojMTs3QoYpZ4"
      },
      "source": [
        "итак, мы знаем, что: в датасете 1230 строк, нет пропущенных значений, тип каждой колонки - строка"
      ]
    },
    {
      "cell_type": "markdown",
      "metadata": {
        "id": "wOupK8YmmiZm"
      },
      "source": [
        "надо проверить в одной ли валюте указана цена товаров"
      ]
    },
    {
      "cell_type": "code",
      "metadata": {
        "colab": {
          "base_uri": "https://localhost:8080/"
        },
        "id": "GOabCqXHlKMc",
        "outputId": "2af662a2-a457-4eb0-b6d6-083a5fbd8477"
      },
      "source": [
        "df['currency'] = df['price'].str[0]\n",
        "df['currency'].unique()"
      ],
      "execution_count": 38,
      "outputs": [
        {
          "output_type": "execute_result",
          "data": {
            "text/plain": [
              "array(['₹'], dtype=object)"
            ]
          },
          "metadata": {},
          "execution_count": 38
        }
      ]
    },
    {
      "cell_type": "markdown",
      "metadata": {
        "id": "c9U-AtWdm7im"
      },
      "source": [
        "валюта одинакова, удалим этот столбец\n",
        "\n",
        "переведем колонку с ценой в тип float"
      ]
    },
    {
      "cell_type": "code",
      "metadata": {
        "id": "3B96S7sKm6K-"
      },
      "source": [
        "df.drop('currency', inplace=True, axis=1)\n",
        "df['price'] = pd.to_numeric(df['price'].str[1:], downcast=\"float\")"
      ],
      "execution_count": 39,
      "outputs": []
    },
    {
      "cell_type": "code",
      "metadata": {
        "colab": {
          "base_uri": "https://localhost:8080/",
          "height": 451
        },
        "id": "MdJ1jNW_lkHr",
        "outputId": "a5f0a6fb-06c1-4af7-fdc3-fd8ce7994ed0"
      },
      "source": [
        "df.head(3)"
      ],
      "execution_count": 40,
      "outputs": [
        {
          "output_type": "execute_result",
          "data": {
            "text/html": [
              "<div>\n",
              "<style scoped>\n",
              "    .dataframe tbody tr th:only-of-type {\n",
              "        vertical-align: middle;\n",
              "    }\n",
              "\n",
              "    .dataframe tbody tr th {\n",
              "        vertical-align: top;\n",
              "    }\n",
              "\n",
              "    .dataframe thead th {\n",
              "        text-align: right;\n",
              "    }\n",
              "</style>\n",
              "<table border=\"1\" class=\"dataframe\">\n",
              "  <thead>\n",
              "    <tr style=\"text-align: right;\">\n",
              "      <th></th>\n",
              "      <th>title</th>\n",
              "      <th>price</th>\n",
              "      <th>rating</th>\n",
              "      <th>total_reviews</th>\n",
              "      <th>product_description</th>\n",
              "      <th>reviews</th>\n",
              "      <th>reviews_rating</th>\n",
              "      <th>Shoe Type</th>\n",
              "    </tr>\n",
              "  </thead>\n",
              "  <tbody>\n",
              "    <tr>\n",
              "      <th>0</th>\n",
              "      <td>CLYMB Outdoor Sports Running Shoes for Mens Boy</td>\n",
              "      <td>279.0</td>\n",
              "      <td>2.9 out of 5 stars</td>\n",
              "      <td>2389 ratings</td>\n",
              "      <td>Elevate your style with this classy pair of Ru...</td>\n",
              "      <td>Not happy with product|| It's not as expected....</td>\n",
              "      <td>1.0 out of 5 stars|| 1.0 out of 5 stars|| 3.0 ...</td>\n",
              "      <td>Men</td>\n",
              "    </tr>\n",
              "    <tr>\n",
              "      <th>1</th>\n",
              "      <td>Bourge Men's Loire-z126 Running Shoes</td>\n",
              "      <td>479.0</td>\n",
              "      <td>3.9 out of 5 stars</td>\n",
              "      <td>11520 ratings</td>\n",
              "      <td>The product will be an excellent pick for you....</td>\n",
              "      <td>Memory cushioning in these shoes is the best f...</td>\n",
              "      <td>5.0 out of 5 stars|| 1.0 out of 5 stars|| 5.0 ...</td>\n",
              "      <td>Men</td>\n",
              "    </tr>\n",
              "    <tr>\n",
              "      <th>2</th>\n",
              "      <td>T-Rock Men's Sneaker</td>\n",
              "      <td>430.0</td>\n",
              "      <td>3.3 out of 5 stars</td>\n",
              "      <td>1251 ratings</td>\n",
              "      <td>Flaunt with these stylish and unique red casua...</td>\n",
              "      <td>Worth to its amount|| Go for it|| Perfect|| 5 ...</td>\n",
              "      <td>5.0 out of 5 stars|| 5.0 out of 5 stars|| 5.0 ...</td>\n",
              "      <td>Men</td>\n",
              "    </tr>\n",
              "  </tbody>\n",
              "</table>\n",
              "</div>"
            ],
            "text/plain": [
              "                                             title  ...  Shoe Type\n",
              "0  CLYMB Outdoor Sports Running Shoes for Mens Boy  ...        Men\n",
              "1            Bourge Men's Loire-z126 Running Shoes  ...        Men\n",
              "2                             T-Rock Men's Sneaker  ...        Men\n",
              "\n",
              "[3 rows x 8 columns]"
            ]
          },
          "metadata": {},
          "execution_count": 40
        }
      ]
    },
    {
      "cell_type": "markdown",
      "metadata": {
        "id": "H0cFYzon2G2-"
      },
      "source": [
        "удалим полные дубликаты строк (если они есть)"
      ]
    },
    {
      "cell_type": "code",
      "metadata": {
        "colab": {
          "base_uri": "https://localhost:8080/"
        },
        "id": "kyu6s1v-1_5B",
        "outputId": "fd36c5e6-2222-4d73-f825-9694b891b5b6"
      },
      "source": [
        "df.drop_duplicates(inplace=True)\n",
        "df.shape"
      ],
      "execution_count": 41,
      "outputs": [
        {
          "output_type": "execute_result",
          "data": {
            "text/plain": [
              "(1015, 8)"
            ]
          },
          "metadata": {},
          "execution_count": 41
        }
      ]
    },
    {
      "cell_type": "markdown",
      "metadata": {
        "id": "NHaYLrCD5zW6"
      },
      "source": [
        "теперь в датафрейме 1015 строк"
      ]
    },
    {
      "cell_type": "code",
      "metadata": {
        "id": "5WYyaIoB4ZjR"
      },
      "source": [
        "df.to_csv('/content/drive/My Drive/my_shoes_data.csv', index=None)"
      ],
      "execution_count": 42,
      "outputs": []
    },
    {
      "cell_type": "markdown",
      "metadata": {
        "id": "raXPzKJi3n-D"
      },
      "source": [
        "# задание 1\n",
        "\n",
        "Предсказать цену по описанию товара (для каждого товара)"
      ]
    },
    {
      "cell_type": "markdown",
      "metadata": {
        "id": "9jnpP70YNTYU"
      },
      "source": [
        "1) проанализировать данные (все, на что хватит вашей фантазии, хороший анализ включает в себя графики и статистические инструменты анализа, можно приходить с вопросами \"какой инструмент поможет мне проверить такую-то гипотезу/хочу посмотреть вот это вот, как это сделать\", предварительно не стесняйтесь гуглить) **1 балл**"
      ]
    },
    {
      "cell_type": "code",
      "metadata": {
        "id": "z1KUpj_B4xtE"
      },
      "source": [
        "df = pd.read_csv('/content/drive/My Drive/my_shoes_data.csv')"
      ],
      "execution_count": 33,
      "outputs": []
    },
    {
      "cell_type": "markdown",
      "metadata": {
        "id": "oIQQwuh447r3"
      },
      "source": [
        "тк в этом задании просят предсказать цену только по описанию, уберем ненужные столбцы\n",
        "\n",
        "также надо проверить не осталось ли дубликатов"
      ]
    },
    {
      "cell_type": "code",
      "metadata": {
        "id": "zpVCQ3lR8yYX"
      },
      "source": [
        "df = df[['price',\n",
        "         'product_description']]"
      ],
      "execution_count": 34,
      "outputs": []
    },
    {
      "cell_type": "code",
      "metadata": {
        "colab": {
          "base_uri": "https://localhost:8080/"
        },
        "id": "4WkyyqA35lNt",
        "outputId": "631a40c9-66d3-43ea-fb17-e353470cd4b0"
      },
      "source": [
        "df.drop_duplicates(inplace=True)\n",
        "df.shape"
      ],
      "execution_count": 35,
      "outputs": [
        {
          "output_type": "execute_result",
          "data": {
            "text/plain": [
              "(969, 2)"
            ]
          },
          "metadata": {},
          "execution_count": 35
        }
      ]
    },
    {
      "cell_type": "markdown",
      "metadata": {
        "id": "tJDF08Vp9YJy"
      },
      "source": [
        "препроцессинг для колонки с описанием"
      ]
    },
    {
      "cell_type": "code",
      "metadata": {
        "id": "RUgRP0tB6hES"
      },
      "source": [
        "from string import punctuation"
      ],
      "execution_count": 36,
      "outputs": []
    },
    {
      "cell_type": "markdown",
      "metadata": {
        "id": "mDa2HgIlCnMH"
      },
      "source": [
        "! не хочется убирать из текстов, потому что это может нести некоторую информацию"
      ]
    },
    {
      "cell_type": "code",
      "metadata": {
        "id": "mzNdiBif6hB4"
      },
      "source": [
        "punctuation = punctuation.strip(\"!\")\n",
        "punctuation += \"...-\""
      ],
      "execution_count": 37,
      "outputs": []
    },
    {
      "cell_type": "code",
      "metadata": {
        "colab": {
          "base_uri": "https://localhost:8080/",
          "height": 36
        },
        "id": "92o83ihC6g__",
        "outputId": "0d098633-f077-46c4-b759-ccf4c0b33119"
      },
      "source": [
        "punctuation"
      ],
      "execution_count": 38,
      "outputs": [
        {
          "output_type": "execute_result",
          "data": {
            "application/vnd.google.colaboratory.intrinsic+json": {
              "type": "string"
            },
            "text/plain": [
              "'\"#$%&\\'()*+,-./:;<=>?@[\\\\]^_`{|}~...-'"
            ]
          },
          "metadata": {},
          "execution_count": 38
        }
      ]
    },
    {
      "cell_type": "code",
      "metadata": {
        "colab": {
          "base_uri": "https://localhost:8080/"
        },
        "id": "Q26HeT4aUty_",
        "outputId": "b8b07185-a6af-4cf1-c65a-95653af1d814"
      },
      "source": [
        "! pip install emoji"
      ],
      "execution_count": 8,
      "outputs": [
        {
          "output_type": "stream",
          "name": "stdout",
          "text": [
            "Requirement already satisfied: emoji in /usr/local/lib/python3.7/dist-packages (1.5.0)\n"
          ]
        }
      ]
    },
    {
      "cell_type": "markdown",
      "metadata": {
        "id": "HxLPAsm2DmUA"
      },
      "source": [
        "убираю\n",
        "\n",
        "1) пунктуацию кроме !\n",
        "\n",
        "2) повтор пробелов\n",
        "\n",
        "3) non english characters, except emojis"
      ]
    },
    {
      "cell_type": "code",
      "metadata": {
        "id": "9Gx7l5XBD2Le"
      },
      "source": [
        "import re\n",
        "import emoji\n",
        "emojis_set = set(emoji.UNICODE_EMOJI['en'].keys())\n",
        "\n",
        "def delete_trash(text):\n",
        "    for ch in punctuation:\n",
        "        text = text.replace(ch, \"\")\n",
        "    # delete non-english characters\n",
        "\n",
        "    # например для \"Nike మహిళల రన్నింగ్ షూ ఫీల్స్ మరియు రూపం\" \n",
        "    # останется только \"Nike\"\n",
        "    for ch in text:\n",
        "        if not ch.isascii() and ch not in emojis_set:\n",
        "            text = text.replace(ch, \"\")\n",
        "    return re.sub(\"\\s+\", \" \", text.strip())"
      ],
      "execution_count": 39,
      "outputs": []
    },
    {
      "cell_type": "code",
      "metadata": {
        "id": "7pcn6AP9We_t"
      },
      "source": [
        ""
      ],
      "execution_count": null,
      "outputs": []
    },
    {
      "cell_type": "code",
      "metadata": {
        "id": "NYxbuZnHIkgG"
      },
      "source": [
        ""
      ],
      "execution_count": null,
      "outputs": []
    },
    {
      "cell_type": "code",
      "metadata": {
        "id": "4AezaUXZDl3c"
      },
      "source": [
        "df['without_punc'] = df['product_description'].apply(delete_trash)"
      ],
      "execution_count": 40,
      "outputs": []
    },
    {
      "cell_type": "markdown",
      "metadata": {
        "id": "9vkXP76iC8hM"
      },
      "source": [
        "генерация статистических фичей по описанию"
      ]
    },
    {
      "cell_type": "code",
      "metadata": {
        "id": "8ui5oH6wC72f"
      },
      "source": [
        "df['description_len'] = df['without_punc'].apply(len)\n",
        "\n",
        "df['num_of_tokens'] = df['without_punc'].apply(lambda x: len(x.split()))\n",
        "\n",
        "df['num_of_caps'] = df['without_punc'].apply(lambda x: len([ch for ch in x if ch.isupper()]))\n",
        "\n",
        "df['num_of_nonalpha'] = df['without_punc'].apply(lambda x: len([ch for ch in x if not ch.isalnum() and not ch == \" \"]))\n",
        "# isalnum - checks if every symbol is number or letter"
      ],
      "execution_count": 41,
      "outputs": []
    },
    {
      "cell_type": "markdown",
      "metadata": {
        "id": "x99Dd9ztYPQn"
      },
      "source": [
        "в num_of_nonalpha будут считаться \"!\" и emojis, посмотрим, есть ли они вообще:"
      ]
    },
    {
      "cell_type": "code",
      "metadata": {
        "colab": {
          "base_uri": "https://localhost:8080/"
        },
        "id": "LfLcq3VGTESB",
        "outputId": "97bd391a-d693-4005-8653-42afe338b091"
      },
      "source": [
        "df.num_of_nonalpha.unique()"
      ],
      "execution_count": 42,
      "outputs": [
        {
          "output_type": "execute_result",
          "data": {
            "text/plain": [
              "array([ 0,  1,  2,  5,  4, 20, 13, 17,  3, 44])"
            ]
          },
          "metadata": {},
          "execution_count": 42
        }
      ]
    },
    {
      "cell_type": "markdown",
      "metadata": {
        "id": "Urd0M7KSaXQ6"
      },
      "source": [
        "удалить пустые строки из описания"
      ]
    },
    {
      "cell_type": "code",
      "metadata": {
        "colab": {
          "base_uri": "https://localhost:8080/"
        },
        "id": "m1wLjMIMagOA",
        "outputId": "2c9fe5da-dc7c-47b8-a4fb-38269c4d9f79"
      },
      "source": [
        "df.shape"
      ],
      "execution_count": 43,
      "outputs": [
        {
          "output_type": "execute_result",
          "data": {
            "text/plain": [
              "(969, 7)"
            ]
          },
          "metadata": {},
          "execution_count": 43
        }
      ]
    },
    {
      "cell_type": "code",
      "metadata": {
        "id": "x-5cRUUBaV7P"
      },
      "source": [
        "df['without_punc'].replace('', np.nan, inplace=True)\n",
        "df.dropna(subset=['without_punc'], inplace=True)"
      ],
      "execution_count": 44,
      "outputs": []
    },
    {
      "cell_type": "code",
      "metadata": {
        "colab": {
          "base_uri": "https://localhost:8080/"
        },
        "id": "qmBCdwKYaqAO",
        "outputId": "e6faaca9-59fc-4776-dea3-a70dbd31ba99"
      },
      "source": [
        "df.shape"
      ],
      "execution_count": 45,
      "outputs": [
        {
          "output_type": "execute_result",
          "data": {
            "text/plain": [
              "(966, 7)"
            ]
          },
          "metadata": {},
          "execution_count": 45
        }
      ]
    },
    {
      "cell_type": "markdown",
      "metadata": {
        "id": "RcuVJinhbaHq"
      },
      "source": [
        "стоп слова и лемматизация"
      ]
    },
    {
      "cell_type": "code",
      "metadata": {
        "colab": {
          "base_uri": "https://localhost:8080/"
        },
        "id": "yIletYPabXSF",
        "outputId": "eb5ab0f3-0ae2-4c32-fa7c-5816392582a4"
      },
      "source": [
        "# Install spaCy (run in terminal/prompt)\n",
        "\n",
        "!pip install spacy\n",
        "\n",
        "# Download spaCy's  'en' Model\n",
        "!spacy download en"
      ],
      "execution_count": 186,
      "outputs": [
        {
          "output_type": "stream",
          "name": "stdout",
          "text": [
            "Requirement already satisfied: spacy in /usr/local/lib/python3.7/dist-packages (2.2.4)\n",
            "Requirement already satisfied: blis<0.5.0,>=0.4.0 in /usr/local/lib/python3.7/dist-packages (from spacy) (0.4.1)\n",
            "Requirement already satisfied: srsly<1.1.0,>=1.0.2 in /usr/local/lib/python3.7/dist-packages (from spacy) (1.0.5)\n",
            "Requirement already satisfied: requests<3.0.0,>=2.13.0 in /usr/local/lib/python3.7/dist-packages (from spacy) (2.23.0)\n",
            "Requirement already satisfied: murmurhash<1.1.0,>=0.28.0 in /usr/local/lib/python3.7/dist-packages (from spacy) (1.0.5)\n",
            "Requirement already satisfied: cymem<2.1.0,>=2.0.2 in /usr/local/lib/python3.7/dist-packages (from spacy) (2.0.5)\n",
            "Requirement already satisfied: catalogue<1.1.0,>=0.0.7 in /usr/local/lib/python3.7/dist-packages (from spacy) (1.0.0)\n",
            "Requirement already satisfied: setuptools in /usr/local/lib/python3.7/dist-packages (from spacy) (57.4.0)\n",
            "Requirement already satisfied: plac<1.2.0,>=0.9.6 in /usr/local/lib/python3.7/dist-packages (from spacy) (1.1.3)\n",
            "Requirement already satisfied: tqdm<5.0.0,>=4.38.0 in /usr/local/lib/python3.7/dist-packages (from spacy) (4.62.2)\n",
            "Requirement already satisfied: thinc==7.4.0 in /usr/local/lib/python3.7/dist-packages (from spacy) (7.4.0)\n",
            "Requirement already satisfied: numpy>=1.15.0 in /usr/local/lib/python3.7/dist-packages (from spacy) (1.19.5)\n",
            "Requirement already satisfied: preshed<3.1.0,>=3.0.2 in /usr/local/lib/python3.7/dist-packages (from spacy) (3.0.5)\n",
            "Requirement already satisfied: wasabi<1.1.0,>=0.4.0 in /usr/local/lib/python3.7/dist-packages (from spacy) (0.8.2)\n",
            "Requirement already satisfied: importlib-metadata>=0.20 in /usr/local/lib/python3.7/dist-packages (from catalogue<1.1.0,>=0.0.7->spacy) (4.8.1)\n",
            "Requirement already satisfied: typing-extensions>=3.6.4 in /usr/local/lib/python3.7/dist-packages (from importlib-metadata>=0.20->catalogue<1.1.0,>=0.0.7->spacy) (3.7.4.3)\n",
            "Requirement already satisfied: zipp>=0.5 in /usr/local/lib/python3.7/dist-packages (from importlib-metadata>=0.20->catalogue<1.1.0,>=0.0.7->spacy) (3.5.0)\n",
            "Requirement already satisfied: idna<3,>=2.5 in /usr/local/lib/python3.7/dist-packages (from requests<3.0.0,>=2.13.0->spacy) (2.10)\n",
            "Requirement already satisfied: chardet<4,>=3.0.2 in /usr/local/lib/python3.7/dist-packages (from requests<3.0.0,>=2.13.0->spacy) (3.0.4)\n",
            "Requirement already satisfied: certifi>=2017.4.17 in /usr/local/lib/python3.7/dist-packages (from requests<3.0.0,>=2.13.0->spacy) (2021.5.30)\n",
            "Requirement already satisfied: urllib3!=1.25.0,!=1.25.1,<1.26,>=1.21.1 in /usr/local/lib/python3.7/dist-packages (from requests<3.0.0,>=2.13.0->spacy) (1.24.3)\n",
            "Collecting en_core_web_sm==2.2.5\n",
            "  Downloading https://github.com/explosion/spacy-models/releases/download/en_core_web_sm-2.2.5/en_core_web_sm-2.2.5.tar.gz (12.0 MB)\n",
            "\u001b[K     |████████████████████████████████| 12.0 MB 13.2 MB/s \n",
            "\u001b[?25hRequirement already satisfied: spacy>=2.2.2 in /usr/local/lib/python3.7/dist-packages (from en_core_web_sm==2.2.5) (2.2.4)\n",
            "Requirement already satisfied: numpy>=1.15.0 in /usr/local/lib/python3.7/dist-packages (from spacy>=2.2.2->en_core_web_sm==2.2.5) (1.19.5)\n",
            "Requirement already satisfied: blis<0.5.0,>=0.4.0 in /usr/local/lib/python3.7/dist-packages (from spacy>=2.2.2->en_core_web_sm==2.2.5) (0.4.1)\n",
            "Requirement already satisfied: preshed<3.1.0,>=3.0.2 in /usr/local/lib/python3.7/dist-packages (from spacy>=2.2.2->en_core_web_sm==2.2.5) (3.0.5)\n",
            "Requirement already satisfied: murmurhash<1.1.0,>=0.28.0 in /usr/local/lib/python3.7/dist-packages (from spacy>=2.2.2->en_core_web_sm==2.2.5) (1.0.5)\n",
            "Requirement already satisfied: requests<3.0.0,>=2.13.0 in /usr/local/lib/python3.7/dist-packages (from spacy>=2.2.2->en_core_web_sm==2.2.5) (2.23.0)\n",
            "Requirement already satisfied: wasabi<1.1.0,>=0.4.0 in /usr/local/lib/python3.7/dist-packages (from spacy>=2.2.2->en_core_web_sm==2.2.5) (0.8.2)\n",
            "Requirement already satisfied: setuptools in /usr/local/lib/python3.7/dist-packages (from spacy>=2.2.2->en_core_web_sm==2.2.5) (57.4.0)\n",
            "Requirement already satisfied: catalogue<1.1.0,>=0.0.7 in /usr/local/lib/python3.7/dist-packages (from spacy>=2.2.2->en_core_web_sm==2.2.5) (1.0.0)\n",
            "Requirement already satisfied: cymem<2.1.0,>=2.0.2 in /usr/local/lib/python3.7/dist-packages (from spacy>=2.2.2->en_core_web_sm==2.2.5) (2.0.5)\n",
            "Requirement already satisfied: thinc==7.4.0 in /usr/local/lib/python3.7/dist-packages (from spacy>=2.2.2->en_core_web_sm==2.2.5) (7.4.0)\n",
            "Requirement already satisfied: tqdm<5.0.0,>=4.38.0 in /usr/local/lib/python3.7/dist-packages (from spacy>=2.2.2->en_core_web_sm==2.2.5) (4.62.2)\n",
            "Requirement already satisfied: plac<1.2.0,>=0.9.6 in /usr/local/lib/python3.7/dist-packages (from spacy>=2.2.2->en_core_web_sm==2.2.5) (1.1.3)\n",
            "Requirement already satisfied: srsly<1.1.0,>=1.0.2 in /usr/local/lib/python3.7/dist-packages (from spacy>=2.2.2->en_core_web_sm==2.2.5) (1.0.5)\n",
            "Requirement already satisfied: importlib-metadata>=0.20 in /usr/local/lib/python3.7/dist-packages (from catalogue<1.1.0,>=0.0.7->spacy>=2.2.2->en_core_web_sm==2.2.5) (4.8.1)\n",
            "Requirement already satisfied: zipp>=0.5 in /usr/local/lib/python3.7/dist-packages (from importlib-metadata>=0.20->catalogue<1.1.0,>=0.0.7->spacy>=2.2.2->en_core_web_sm==2.2.5) (3.5.0)\n",
            "Requirement already satisfied: typing-extensions>=3.6.4 in /usr/local/lib/python3.7/dist-packages (from importlib-metadata>=0.20->catalogue<1.1.0,>=0.0.7->spacy>=2.2.2->en_core_web_sm==2.2.5) (3.7.4.3)\n",
            "Requirement already satisfied: idna<3,>=2.5 in /usr/local/lib/python3.7/dist-packages (from requests<3.0.0,>=2.13.0->spacy>=2.2.2->en_core_web_sm==2.2.5) (2.10)\n",
            "Requirement already satisfied: certifi>=2017.4.17 in /usr/local/lib/python3.7/dist-packages (from requests<3.0.0,>=2.13.0->spacy>=2.2.2->en_core_web_sm==2.2.5) (2021.5.30)\n",
            "Requirement already satisfied: urllib3!=1.25.0,!=1.25.1,<1.26,>=1.21.1 in /usr/local/lib/python3.7/dist-packages (from requests<3.0.0,>=2.13.0->spacy>=2.2.2->en_core_web_sm==2.2.5) (1.24.3)\n",
            "Requirement already satisfied: chardet<4,>=3.0.2 in /usr/local/lib/python3.7/dist-packages (from requests<3.0.0,>=2.13.0->spacy>=2.2.2->en_core_web_sm==2.2.5) (3.0.4)\n",
            "\u001b[38;5;2m✔ Download and installation successful\u001b[0m\n",
            "You can now load the model via spacy.load('en_core_web_sm')\n",
            "\u001b[38;5;2m✔ Linking successful\u001b[0m\n",
            "/usr/local/lib/python3.7/dist-packages/en_core_web_sm -->\n",
            "/usr/local/lib/python3.7/dist-packages/spacy/data/en\n",
            "You can now load the model via spacy.load('en')\n"
          ]
        }
      ]
    },
    {
      "cell_type": "code",
      "metadata": {
        "id": "d4oz7x7DfUwe"
      },
      "source": [
        "import spacy\n",
        "\n",
        "def get_lemmas(text): # без цифр и стоп слов\n",
        "    # nlp = spacy.load('en', disable=['parser', 'ner'])\n",
        "    doc = nlp(text.lower())\n",
        "    return \" \".join([token.lemma_ for token in doc if token.text in [\"no\", \"not\"] \\\n",
        "                     or not token.is_stop and token.is_alpha])\n"
      ],
      "execution_count": 46,
      "outputs": []
    },
    {
      "cell_type": "code",
      "metadata": {
        "id": "RhFOEztzfUzQ"
      },
      "source": [
        "nlp = spacy.load('en', disable=['parser', 'ner'])\n",
        "df['lemmatized_isalpha'] = df['without_punc'].apply(get_lemmas)"
      ],
      "execution_count": 47,
      "outputs": []
    },
    {
      "cell_type": "code",
      "metadata": {
        "id": "stkpsYFjhBeC"
      },
      "source": [
        ""
      ],
      "execution_count": null,
      "outputs": []
    },
    {
      "cell_type": "code",
      "metadata": {
        "id": "PrzOqY82gq5G"
      },
      "source": [
        "df.drop(['product_description', 'without_punc'], inplace=True, axis=1)"
      ],
      "execution_count": 48,
      "outputs": []
    },
    {
      "cell_type": "code",
      "metadata": {
        "colab": {
          "base_uri": "https://localhost:8080/",
          "height": 360
        },
        "id": "rfdt-jX5jGrx",
        "outputId": "36ba9f2d-8d69-4a2f-d355-ad5bce145580"
      },
      "source": [
        "df.head()"
      ],
      "execution_count": 49,
      "outputs": [
        {
          "output_type": "execute_result",
          "data": {
            "text/html": [
              "<div>\n",
              "<style scoped>\n",
              "    .dataframe tbody tr th:only-of-type {\n",
              "        vertical-align: middle;\n",
              "    }\n",
              "\n",
              "    .dataframe tbody tr th {\n",
              "        vertical-align: top;\n",
              "    }\n",
              "\n",
              "    .dataframe thead th {\n",
              "        text-align: right;\n",
              "    }\n",
              "</style>\n",
              "<table border=\"1\" class=\"dataframe\">\n",
              "  <thead>\n",
              "    <tr style=\"text-align: right;\">\n",
              "      <th></th>\n",
              "      <th>price</th>\n",
              "      <th>description_len</th>\n",
              "      <th>num_of_tokens</th>\n",
              "      <th>num_of_caps</th>\n",
              "      <th>num_of_nonalpha</th>\n",
              "      <th>lemmatized_isalpha</th>\n",
              "    </tr>\n",
              "  </thead>\n",
              "  <tbody>\n",
              "    <tr>\n",
              "      <th>0</th>\n",
              "      <td>279.0</td>\n",
              "      <td>220</td>\n",
              "      <td>35</td>\n",
              "      <td>9</td>\n",
              "      <td>0</td>\n",
              "      <td>elevate style classy pair run shoe house clymb...</td>\n",
              "    </tr>\n",
              "    <tr>\n",
              "      <th>1</th>\n",
              "      <td>479.0</td>\n",
              "      <td>76</td>\n",
              "      <td>14</td>\n",
              "      <td>2</td>\n",
              "      <td>0</td>\n",
              "      <td>product excellent pick ensure easy maintenance</td>\n",
              "    </tr>\n",
              "    <tr>\n",
              "      <th>2</th>\n",
              "      <td>430.0</td>\n",
              "      <td>390</td>\n",
              "      <td>70</td>\n",
              "      <td>7</td>\n",
              "      <td>0</td>\n",
              "      <td>flaunt stylish unique red casual shoe late fas...</td>\n",
              "    </tr>\n",
              "    <tr>\n",
              "      <th>3</th>\n",
              "      <td>499.0</td>\n",
              "      <td>564</td>\n",
              "      <td>99</td>\n",
              "      <td>100</td>\n",
              "      <td>0</td>\n",
              "      <td>robbie jones shoe design keep mind durability ...</td>\n",
              "    </tr>\n",
              "    <tr>\n",
              "      <th>4</th>\n",
              "      <td>499.0</td>\n",
              "      <td>1018</td>\n",
              "      <td>171</td>\n",
              "      <td>18</td>\n",
              "      <td>0</td>\n",
              "      <td>sparx spectacular range footwear house relaxo ...</td>\n",
              "    </tr>\n",
              "  </tbody>\n",
              "</table>\n",
              "</div>"
            ],
            "text/plain": [
              "   price  ...                                 lemmatized_isalpha\n",
              "0  279.0  ...  elevate style classy pair run shoe house clymb...\n",
              "1  479.0  ...     product excellent pick ensure easy maintenance\n",
              "2  430.0  ...  flaunt stylish unique red casual shoe late fas...\n",
              "3  499.0  ...  robbie jones shoe design keep mind durability ...\n",
              "4  499.0  ...  sparx spectacular range footwear house relaxo ...\n",
              "\n",
              "[5 rows x 6 columns]"
            ]
          },
          "metadata": {},
          "execution_count": 49
        }
      ]
    },
    {
      "cell_type": "code",
      "metadata": {
        "id": "JxmpVoR-ix99"
      },
      "source": [
        "df.to_csv('/content/drive/My Drive/shoes_for_regr.csv', index=None)"
      ],
      "execution_count": 50,
      "outputs": []
    },
    {
      "cell_type": "code",
      "metadata": {
        "colab": {
          "base_uri": "https://localhost:8080/",
          "height": 337
        },
        "id": "X-cLRHYWpJiz",
        "outputId": "085418e1-0795-422c-bf8d-58b8b50fcf03"
      },
      "source": [
        "fig, ax = plt.subplots(figsize=(10,5))\n",
        "sns.heatmap(data=df[['price', 'description_len', \n",
        "                    'num_of_tokens', 'num_of_caps', \n",
        "                    'num_of_nonalpha']].corr(), \n",
        "            annot=True, ax=ax)\n",
        "plt.title(\"Корреляция\")\n",
        "plt.show()"
      ],
      "execution_count": 51,
      "outputs": [
        {
          "output_type": "display_data",
          "data": {
            "image/png": "[encoded data removed]",
            "text/plain": [
              "<Figure size 720x360 with 2 Axes>"
            ]
          },
          "metadata": {
            "needs_background": "light"
          }
        }
      ]
    },
    {
      "cell_type": "markdown",
      "metadata": {
        "id": "8L71VIoAp5FH"
      },
      "source": [
        "description_len и num_of_tokens сильно коррелированы, что логично, у остальных колонок все норм\n",
        "\n",
        "кажется, что достаточно одной из этих колонок про длину описания, поэтому удалю одну из них, например num_of_tokens"
      ]
    },
    {
      "cell_type": "code",
      "metadata": {
        "id": "0IajnIi0qf8y"
      },
      "source": [
        "df.drop(['num_of_tokens'], inplace=True, axis=1)"
      ],
      "execution_count": 52,
      "outputs": []
    },
    {
      "cell_type": "markdown",
      "metadata": {
        "id": "U3LjdXUt9bQ2"
      },
      "source": [
        "\n",
        "график для цены"
      ]
    },
    {
      "cell_type": "code",
      "metadata": {
        "id": "5b5ZTkID92xK"
      },
      "source": [
        "import seaborn as sns\n",
        "import matplotlib.pyplot as plt\n",
        "%matplotlib inline"
      ],
      "execution_count": 23,
      "outputs": []
    },
    {
      "cell_type": "code",
      "metadata": {
        "colab": {
          "base_uri": "https://localhost:8080/",
          "height": 265
        },
        "id": "IfBpE-PU6g9Z",
        "outputId": "b0d816e9-9d48-4783-cd83-ab0d84669f07"
      },
      "source": [
        "ax = sns.boxplot(data=df['price'])"
      ],
      "execution_count": null,
      "outputs": [
        {
          "output_type": "display_data",
          "data": {
            "image/png": "[encoded data removed]",
            "text/plain": [
              "<Figure size 432x288 with 1 Axes>"
            ]
          },
          "metadata": {
            "needs_background": "light"
          }
        }
      ]
    },
    {
      "cell_type": "code",
      "metadata": {
        "colab": {
          "base_uri": "https://localhost:8080/",
          "height": 297
        },
        "id": "RFZmC2C7-Kqs",
        "outputId": "890df821-0a56-413a-9590-5c799685c760"
      },
      "source": [
        "df.describe()"
      ],
      "execution_count": null,
      "outputs": [
        {
          "output_type": "execute_result",
          "data": {
            "text/html": [
              "<div>\n",
              "<style scoped>\n",
              "    .dataframe tbody tr th:only-of-type {\n",
              "        vertical-align: middle;\n",
              "    }\n",
              "\n",
              "    .dataframe tbody tr th {\n",
              "        vertical-align: top;\n",
              "    }\n",
              "\n",
              "    .dataframe thead th {\n",
              "        text-align: right;\n",
              "    }\n",
              "</style>\n",
              "<table border=\"1\" class=\"dataframe\">\n",
              "  <thead>\n",
              "    <tr style=\"text-align: right;\">\n",
              "      <th></th>\n",
              "      <th>price</th>\n",
              "    </tr>\n",
              "  </thead>\n",
              "  <tbody>\n",
              "    <tr>\n",
              "      <th>count</th>\n",
              "      <td>969.000000</td>\n",
              "    </tr>\n",
              "    <tr>\n",
              "      <th>mean</th>\n",
              "      <td>1824.450970</td>\n",
              "    </tr>\n",
              "    <tr>\n",
              "      <th>std</th>\n",
              "      <td>1585.271507</td>\n",
              "    </tr>\n",
              "    <tr>\n",
              "      <th>min</th>\n",
              "      <td>127.000000</td>\n",
              "    </tr>\n",
              "    <tr>\n",
              "      <th>25%</th>\n",
              "      <td>575.000000</td>\n",
              "    </tr>\n",
              "    <tr>\n",
              "      <th>50%</th>\n",
              "      <td>1430.000000</td>\n",
              "    </tr>\n",
              "    <tr>\n",
              "      <th>75%</th>\n",
              "      <td>2474.000000</td>\n",
              "    </tr>\n",
              "    <tr>\n",
              "      <th>max</th>\n",
              "      <td>7992.000000</td>\n",
              "    </tr>\n",
              "  </tbody>\n",
              "</table>\n",
              "</div>"
            ],
            "text/plain": [
              "             price\n",
              "count   969.000000\n",
              "mean   1824.450970\n",
              "std    1585.271507\n",
              "min     127.000000\n",
              "25%     575.000000\n",
              "50%    1430.000000\n",
              "75%    2474.000000\n",
              "max    7992.000000"
            ]
          },
          "metadata": {},
          "execution_count": 56
        }
      ]
    },
    {
      "cell_type": "markdown",
      "metadata": {
        "id": "Jf3UOm5f--WM"
      },
      "source": [
        "видно, что основная масса товаров стоит до 2474 (75% квантиль), но есть значительно меньшее кол-во товаров с высокими ценами\n",
        "\n",
        "это скорее всего будет портить результаты регресии"
      ]
    },
    {
      "cell_type": "markdown",
      "metadata": {
        "id": "iW1LA3W_iQZk"
      },
      "source": [
        "vectorization"
      ]
    },
    {
      "cell_type": "code",
      "metadata": {
        "id": "HNOQgAtemVRU"
      },
      "source": [
        "from sklearn.feature_extraction.text import CountVectorizer, TfidfVectorizer\n",
        "from sklearn.model_selection import train_test_split"
      ],
      "execution_count": 53,
      "outputs": []
    },
    {
      "cell_type": "code",
      "metadata": {
        "id": "51dSnsclmNZk"
      },
      "source": [
        "from sklearn.metrics import mean_squared_error\n",
        "from sklearn.metrics import mean_absolute_error"
      ],
      "execution_count": 54,
      "outputs": []
    },
    {
      "cell_type": "code",
      "metadata": {
        "id": "4mJG0DLbjRA0"
      },
      "source": [
        "df = pd.read_csv('/content/drive/My Drive/shoes_for_regr.csv')"
      ],
      "execution_count": 55,
      "outputs": []
    },
    {
      "cell_type": "markdown",
      "metadata": {
        "id": "t497I6YqkAst"
      },
      "source": [
        "BoW (CountVectorizer)"
      ]
    },
    {
      "cell_type": "markdown",
      "metadata": {
        "id": "CtbKILoAkqvY"
      },
      "source": [
        "сначала с дефолтными параметрами"
      ]
    },
    {
      "cell_type": "code",
      "metadata": {
        "id": "eIzT-lMskqWM"
      },
      "source": [
        "cv = CountVectorizer()\n",
        "\n",
        "\n",
        "X = np.concatenate((cv.fit_transform(df.lemmatized_isalpha).toarray(), \n",
        "                    df[['description_len', 'num_of_caps', 'num_of_nonalpha']].to_numpy()), \n",
        "                   axis=1)\n",
        "\n",
        "y = df.price.values"
      ],
      "execution_count": 56,
      "outputs": []
    },
    {
      "cell_type": "code",
      "metadata": {
        "id": "3TTL5gSpl_vV"
      },
      "source": [
        "X_train, X_test, y_train, y_test = train_test_split(X, y, random_state=42)"
      ],
      "execution_count": 57,
      "outputs": []
    },
    {
      "cell_type": "code",
      "metadata": {
        "colab": {
          "base_uri": "https://localhost:8080/"
        },
        "id": "-F1pv9YSuSSG",
        "outputId": "9bbc6653-d2a5-444a-ebf4-f658e0d3d89b"
      },
      "source": [
        "X.shape"
      ],
      "execution_count": 58,
      "outputs": [
        {
          "output_type": "execute_result",
          "data": {
            "text/plain": [
              "(966, 3457)"
            ]
          },
          "metadata": {},
          "execution_count": 58
        }
      ]
    },
    {
      "cell_type": "markdown",
      "metadata": {
        "id": "wl2FX3nNAq2A"
      },
      "source": [
        "tf-idf"
      ]
    },
    {
      "cell_type": "code",
      "metadata": {
        "id": "MtyBprYOAqUy"
      },
      "source": [
        "vectorizer = TfidfVectorizer()\n",
        "X_tfidf = np.concatenate((vectorizer.fit_transform(df.lemmatized_isalpha).toarray(), \n",
        "                    df[['description_len', 'num_of_caps', 'num_of_nonalpha']].to_numpy()), \n",
        "                   axis=1)\n",
        "X_train_tfidf, X_test_tfidf, y_train_tfidf, y_test_tfidf = train_test_split(X_tfidf, y, random_state=42)"
      ],
      "execution_count": 59,
      "outputs": []
    },
    {
      "cell_type": "code",
      "metadata": {
        "colab": {
          "base_uri": "https://localhost:8080/"
        },
        "id": "uui0rOASAqPm",
        "outputId": "d3cb055f-bdef-4d09-e08a-4e285478d23d"
      },
      "source": [
        "X_tfidf.shape"
      ],
      "execution_count": 60,
      "outputs": [
        {
          "output_type": "execute_result",
          "data": {
            "text/plain": [
              "(966, 3457)"
            ]
          },
          "metadata": {},
          "execution_count": 60
        }
      ]
    },
    {
      "cell_type": "code",
      "metadata": {
        "id": "mwiOVN7Wm_s1"
      },
      "source": [
        "from sklearn.linear_model import LinearRegression, Ridge"
      ],
      "execution_count": 61,
      "outputs": []
    },
    {
      "cell_type": "markdown",
      "metadata": {
        "id": "6H9rm9zdxI96"
      },
      "source": [
        "## грид серч\n",
        "\n",
        "для ridge"
      ]
    },
    {
      "cell_type": "code",
      "metadata": {
        "id": "m4Yg2Xu4xIP3"
      },
      "source": [
        "from sklearn.model_selection import GridSearchCV"
      ],
      "execution_count": 16,
      "outputs": []
    },
    {
      "cell_type": "code",
      "metadata": {
        "colab": {
          "base_uri": "https://localhost:8080/"
        },
        "id": "QUHZNTBcxIMX",
        "outputId": "7f6d6e46-85ea-41fa-eb96-3eb494e79e69"
      },
      "source": [
        "parameters = {'alpha': [x / 10.0 for x in range(1, 10)] + list(range(1, 20)), \n",
        "              'fit_intercept':[False, True], \n",
        "              'normalize':[False, True]}\n",
        "regressor = Ridge()\n",
        "reg = GridSearchCV(regressor, parameters, scoring='neg_mean_absolute_error')\n",
        "reg.fit(X_train, y_train)\n"
      ],
      "execution_count": 277,
      "outputs": [
        {
          "output_type": "execute_result",
          "data": {
            "text/plain": [
              "GridSearchCV(cv=None, error_score=nan,\n",
              "             estimator=Ridge(alpha=1.0, copy_X=True, fit_intercept=True,\n",
              "                             max_iter=None, normalize=False, random_state=None,\n",
              "                             solver='auto', tol=0.001),\n",
              "             iid='deprecated', n_jobs=None,\n",
              "             param_grid={'alpha': [0.1, 0.2, 0.3, 0.4, 0.5, 0.6, 0.7, 0.8, 0.9,\n",
              "                                   1, 2, 3, 4, 5, 6, 7, 8, 9, 10, 11, 12, 13,\n",
              "                                   14, 15, 16, 17, 18, 19],\n",
              "                         'fit_intercept': [False, True],\n",
              "                         'normalize': [False, True]},\n",
              "             pre_dispatch='2*n_jobs', refit=True, return_train_score=False,\n",
              "             scoring='neg_mean_absolute_error', verbose=0)"
            ]
          },
          "metadata": {},
          "execution_count": 277
        }
      ]
    },
    {
      "cell_type": "code",
      "metadata": {
        "colab": {
          "base_uri": "https://localhost:8080/"
        },
        "id": "WWUOaNE92vzX",
        "outputId": "eb9311ee-e6af-4940-9f2d-bc3338c472f2"
      },
      "source": [
        "print(reg.best_params_)\n",
        "reg.best_score_"
      ],
      "execution_count": 278,
      "outputs": [
        {
          "output_type": "stream",
          "name": "stdout",
          "text": [
            "{'alpha': 0.8, 'fit_intercept': True, 'normalize': True}\n"
          ]
        },
        {
          "output_type": "execute_result",
          "data": {
            "text/plain": [
              "-810.1461935445975"
            ]
          },
          "metadata": {},
          "execution_count": 278
        }
      ]
    },
    {
      "cell_type": "code",
      "metadata": {
        "id": "N6d90UFC47dB"
      },
      "source": [
        "\n",
        "best_model = reg.best_estimator_\n"
      ],
      "execution_count": 279,
      "outputs": []
    },
    {
      "cell_type": "code",
      "metadata": {
        "colab": {
          "base_uri": "https://localhost:8080/"
        },
        "id": "0PGvoyBy5XaB",
        "outputId": "acf21a75-ce67-47fd-d3fa-c3382a9a5173"
      },
      "source": [
        "preds = best_model.predict(X_test)\n",
        "print(\"mae\", mean_absolute_error(y_test, preds))"
      ],
      "execution_count": 280,
      "outputs": [
        {
          "output_type": "stream",
          "name": "stdout",
          "text": [
            "mae 795.3367322303253\n"
          ]
        }
      ]
    },
    {
      "cell_type": "markdown",
      "metadata": {
        "id": "x33HcOD0BQkV"
      },
      "source": [
        "или с tfidf:"
      ]
    },
    {
      "cell_type": "code",
      "metadata": {
        "colab": {
          "base_uri": "https://localhost:8080/"
        },
        "id": "p1vnnbT5BTUM",
        "outputId": "a3c8eae7-6bd9-48a8-e108-e69df463b9e0"
      },
      "source": [
        "parameters = {'alpha': [x / 10.0 for x in range(1, 10)] + list(range(1, 20)), \n",
        "              'fit_intercept':[False, True], \n",
        "              'normalize':[False, True]}\n",
        "regressor = Ridge()\n",
        "reg = GridSearchCV(regressor, parameters, scoring='neg_mean_absolute_error')\n",
        "reg.fit(X_train_tfidf, y_train_tfidf)"
      ],
      "execution_count": 295,
      "outputs": [
        {
          "output_type": "execute_result",
          "data": {
            "text/plain": [
              "GridSearchCV(cv=None, error_score=nan,\n",
              "             estimator=Ridge(alpha=1.0, copy_X=True, fit_intercept=True,\n",
              "                             max_iter=None, normalize=False, random_state=None,\n",
              "                             solver='auto', tol=0.001),\n",
              "             iid='deprecated', n_jobs=None,\n",
              "             param_grid={'alpha': [0.1, 0.2, 0.3, 0.4, 0.5, 0.6, 0.7, 0.8, 0.9,\n",
              "                                   1, 2, 3, 4, 5, 6, 7, 8, 9, 10, 11, 12, 13,\n",
              "                                   14, 15, 16, 17, 18, 19],\n",
              "                         'fit_intercept': [False, True],\n",
              "                         'normalize': [False, True]},\n",
              "             pre_dispatch='2*n_jobs', refit=True, return_train_score=False,\n",
              "             scoring='neg_mean_absolute_error', verbose=0)"
            ]
          },
          "metadata": {},
          "execution_count": 295
        }
      ]
    },
    {
      "cell_type": "code",
      "metadata": {
        "colab": {
          "base_uri": "https://localhost:8080/"
        },
        "id": "8ZcvzxRiBTPs",
        "outputId": "ebf25fb7-aa86-4df4-d9eb-21caa5cf9ebb"
      },
      "source": [
        "preds = reg.best_estimator_.predict(X_test_tfidf)\n",
        "print(\"mae\", mean_absolute_error(y_test_tfidf, preds))"
      ],
      "execution_count": 296,
      "outputs": [
        {
          "output_type": "stream",
          "name": "stdout",
          "text": [
            "mae 752.9069135489716\n"
          ]
        }
      ]
    },
    {
      "cell_type": "markdown",
      "metadata": {
        "id": "O3tKMbNRDgwo"
      },
      "source": [
        "с tfidf стало немного лучше"
      ]
    },
    {
      "cell_type": "markdown",
      "metadata": {
        "id": "tKXlPudI8ulf"
      },
      "source": [
        "## грид серч\n",
        "\n",
        "для LinearRegression()"
      ]
    },
    {
      "cell_type": "markdown",
      "metadata": {
        "id": "57ypWNiWPmoi"
      },
      "source": [
        "хочется проверить, что будет, если взять модель без регуляризации"
      ]
    },
    {
      "cell_type": "code",
      "metadata": {
        "colab": {
          "base_uri": "https://localhost:8080/"
        },
        "id": "bmSGD88E8F6X",
        "outputId": "d69d30c9-fa36-454c-bf72-cecc32a3cabf"
      },
      "source": [
        "parameters = {'fit_intercept':[False, True], \n",
        "              'normalize':[False, True]}\n",
        "\n",
        "regressor = LinearRegression()\n",
        "reg = GridSearchCV(regressor, parameters, scoring='neg_mean_absolute_error')\n",
        "reg.fit(X_train, y_train)\n",
        "print(reg.best_params_)\n",
        "print(reg.best_score_)"
      ],
      "execution_count": 297,
      "outputs": [
        {
          "output_type": "stream",
          "name": "stdout",
          "text": [
            "{'fit_intercept': False, 'normalize': False}\n",
            "-91329.8736525923\n"
          ]
        }
      ]
    },
    {
      "cell_type": "code",
      "metadata": {
        "id": "ynDcH3Hr8F3F"
      },
      "source": [
        "best_model = reg.best_estimator_"
      ],
      "execution_count": 298,
      "outputs": []
    },
    {
      "cell_type": "code",
      "metadata": {
        "colab": {
          "base_uri": "https://localhost:8080/"
        },
        "id": "qw8TEiwq8Fzk",
        "outputId": "b91f85fa-4116-446d-ee27-d7ed27e4db66"
      },
      "source": [
        "preds = best_model.predict(X_test)\n",
        "print(\"mae\", mean_absolute_error(y_test, preds))"
      ],
      "execution_count": 299,
      "outputs": [
        {
          "output_type": "stream",
          "name": "stdout",
          "text": [
            "mae 14099.339477567588\n"
          ]
        }
      ]
    },
    {
      "cell_type": "markdown",
      "metadata": {
        "id": "B0h2dYokBypH"
      },
      "source": [
        "или с tfidf:"
      ]
    },
    {
      "cell_type": "code",
      "metadata": {
        "colab": {
          "base_uri": "https://localhost:8080/"
        },
        "id": "juKpDhPlBypI",
        "outputId": "416eef36-e84a-4502-c0f8-2f4964f2f002"
      },
      "source": [
        "regressor = LinearRegression()\n",
        "reg = GridSearchCV(regressor, parameters, scoring='neg_mean_absolute_error')\n",
        "reg.fit(X_train_tfidf, y_train_tfidf)"
      ],
      "execution_count": 300,
      "outputs": [
        {
          "output_type": "execute_result",
          "data": {
            "text/plain": [
              "GridSearchCV(cv=None, error_score=nan,\n",
              "             estimator=LinearRegression(copy_X=True, fit_intercept=True,\n",
              "                                        n_jobs=None, normalize=False),\n",
              "             iid='deprecated', n_jobs=None,\n",
              "             param_grid={'fit_intercept': [False, True],\n",
              "                         'normalize': [False, True]},\n",
              "             pre_dispatch='2*n_jobs', refit=True, return_train_score=False,\n",
              "             scoring='neg_mean_absolute_error', verbose=0)"
            ]
          },
          "metadata": {},
          "execution_count": 300
        }
      ]
    },
    {
      "cell_type": "code",
      "metadata": {
        "colab": {
          "base_uri": "https://localhost:8080/"
        },
        "id": "4lwtuIpzBypI",
        "outputId": "8ed4030d-6a57-4daf-aade-f7f3ed50ef92"
      },
      "source": [
        "preds = reg.best_estimator_.predict(X_test_tfidf)\n",
        "print(\"mae\", mean_absolute_error(y_test_tfidf, preds))"
      ],
      "execution_count": 301,
      "outputs": [
        {
          "output_type": "stream",
          "name": "stdout",
          "text": [
            "mae 5115.30575915027\n"
          ]
        }
      ]
    },
    {
      "cell_type": "markdown",
      "metadata": {
        "id": "QfsoT_rlEPnI"
      },
      "source": [
        "просто линейная регрессия без регуляризации работает ужасно"
      ]
    },
    {
      "cell_type": "markdown",
      "metadata": {
        "id": "QjSxX7PuCRIZ"
      },
      "source": [
        "в целом выходит, что из векторайзеров лучший - tfidf"
      ]
    },
    {
      "cell_type": "markdown",
      "metadata": {
        "id": "H6YbOH3GEo71"
      },
      "source": [
        "# задание 2"
      ]
    },
    {
      "cell_type": "markdown",
      "metadata": {
        "id": "H3Lwv3BVEygN"
      },
      "source": [
        "\n",
        "Предсказать оценку товара пользователем по его отзыву (для каждого отзыва)"
      ]
    },
    {
      "cell_type": "code",
      "metadata": {
        "id": "emXye0A7oIXN"
      },
      "source": [
        "df = pd.read_csv('/content/drive/My Drive/my_shoes_data.csv')"
      ],
      "execution_count": 16,
      "outputs": []
    },
    {
      "cell_type": "code",
      "metadata": {
        "id": "SHsEQXiloITM"
      },
      "source": [
        "df = df[['reviews', 'reviews_rating']]"
      ],
      "execution_count": 17,
      "outputs": []
    },
    {
      "cell_type": "code",
      "metadata": {
        "colab": {
          "base_uri": "https://localhost:8080/",
          "height": 204
        },
        "id": "S6jZglgSkz5r",
        "outputId": "4e377dd1-d85a-4e89-b604-970692f2270d"
      },
      "source": [
        "df.head()"
      ],
      "execution_count": 18,
      "outputs": [
        {
          "output_type": "execute_result",
          "data": {
            "text/html": [
              "<div>\n",
              "<style scoped>\n",
              "    .dataframe tbody tr th:only-of-type {\n",
              "        vertical-align: middle;\n",
              "    }\n",
              "\n",
              "    .dataframe tbody tr th {\n",
              "        vertical-align: top;\n",
              "    }\n",
              "\n",
              "    .dataframe thead th {\n",
              "        text-align: right;\n",
              "    }\n",
              "</style>\n",
              "<table border=\"1\" class=\"dataframe\">\n",
              "  <thead>\n",
              "    <tr style=\"text-align: right;\">\n",
              "      <th></th>\n",
              "      <th>reviews</th>\n",
              "      <th>reviews_rating</th>\n",
              "    </tr>\n",
              "  </thead>\n",
              "  <tbody>\n",
              "    <tr>\n",
              "      <th>0</th>\n",
              "      <td>Not happy with product|| It's not as expected....</td>\n",
              "      <td>1.0 out of 5 stars|| 1.0 out of 5 stars|| 3.0 ...</td>\n",
              "    </tr>\n",
              "    <tr>\n",
              "      <th>1</th>\n",
              "      <td>Memory cushioning in these shoes is the best f...</td>\n",
              "      <td>5.0 out of 5 stars|| 1.0 out of 5 stars|| 5.0 ...</td>\n",
              "    </tr>\n",
              "    <tr>\n",
              "      <th>2</th>\n",
              "      <td>Worth to its amount|| Go for it|| Perfect|| 5 ...</td>\n",
              "      <td>5.0 out of 5 stars|| 5.0 out of 5 stars|| 5.0 ...</td>\n",
              "    </tr>\n",
              "    <tr>\n",
              "      <th>3</th>\n",
              "      <td>Sup quality|| Good but not expected|| Awesome 👌.!</td>\n",
              "      <td>5.0 out of 5 stars|| 3.0 out of 5 stars|| 5.0 ...</td>\n",
              "    </tr>\n",
              "    <tr>\n",
              "      <th>4</th>\n",
              "      <td>Best|| Satisfied!|| Affordable beauty 😘😘😘😘 the...</td>\n",
              "      <td>5.0 out of 5 stars|| 5.0 out of 5 stars|| 5.0 ...</td>\n",
              "    </tr>\n",
              "  </tbody>\n",
              "</table>\n",
              "</div>"
            ],
            "text/plain": [
              "                                             reviews                                     reviews_rating\n",
              "0  Not happy with product|| It's not as expected....  1.0 out of 5 stars|| 1.0 out of 5 stars|| 3.0 ...\n",
              "1  Memory cushioning in these shoes is the best f...  5.0 out of 5 stars|| 1.0 out of 5 stars|| 5.0 ...\n",
              "2  Worth to its amount|| Go for it|| Perfect|| 5 ...  5.0 out of 5 stars|| 5.0 out of 5 stars|| 5.0 ...\n",
              "3  Sup quality|| Good but not expected|| Awesome 👌.!  5.0 out of 5 stars|| 3.0 out of 5 stars|| 5.0 ...\n",
              "4  Best|| Satisfied!|| Affordable beauty 😘😘😘😘 the...  5.0 out of 5 stars|| 5.0 out of 5 stars|| 5.0 ..."
            ]
          },
          "metadata": {},
          "execution_count": 18
        }
      ]
    },
    {
      "cell_type": "code",
      "metadata": {
        "id": "kL15ujmhIrG6"
      },
      "source": [
        "df = df.apply(lambda x: x.str.split('\\|\\|').explode()).reset_index()\n",
        "df = df[['reviews', 'reviews_rating']]"
      ],
      "execution_count": 19,
      "outputs": []
    },
    {
      "cell_type": "code",
      "metadata": {
        "colab": {
          "base_uri": "https://localhost:8080/",
          "height": 204
        },
        "id": "mmKhGlaZKAwT",
        "outputId": "3601e204-b4b1-498d-8895-87e0d0aa7cc1"
      },
      "source": [
        "df.head(5)"
      ],
      "execution_count": 20,
      "outputs": [
        {
          "output_type": "execute_result",
          "data": {
            "text/html": [
              "<div>\n",
              "<style scoped>\n",
              "    .dataframe tbody tr th:only-of-type {\n",
              "        vertical-align: middle;\n",
              "    }\n",
              "\n",
              "    .dataframe tbody tr th {\n",
              "        vertical-align: top;\n",
              "    }\n",
              "\n",
              "    .dataframe thead th {\n",
              "        text-align: right;\n",
              "    }\n",
              "</style>\n",
              "<table border=\"1\" class=\"dataframe\">\n",
              "  <thead>\n",
              "    <tr style=\"text-align: right;\">\n",
              "      <th></th>\n",
              "      <th>reviews</th>\n",
              "      <th>reviews_rating</th>\n",
              "    </tr>\n",
              "  </thead>\n",
              "  <tbody>\n",
              "    <tr>\n",
              "      <th>0</th>\n",
              "      <td>Not happy with product</td>\n",
              "      <td>1.0 out of 5 stars</td>\n",
              "    </tr>\n",
              "    <tr>\n",
              "      <th>1</th>\n",
              "      <td>It's not as expected.</td>\n",
              "      <td>1.0 out of 5 stars</td>\n",
              "    </tr>\n",
              "    <tr>\n",
              "      <th>2</th>\n",
              "      <td>AVERAGE PRODUCT</td>\n",
              "      <td>3.0 out of 5 stars</td>\n",
              "    </tr>\n",
              "    <tr>\n",
              "      <th>3</th>\n",
              "      <td>Pic more beautiful</td>\n",
              "      <td>3.0 out of 5 stars</td>\n",
              "    </tr>\n",
              "    <tr>\n",
              "      <th>4</th>\n",
              "      <td>Got damage product. But quality is average fo...</td>\n",
              "      <td>3.0 out of 5 stars</td>\n",
              "    </tr>\n",
              "  </tbody>\n",
              "</table>\n",
              "</div>"
            ],
            "text/plain": [
              "                                             reviews       reviews_rating\n",
              "0                             Not happy with product   1.0 out of 5 stars\n",
              "1                              It's not as expected.   1.0 out of 5 stars\n",
              "2                                    AVERAGE PRODUCT   3.0 out of 5 stars\n",
              "3                                 Pic more beautiful   3.0 out of 5 stars\n",
              "4   Got damage product. But quality is average fo...   3.0 out of 5 stars"
            ]
          },
          "metadata": {},
          "execution_count": 20
        }
      ]
    },
    {
      "cell_type": "code",
      "metadata": {
        "id": "0woTsKywKby4"
      },
      "source": [
        "df.reviews_rating = df.reviews_rating.str.strip()"
      ],
      "execution_count": 21,
      "outputs": []
    },
    {
      "cell_type": "code",
      "metadata": {
        "id": "lEC09UDSKrhj"
      },
      "source": [
        "df.reviews = df.reviews.str.strip()"
      ],
      "execution_count": 22,
      "outputs": []
    },
    {
      "cell_type": "code",
      "metadata": {
        "colab": {
          "base_uri": "https://localhost:8080/"
        },
        "id": "trmcWEbgKwMa",
        "outputId": "f73685aa-65db-4727-9380-3debf2cf10fb"
      },
      "source": [
        "df.reviews_rating.unique()"
      ],
      "execution_count": 23,
      "outputs": [
        {
          "output_type": "execute_result",
          "data": {
            "text/plain": [
              "array(['1.0 out of 5 stars', '3.0 out of 5 stars', '2.0 out of 5 stars',\n",
              "       '5.0 out of 5 stars', '4.0 out of 5 stars'], dtype=object)"
            ]
          },
          "metadata": {},
          "execution_count": 23
        }
      ]
    },
    {
      "cell_type": "markdown",
      "metadata": {
        "id": "R2Zf7-6zIjr5"
      },
      "source": [
        "препроцессинг ранее определенными функциями"
      ]
    },
    {
      "cell_type": "code",
      "metadata": {
        "id": "exQ3Jd5bK5R8"
      },
      "source": [
        "df['without_punc'] = df['reviews'].apply(delete_trash)"
      ],
      "execution_count": 24,
      "outputs": []
    },
    {
      "cell_type": "code",
      "metadata": {
        "id": "Z_9cwtroLHF9"
      },
      "source": [
        "df['review_len'] = df['without_punc'].apply(len)\n",
        "\n",
        "df['num_of_caps'] = df['without_punc'].apply(lambda x: len([ch for ch in x if ch.isupper()]))\n",
        "\n",
        "# num of emojis and !\n",
        "df['num_of_nonalpha'] = df['without_punc'].apply(lambda x: len([ch for ch in x if not ch.isalnum() and not ch == \" \"]))\n",
        "# isalnum - checks if every symbol is number or letter"
      ],
      "execution_count": 25,
      "outputs": []
    },
    {
      "cell_type": "code",
      "metadata": {
        "colab": {
          "base_uri": "https://localhost:8080/"
        },
        "id": "GOp--rYyN4VD",
        "outputId": "5df76b9f-ba1a-41f6-dece-a9335b8b4ee6"
      },
      "source": [
        "df.num_of_nonalpha.unique()"
      ],
      "execution_count": 26,
      "outputs": [
        {
          "output_type": "execute_result",
          "data": {
            "text/plain": [
              "array([ 0,  1,  2,  5,  3,  6,  4,  7,  8, 10, 12])"
            ]
          },
          "metadata": {},
          "execution_count": 26
        }
      ]
    },
    {
      "cell_type": "code",
      "metadata": {
        "colab": {
          "base_uri": "https://localhost:8080/"
        },
        "id": "b-zngUrPOPqy",
        "outputId": "d7b31575-19f1-48f6-e4cb-390a79b1e36a"
      },
      "source": [
        "df.shape"
      ],
      "execution_count": 27,
      "outputs": [
        {
          "output_type": "execute_result",
          "data": {
            "text/plain": [
              "(8208, 6)"
            ]
          },
          "metadata": {},
          "execution_count": 27
        }
      ]
    },
    {
      "cell_type": "code",
      "metadata": {
        "colab": {
          "base_uri": "https://localhost:8080/"
        },
        "id": "Kzox3633Wb5J",
        "outputId": "7f3a25c8-bf1d-4f9d-cd83-960835867618"
      },
      "source": [
        "df.drop_duplicates(inplace=True)\n",
        "df.shape"
      ],
      "execution_count": 28,
      "outputs": [
        {
          "output_type": "execute_result",
          "data": {
            "text/plain": [
              "(5339, 6)"
            ]
          },
          "metadata": {},
          "execution_count": 28
        }
      ]
    },
    {
      "cell_type": "markdown",
      "metadata": {
        "id": "5WhDb_S1Obgi"
      },
      "source": [
        "лемматизация (с приведением к нижнему регистру) и стоп слова"
      ]
    },
    {
      "cell_type": "code",
      "metadata": {
        "colab": {
          "base_uri": "https://localhost:8080/"
        },
        "id": "hxkL1E1lZ1BM",
        "outputId": "68b001ad-0ef4-437b-b47a-2a97db36ca1d"
      },
      "source": [
        "# Install spaCy (run in terminal/prompt)\n",
        "\n",
        "!pip install spacy\n",
        "\n",
        "# Download spaCy's  'en' Model\n",
        "!spacy download en"
      ],
      "execution_count": 39,
      "outputs": [
        {
          "output_type": "stream",
          "name": "stdout",
          "text": [
            "Requirement already satisfied: spacy in /usr/local/lib/python3.7/dist-packages (2.2.4)\n",
            "Requirement already satisfied: plac<1.2.0,>=0.9.6 in /usr/local/lib/python3.7/dist-packages (from spacy) (1.1.3)\n",
            "Requirement already satisfied: catalogue<1.1.0,>=0.0.7 in /usr/local/lib/python3.7/dist-packages (from spacy) (1.0.0)\n",
            "Requirement already satisfied: srsly<1.1.0,>=1.0.2 in /usr/local/lib/python3.7/dist-packages (from spacy) (1.0.5)\n",
            "Requirement already satisfied: wasabi<1.1.0,>=0.4.0 in /usr/local/lib/python3.7/dist-packages (from spacy) (0.8.2)\n",
            "Requirement already satisfied: murmurhash<1.1.0,>=0.28.0 in /usr/local/lib/python3.7/dist-packages (from spacy) (1.0.5)\n",
            "Requirement already satisfied: thinc==7.4.0 in /usr/local/lib/python3.7/dist-packages (from spacy) (7.4.0)\n",
            "Requirement already satisfied: cymem<2.1.0,>=2.0.2 in /usr/local/lib/python3.7/dist-packages (from spacy) (2.0.5)\n",
            "Requirement already satisfied: requests<3.0.0,>=2.13.0 in /usr/local/lib/python3.7/dist-packages (from spacy) (2.23.0)\n",
            "Requirement already satisfied: blis<0.5.0,>=0.4.0 in /usr/local/lib/python3.7/dist-packages (from spacy) (0.4.1)\n",
            "Requirement already satisfied: tqdm<5.0.0,>=4.38.0 in /usr/local/lib/python3.7/dist-packages (from spacy) (4.62.2)\n",
            "Requirement already satisfied: numpy>=1.15.0 in /usr/local/lib/python3.7/dist-packages (from spacy) (1.19.5)\n",
            "Requirement already satisfied: preshed<3.1.0,>=3.0.2 in /usr/local/lib/python3.7/dist-packages (from spacy) (3.0.5)\n",
            "Requirement already satisfied: setuptools in /usr/local/lib/python3.7/dist-packages (from spacy) (57.4.0)\n",
            "Requirement already satisfied: importlib-metadata>=0.20 in /usr/local/lib/python3.7/dist-packages (from catalogue<1.1.0,>=0.0.7->spacy) (4.8.1)\n",
            "Requirement already satisfied: typing-extensions>=3.6.4 in /usr/local/lib/python3.7/dist-packages (from importlib-metadata>=0.20->catalogue<1.1.0,>=0.0.7->spacy) (3.7.4.3)\n",
            "Requirement already satisfied: zipp>=0.5 in /usr/local/lib/python3.7/dist-packages (from importlib-metadata>=0.20->catalogue<1.1.0,>=0.0.7->spacy) (3.5.0)\n",
            "Requirement already satisfied: certifi>=2017.4.17 in /usr/local/lib/python3.7/dist-packages (from requests<3.0.0,>=2.13.0->spacy) (2021.5.30)\n",
            "Requirement already satisfied: chardet<4,>=3.0.2 in /usr/local/lib/python3.7/dist-packages (from requests<3.0.0,>=2.13.0->spacy) (3.0.4)\n",
            "Requirement already satisfied: idna<3,>=2.5 in /usr/local/lib/python3.7/dist-packages (from requests<3.0.0,>=2.13.0->spacy) (2.10)\n",
            "Requirement already satisfied: urllib3!=1.25.0,!=1.25.1,<1.26,>=1.21.1 in /usr/local/lib/python3.7/dist-packages (from requests<3.0.0,>=2.13.0->spacy) (1.24.3)\n",
            "Collecting en_core_web_sm==2.2.5\n",
            "  Downloading https://github.com/explosion/spacy-models/releases/download/en_core_web_sm-2.2.5/en_core_web_sm-2.2.5.tar.gz (12.0 MB)\n",
            "\u001b[K     |████████████████████████████████| 12.0 MB 10.6 MB/s \n",
            "\u001b[?25hRequirement already satisfied: spacy>=2.2.2 in /usr/local/lib/python3.7/dist-packages (from en_core_web_sm==2.2.5) (2.2.4)\n",
            "Requirement already satisfied: wasabi<1.1.0,>=0.4.0 in /usr/local/lib/python3.7/dist-packages (from spacy>=2.2.2->en_core_web_sm==2.2.5) (0.8.2)\n",
            "Requirement already satisfied: numpy>=1.15.0 in /usr/local/lib/python3.7/dist-packages (from spacy>=2.2.2->en_core_web_sm==2.2.5) (1.19.5)\n",
            "Requirement already satisfied: murmurhash<1.1.0,>=0.28.0 in /usr/local/lib/python3.7/dist-packages (from spacy>=2.2.2->en_core_web_sm==2.2.5) (1.0.5)\n",
            "Requirement already satisfied: setuptools in /usr/local/lib/python3.7/dist-packages (from spacy>=2.2.2->en_core_web_sm==2.2.5) (57.4.0)\n",
            "Requirement already satisfied: requests<3.0.0,>=2.13.0 in /usr/local/lib/python3.7/dist-packages (from spacy>=2.2.2->en_core_web_sm==2.2.5) (2.23.0)\n",
            "Requirement already satisfied: cymem<2.1.0,>=2.0.2 in /usr/local/lib/python3.7/dist-packages (from spacy>=2.2.2->en_core_web_sm==2.2.5) (2.0.5)\n",
            "Requirement already satisfied: preshed<3.1.0,>=3.0.2 in /usr/local/lib/python3.7/dist-packages (from spacy>=2.2.2->en_core_web_sm==2.2.5) (3.0.5)\n",
            "Requirement already satisfied: catalogue<1.1.0,>=0.0.7 in /usr/local/lib/python3.7/dist-packages (from spacy>=2.2.2->en_core_web_sm==2.2.5) (1.0.0)\n",
            "Requirement already satisfied: blis<0.5.0,>=0.4.0 in /usr/local/lib/python3.7/dist-packages (from spacy>=2.2.2->en_core_web_sm==2.2.5) (0.4.1)\n",
            "Requirement already satisfied: tqdm<5.0.0,>=4.38.0 in /usr/local/lib/python3.7/dist-packages (from spacy>=2.2.2->en_core_web_sm==2.2.5) (4.62.2)\n",
            "Requirement already satisfied: srsly<1.1.0,>=1.0.2 in /usr/local/lib/python3.7/dist-packages (from spacy>=2.2.2->en_core_web_sm==2.2.5) (1.0.5)\n",
            "Requirement already satisfied: plac<1.2.0,>=0.9.6 in /usr/local/lib/python3.7/dist-packages (from spacy>=2.2.2->en_core_web_sm==2.2.5) (1.1.3)\n",
            "Requirement already satisfied: thinc==7.4.0 in /usr/local/lib/python3.7/dist-packages (from spacy>=2.2.2->en_core_web_sm==2.2.5) (7.4.0)\n",
            "Requirement already satisfied: importlib-metadata>=0.20 in /usr/local/lib/python3.7/dist-packages (from catalogue<1.1.0,>=0.0.7->spacy>=2.2.2->en_core_web_sm==2.2.5) (4.8.1)\n",
            "Requirement already satisfied: typing-extensions>=3.6.4 in /usr/local/lib/python3.7/dist-packages (from importlib-metadata>=0.20->catalogue<1.1.0,>=0.0.7->spacy>=2.2.2->en_core_web_sm==2.2.5) (3.7.4.3)\n",
            "Requirement already satisfied: zipp>=0.5 in /usr/local/lib/python3.7/dist-packages (from importlib-metadata>=0.20->catalogue<1.1.0,>=0.0.7->spacy>=2.2.2->en_core_web_sm==2.2.5) (3.5.0)\n",
            "Requirement already satisfied: idna<3,>=2.5 in /usr/local/lib/python3.7/dist-packages (from requests<3.0.0,>=2.13.0->spacy>=2.2.2->en_core_web_sm==2.2.5) (2.10)\n",
            "Requirement already satisfied: certifi>=2017.4.17 in /usr/local/lib/python3.7/dist-packages (from requests<3.0.0,>=2.13.0->spacy>=2.2.2->en_core_web_sm==2.2.5) (2021.5.30)\n",
            "Requirement already satisfied: urllib3!=1.25.0,!=1.25.1,<1.26,>=1.21.1 in /usr/local/lib/python3.7/dist-packages (from requests<3.0.0,>=2.13.0->spacy>=2.2.2->en_core_web_sm==2.2.5) (1.24.3)\n",
            "Requirement already satisfied: chardet<4,>=3.0.2 in /usr/local/lib/python3.7/dist-packages (from requests<3.0.0,>=2.13.0->spacy>=2.2.2->en_core_web_sm==2.2.5) (3.0.4)\n",
            "\u001b[38;5;2m✔ Download and installation successful\u001b[0m\n",
            "You can now load the model via spacy.load('en_core_web_sm')\n",
            "\u001b[38;5;2m✔ Linking successful\u001b[0m\n",
            "/usr/local/lib/python3.7/dist-packages/en_core_web_sm -->\n",
            "/usr/local/lib/python3.7/dist-packages/spacy/data/en\n",
            "You can now load the model via spacy.load('en')\n"
          ]
        }
      ]
    },
    {
      "cell_type": "code",
      "metadata": {
        "colab": {
          "base_uri": "https://localhost:8080/",
          "height": 165
        },
        "id": "mgcIO8PYcrnG",
        "outputId": "2dd67d46-5bc6-44ae-97cc-346bf6a8230f"
      },
      "source": [
        "df.drop(['reviews'], inplace=True, axis=1)\n"
      ],
      "execution_count": 56,
      "outputs": [
        {
          "output_type": "execute_result",
          "data": {
            "text/html": [
              "<div>\n",
              "<style scoped>\n",
              "    .dataframe tbody tr th:only-of-type {\n",
              "        vertical-align: middle;\n",
              "    }\n",
              "\n",
              "    .dataframe tbody tr th {\n",
              "        vertical-align: top;\n",
              "    }\n",
              "\n",
              "    .dataframe thead th {\n",
              "        text-align: right;\n",
              "    }\n",
              "</style>\n",
              "<table border=\"1\" class=\"dataframe\">\n",
              "  <thead>\n",
              "    <tr style=\"text-align: right;\">\n",
              "      <th></th>\n",
              "      <th>reviews_rating</th>\n",
              "      <th>without_punc</th>\n",
              "      <th>review_len</th>\n",
              "      <th>num_of_caps</th>\n",
              "      <th>num_of_nonalpha</th>\n",
              "      <th>lemmatized_isalpha</th>\n",
              "    </tr>\n",
              "  </thead>\n",
              "  <tbody>\n",
              "    <tr>\n",
              "      <th>0</th>\n",
              "      <td>1.0 out of 5 stars</td>\n",
              "      <td>Not happy with product</td>\n",
              "      <td>22</td>\n",
              "      <td>1</td>\n",
              "      <td>0</td>\n",
              "      <td>happy product</td>\n",
              "    </tr>\n",
              "    <tr>\n",
              "      <th>1</th>\n",
              "      <td>1.0 out of 5 stars</td>\n",
              "      <td>Its not as expected</td>\n",
              "      <td>19</td>\n",
              "      <td>1</td>\n",
              "      <td>0</td>\n",
              "      <td>expect</td>\n",
              "    </tr>\n",
              "  </tbody>\n",
              "</table>\n",
              "</div>"
            ],
            "text/plain": [
              "       reviews_rating  ... lemmatized_isalpha\n",
              "0  1.0 out of 5 stars  ...      happy product\n",
              "1  1.0 out of 5 stars  ...             expect\n",
              "\n",
              "[2 rows x 6 columns]"
            ]
          },
          "metadata": {},
          "execution_count": 56
        }
      ]
    },
    {
      "cell_type": "code",
      "metadata": {
        "colab": {
          "base_uri": "https://localhost:8080/"
        },
        "id": "9kiZ4xZsOaI4",
        "outputId": "ad284372-d6fe-4149-bafa-0a6995db4398"
      },
      "source": [
        "%%time\n",
        "nlp = spacy.load('en', disable=['parser', 'ner'])\n",
        "df['lemmatized_isalpha'] = df['without_punc'].apply(get_lemmas)"
      ],
      "execution_count": 57,
      "outputs": [
        {
          "output_type": "stream",
          "name": "stdout",
          "text": [
            "CPU times: user 17.7 s, sys: 101 ms, total: 17.8 s\n",
            "Wall time: 17.9 s\n"
          ]
        }
      ]
    },
    {
      "cell_type": "markdown",
      "metadata": {
        "id": "nsVS03rigyXg"
      },
      "source": [
        "не удаляю слова no и not"
      ]
    },
    {
      "cell_type": "code",
      "metadata": {
        "colab": {
          "base_uri": "https://localhost:8080/",
          "height": 165
        },
        "id": "gYGMXj2nOaFi",
        "outputId": "91bbb07f-2f2f-4f90-a43b-d0e514d556ad"
      },
      "source": [
        "df.head(2)"
      ],
      "execution_count": 58,
      "outputs": [
        {
          "output_type": "execute_result",
          "data": {
            "text/html": [
              "<div>\n",
              "<style scoped>\n",
              "    .dataframe tbody tr th:only-of-type {\n",
              "        vertical-align: middle;\n",
              "    }\n",
              "\n",
              "    .dataframe tbody tr th {\n",
              "        vertical-align: top;\n",
              "    }\n",
              "\n",
              "    .dataframe thead th {\n",
              "        text-align: right;\n",
              "    }\n",
              "</style>\n",
              "<table border=\"1\" class=\"dataframe\">\n",
              "  <thead>\n",
              "    <tr style=\"text-align: right;\">\n",
              "      <th></th>\n",
              "      <th>reviews_rating</th>\n",
              "      <th>without_punc</th>\n",
              "      <th>review_len</th>\n",
              "      <th>num_of_caps</th>\n",
              "      <th>num_of_nonalpha</th>\n",
              "      <th>lemmatized_isalpha</th>\n",
              "    </tr>\n",
              "  </thead>\n",
              "  <tbody>\n",
              "    <tr>\n",
              "      <th>0</th>\n",
              "      <td>1.0 out of 5 stars</td>\n",
              "      <td>Not happy with product</td>\n",
              "      <td>22</td>\n",
              "      <td>1</td>\n",
              "      <td>0</td>\n",
              "      <td>not happy product</td>\n",
              "    </tr>\n",
              "    <tr>\n",
              "      <th>1</th>\n",
              "      <td>1.0 out of 5 stars</td>\n",
              "      <td>Its not as expected</td>\n",
              "      <td>19</td>\n",
              "      <td>1</td>\n",
              "      <td>0</td>\n",
              "      <td>not expect</td>\n",
              "    </tr>\n",
              "  </tbody>\n",
              "</table>\n",
              "</div>"
            ],
            "text/plain": [
              "       reviews_rating  ... lemmatized_isalpha\n",
              "0  1.0 out of 5 stars  ...  not happy product\n",
              "1  1.0 out of 5 stars  ...         not expect\n",
              "\n",
              "[2 rows x 6 columns]"
            ]
          },
          "metadata": {},
          "execution_count": 58
        }
      ]
    },
    {
      "cell_type": "code",
      "metadata": {
        "id": "nbnxg-x3POTO"
      },
      "source": [
        "df.drop(['without_punc'], inplace=True, axis=1)"
      ],
      "execution_count": 60,
      "outputs": []
    },
    {
      "cell_type": "markdown",
      "metadata": {
        "id": "cos0trwgO65I"
      },
      "source": [
        "сохраняю в отдельный csv"
      ]
    },
    {
      "cell_type": "code",
      "metadata": {
        "id": "kx5eBXcfPBDA"
      },
      "source": [
        "df.to_csv('/content/drive/My Drive/shoes_for_clf.csv', index=None)"
      ],
      "execution_count": 61,
      "outputs": []
    },
    {
      "cell_type": "code",
      "metadata": {
        "id": "tChIChu8yIxf"
      },
      "source": [
        "import pandas as pd\n"
      ],
      "execution_count": 2,
      "outputs": []
    },
    {
      "cell_type": "code",
      "metadata": {
        "id": "czJOE2icO6PE"
      },
      "source": [
        "df = pd.read_csv('/content/drive/My Drive/shoes_for_clf.csv')"
      ],
      "execution_count": 3,
      "outputs": []
    },
    {
      "cell_type": "markdown",
      "metadata": {
        "id": "VV3T1u8MR6cx"
      },
      "source": [
        "надо посмотреть на распределение отзывов по классам оценок"
      ]
    },
    {
      "cell_type": "code",
      "metadata": {
        "colab": {
          "base_uri": "https://localhost:8080/",
          "height": 359
        },
        "id": "Ixc9LFdDiIBg",
        "outputId": "63f6b326-3531-4eaf-c52f-6b7ebf2ddf4a"
      },
      "source": [
        "df['reviews_rating'].value_counts().plot.bar(x='reviews_rating', y='Counts')"
      ],
      "execution_count": 4,
      "outputs": [
        {
          "output_type": "execute_result",
          "data": {
            "text/plain": [
              "<matplotlib.axes._subplots.AxesSubplot at 0x7f89b4094790>"
            ]
          },
          "metadata": {},
          "execution_count": 4
        },
        {
          "output_type": "display_data",
          "data": {
            "image/png": "[encoded data removed]",
            "text/plain": [
              "<Figure size 432x288 with 1 Axes>"
            ]
          },
          "metadata": {
            "needs_background": "light"
          }
        }
      ]
    },
    {
      "cell_type": "markdown",
      "metadata": {
        "id": "ZQhhG_DbSj7g"
      },
      "source": [
        "классы **НЕ**сбалансированые - больше всего 5 из 5, меньше всего 2 из 5\n",
        "\n",
        "при оценке работы алгоритмов надо будет использовать micro усреднение, чтобы несбалансированность не помешала понять результаты"
      ]
    },
    {
      "cell_type": "code",
      "metadata": {
        "id": "vt9ySGOOSm0M"
      },
      "source": [
        "df['lemmatized_isalpha'].replace('', np.nan, inplace=True)\n",
        "df.dropna(subset=['lemmatized_isalpha'], inplace=True)"
      ],
      "execution_count": 7,
      "outputs": []
    },
    {
      "cell_type": "code",
      "metadata": {
        "colab": {
          "base_uri": "https://localhost:8080/"
        },
        "id": "FBW7ub6OjwgF",
        "outputId": "3a481245-6d55-4b4f-ac3b-0bc322ff405c"
      },
      "source": [
        "df.shape"
      ],
      "execution_count": 8,
      "outputs": [
        {
          "output_type": "execute_result",
          "data": {
            "text/plain": [
              "(5244, 5)"
            ]
          },
          "metadata": {},
          "execution_count": 8
        }
      ]
    },
    {
      "cell_type": "markdown",
      "metadata": {
        "id": "l9F05cSJOAnQ"
      },
      "source": [
        "на тестах с регрессией стало понятно, что tfidf работает лучше bow, поэтому я буду векторизовать только с tfidf"
      ]
    },
    {
      "cell_type": "markdown",
      "metadata": {
        "id": "1F5mrOk1RDnP"
      },
      "source": [
        "делаю лейблы классов от 0 до n-1"
      ]
    },
    {
      "cell_type": "code",
      "metadata": {
        "id": "4IK0bk5EQxiz"
      },
      "source": [
        "from sklearn import preprocessing\n",
        "le = preprocessing.LabelEncoder()\n",
        "le.fit(df.reviews_rating)\n",
        "y = le.transform(df.reviews_rating)\n"
      ],
      "execution_count": 9,
      "outputs": []
    },
    {
      "cell_type": "markdown",
      "metadata": {
        "id": "HdqsV1hcsY7D"
      },
      "source": [
        "векторизую тексты и делаю общую матрицу фичей"
      ]
    },
    {
      "cell_type": "code",
      "metadata": {
        "id": "8XokLFiuN4Rl"
      },
      "source": [
        "vectorizer = TfidfVectorizer()\n",
        "X = np.concatenate((vectorizer.fit_transform(df.lemmatized_isalpha).toarray(), \n",
        "                    df[['review_len', 'num_of_caps', 'num_of_nonalpha']].to_numpy()), \n",
        "                   axis=1)\n",
        "X_train, X_test, y_train, y_test = train_test_split(X, y, random_state=42)"
      ],
      "execution_count": 12,
      "outputs": []
    },
    {
      "cell_type": "markdown",
      "metadata": {
        "id": "g5fvxFZrIALg"
      },
      "source": [
        "это задача многоклассовой классификации"
      ]
    },
    {
      "cell_type": "code",
      "metadata": {
        "id": "os-vueFwUNfo"
      },
      "source": [
        "from sklearn.metrics import *"
      ],
      "execution_count": 13,
      "outputs": []
    },
    {
      "cell_type": "markdown",
      "metadata": {
        "id": "Qs2_PHvslsk6"
      },
      "source": [
        "# грид серч для к соседей\n",
        "\n"
      ]
    },
    {
      "cell_type": "code",
      "metadata": {
        "id": "5wHiSmbE1MRn"
      },
      "source": [
        "from sklearn.neighbors import KNeighborsClassifier\n",
        "clf = KNeighborsClassifier()"
      ],
      "execution_count": 26,
      "outputs": []
    },
    {
      "cell_type": "code",
      "metadata": {
        "colab": {
          "base_uri": "https://localhost:8080/"
        },
        "id": "MRYZH3UklrtN",
        "outputId": "46b5534d-4752-4d87-b5e9-f4334c025366"
      },
      "source": [
        "parameters = {'n_neighbors': [5, 10, 20, 40]}\n",
        "clf_grid = GridSearchCV(clf, parameters, scoring='f1_micro', verbose=2)\n",
        "clf_grid.fit(X_train, y_train)\n",
        "\n",
        "best_model = clf_grid.best_estimator_\n",
        "predicted = best_model.predict(X_test)"
      ],
      "execution_count": 27,
      "outputs": [
        {
          "output_type": "stream",
          "name": "stdout",
          "text": [
            "Fitting 5 folds for each of 4 candidates, totalling 20 fits\n",
            "[CV] n_neighbors=5 ...................................................\n"
          ]
        },
        {
          "output_type": "stream",
          "name": "stderr",
          "text": [
            "[Parallel(n_jobs=1)]: Using backend SequentialBackend with 1 concurrent workers.\n"
          ]
        },
        {
          "output_type": "stream",
          "name": "stdout",
          "text": [
            "[CV] .................................... n_neighbors=5, total=   1.7s\n",
            "[CV] n_neighbors=5 ...................................................\n"
          ]
        },
        {
          "output_type": "stream",
          "name": "stderr",
          "text": [
            "[Parallel(n_jobs=1)]: Done   1 out of   1 | elapsed:    1.7s remaining:    0.0s\n"
          ]
        },
        {
          "output_type": "stream",
          "name": "stdout",
          "text": [
            "[CV] .................................... n_neighbors=5, total=   1.7s\n",
            "[CV] n_neighbors=5 ...................................................\n",
            "[CV] .................................... n_neighbors=5, total=   1.7s\n",
            "[CV] n_neighbors=5 ...................................................\n",
            "[CV] .................................... n_neighbors=5, total=   1.6s\n",
            "[CV] n_neighbors=5 ...................................................\n",
            "[CV] .................................... n_neighbors=5, total=   1.7s\n",
            "[CV] n_neighbors=10 ..................................................\n",
            "[CV] ................................... n_neighbors=10, total=   1.7s\n",
            "[CV] n_neighbors=10 ..................................................\n",
            "[CV] ................................... n_neighbors=10, total=   1.8s\n",
            "[CV] n_neighbors=10 ..................................................\n",
            "[CV] ................................... n_neighbors=10, total=   1.7s\n",
            "[CV] n_neighbors=10 ..................................................\n",
            "[CV] ................................... n_neighbors=10, total=   1.7s\n",
            "[CV] n_neighbors=10 ..................................................\n",
            "[CV] ................................... n_neighbors=10, total=   1.8s\n",
            "[CV] n_neighbors=20 ..................................................\n",
            "[CV] ................................... n_neighbors=20, total=   2.1s\n",
            "[CV] n_neighbors=20 ..................................................\n",
            "[CV] ................................... n_neighbors=20, total=   2.3s\n",
            "[CV] n_neighbors=20 ..................................................\n",
            "[CV] ................................... n_neighbors=20, total=   2.1s\n",
            "[CV] n_neighbors=20 ..................................................\n",
            "[CV] ................................... n_neighbors=20, total=   1.8s\n",
            "[CV] n_neighbors=20 ..................................................\n",
            "[CV] ................................... n_neighbors=20, total=   1.9s\n",
            "[CV] n_neighbors=40 ..................................................\n",
            "[CV] ................................... n_neighbors=40, total=   2.0s\n",
            "[CV] n_neighbors=40 ..................................................\n",
            "[CV] ................................... n_neighbors=40, total=   2.0s\n",
            "[CV] n_neighbors=40 ..................................................\n",
            "[CV] ................................... n_neighbors=40, total=   2.0s\n",
            "[CV] n_neighbors=40 ..................................................\n",
            "[CV] ................................... n_neighbors=40, total=   2.1s\n",
            "[CV] n_neighbors=40 ..................................................\n",
            "[CV] ................................... n_neighbors=40, total=   2.0s\n"
          ]
        },
        {
          "output_type": "stream",
          "name": "stderr",
          "text": [
            "[Parallel(n_jobs=1)]: Done  20 out of  20 | elapsed:   37.3s finished\n"
          ]
        }
      ]
    },
    {
      "cell_type": "code",
      "metadata": {
        "colab": {
          "base_uri": "https://localhost:8080/"
        },
        "id": "mCk6q1SkS2b1",
        "outputId": "3f9919ba-eaf5-4bb8-f5db-6c021492e3ce"
      },
      "source": [
        "acc = accuracy_score(predicted, y_test)\n",
        "micro_f1 = f1_score(predicted, y_test, average = 'micro')\n",
        "micro_p = precision_score(predicted, y_test, average = 'micro')\n",
        "micro_r = recall_score(predicted, y_test, average = 'micro')\n",
        "\n",
        "print('acc={0:1.4f}'.format(acc))\n",
        "print('micro F1={0:1.4f}, micro P={1:1.4f}, micro R={2:1.4f}'.format(micro_f1, micro_p, micro_r))\n"
      ],
      "execution_count": 28,
      "outputs": [
        {
          "output_type": "stream",
          "name": "stdout",
          "text": [
            "acc=0.3974\n",
            "micro F1=0.3974, micro P=0.3974, micro R=0.3974\n"
          ]
        }
      ]
    },
    {
      "cell_type": "markdown",
      "metadata": {
        "id": "kbf4AriXTTdF"
      },
      "source": [
        "какие классы путаются?"
      ]
    },
    {
      "cell_type": "code",
      "metadata": {
        "colab": {
          "base_uri": "https://localhost:8080/",
          "height": 357
        },
        "id": "fZEAV6dlS6ci",
        "outputId": "1ea79dda-0434-45cd-b665-d4ed32020671"
      },
      "source": [
        "sns.heatmap(data=confusion_matrix(y_test, predicted), annot=True, fmt=\"d\", cbar=False, xticklabels=le.classes_, yticklabels=le.classes_)\n",
        "plt.title(\"Confusion matrix\")\n",
        "plt.show()"
      ],
      "execution_count": 29,
      "outputs": [
        {
          "output_type": "display_data",
          "data": {
            "image/png": "[encoded data removed]",
            "text/plain": [
              "<Figure size 432x288 with 1 Axes>"
            ]
          },
          "metadata": {
            "needs_background": "light"
          }
        }
      ]
    },
    {
      "cell_type": "markdown",
      "metadata": {
        "id": "PO6xGSn0liky"
      },
      "source": [
        "эта модель все определяет как 5 из 5 :) несбалансированность классов в этом случае сильно мешает"
      ]
    },
    {
      "cell_type": "markdown",
      "metadata": {
        "id": "u-Khoozfp-km"
      },
      "source": [
        "# грид серч для деревьев решений\n",
        "\n"
      ]
    },
    {
      "cell_type": "code",
      "metadata": {
        "id": "_Zqf9AHUhCJB"
      },
      "source": [
        "from sklearn.tree import DecisionTreeClassifier"
      ],
      "execution_count": 18,
      "outputs": []
    },
    {
      "cell_type": "code",
      "metadata": {
        "colab": {
          "base_uri": "https://localhost:8080/"
        },
        "id": "Tc7gROtZqRdL",
        "outputId": "0a282866-5519-4023-a253-8b6bf0bf6b9f"
      },
      "source": [
        "parameters = {'criterion': [\"gini\", \"entropy\"], \n",
        "              'splitter':['best', 'random']} # 'max_depth':[None, 5, 10]\n",
        "clf = DecisionTreeClassifier()\n",
        "clf_grid = GridSearchCV(clf, parameters, scoring='f1_micro', verbose=2)\n",
        "clf_grid.fit(X_train, y_train)\n",
        "\n",
        "best_model = clf_grid.best_estimator_\n",
        "predicted = best_model.predict(X_test)"
      ],
      "execution_count": 20,
      "outputs": [
        {
          "output_type": "stream",
          "name": "stdout",
          "text": [
            "Fitting 5 folds for each of 4 candidates, totalling 20 fits\n",
            "[CV] criterion=gini, splitter=best ...................................\n"
          ]
        },
        {
          "output_type": "stream",
          "name": "stderr",
          "text": [
            "[Parallel(n_jobs=1)]: Using backend SequentialBackend with 1 concurrent workers.\n"
          ]
        },
        {
          "output_type": "stream",
          "name": "stdout",
          "text": [
            "[CV] .................... criterion=gini, splitter=best, total=   0.8s\n",
            "[CV] criterion=gini, splitter=best ...................................\n"
          ]
        },
        {
          "output_type": "stream",
          "name": "stderr",
          "text": [
            "[Parallel(n_jobs=1)]: Done   1 out of   1 | elapsed:    0.8s remaining:    0.0s\n"
          ]
        },
        {
          "output_type": "stream",
          "name": "stdout",
          "text": [
            "[CV] .................... criterion=gini, splitter=best, total=   1.0s\n",
            "[CV] criterion=gini, splitter=best ...................................\n",
            "[CV] .................... criterion=gini, splitter=best, total=   1.0s\n",
            "[CV] criterion=gini, splitter=best ...................................\n",
            "[CV] .................... criterion=gini, splitter=best, total=   0.8s\n",
            "[CV] criterion=gini, splitter=best ...................................\n",
            "[CV] .................... criterion=gini, splitter=best, total=   0.8s\n",
            "[CV] criterion=gini, splitter=random .................................\n",
            "[CV] .................. criterion=gini, splitter=random, total=   1.5s\n",
            "[CV] criterion=gini, splitter=random .................................\n",
            "[CV] .................. criterion=gini, splitter=random, total=   1.3s\n",
            "[CV] criterion=gini, splitter=random .................................\n",
            "[CV] .................. criterion=gini, splitter=random, total=   1.1s\n",
            "[CV] criterion=gini, splitter=random .................................\n",
            "[CV] .................. criterion=gini, splitter=random, total=   1.5s\n",
            "[CV] criterion=gini, splitter=random .................................\n",
            "[CV] .................. criterion=gini, splitter=random, total=   1.2s\n",
            "[CV] criterion=entropy, splitter=best ................................\n",
            "[CV] ................. criterion=entropy, splitter=best, total=   1.0s\n",
            "[CV] criterion=entropy, splitter=best ................................\n",
            "[CV] ................. criterion=entropy, splitter=best, total=   0.8s\n",
            "[CV] criterion=entropy, splitter=best ................................\n",
            "[CV] ................. criterion=entropy, splitter=best, total=   1.0s\n",
            "[CV] criterion=entropy, splitter=best ................................\n",
            "[CV] ................. criterion=entropy, splitter=best, total=   1.0s\n",
            "[CV] criterion=entropy, splitter=best ................................\n",
            "[CV] ................. criterion=entropy, splitter=best, total=   1.1s\n",
            "[CV] criterion=entropy, splitter=random ..............................\n",
            "[CV] ............... criterion=entropy, splitter=random, total=   1.2s\n",
            "[CV] criterion=entropy, splitter=random ..............................\n",
            "[CV] ............... criterion=entropy, splitter=random, total=   1.4s\n",
            "[CV] criterion=entropy, splitter=random ..............................\n",
            "[CV] ............... criterion=entropy, splitter=random, total=   1.4s\n",
            "[CV] criterion=entropy, splitter=random ..............................\n",
            "[CV] ............... criterion=entropy, splitter=random, total=   1.1s\n",
            "[CV] criterion=entropy, splitter=random ..............................\n",
            "[CV] ............... criterion=entropy, splitter=random, total=   1.3s\n"
          ]
        },
        {
          "output_type": "stream",
          "name": "stderr",
          "text": [
            "[Parallel(n_jobs=1)]: Done  20 out of  20 | elapsed:   22.4s finished\n"
          ]
        }
      ]
    },
    {
      "cell_type": "code",
      "metadata": {
        "colab": {
          "base_uri": "https://localhost:8080/"
        },
        "id": "MCdvpBCIqRZT",
        "outputId": "eb99a5c0-b011-4c43-f9b7-9139e339a614"
      },
      "source": [
        "acc = accuracy_score(predicted, y_test)\n",
        "micro_f1 = f1_score(predicted, y_test, average = 'micro')\n",
        "micro_p = precision_score(predicted, y_test, average = 'micro')\n",
        "micro_r = recall_score(predicted, y_test, average = 'micro')\n",
        "\n",
        "print('acc={0:1.4f}'.format(acc))\n",
        "print('micro F1={0:1.4f}, micro P={1:1.4f}, micro R={2:1.4f}'.format(micro_f1, micro_p, micro_r))\n"
      ],
      "execution_count": 21,
      "outputs": [
        {
          "output_type": "stream",
          "name": "stdout",
          "text": [
            "acc=0.4630\n",
            "micro F1=0.4630, micro P=0.4630, micro R=0.4630\n"
          ]
        }
      ]
    },
    {
      "cell_type": "markdown",
      "metadata": {
        "id": "orEyYsY0rl2-"
      },
      "source": [
        "## confusion matrix"
      ]
    },
    {
      "cell_type": "markdown",
      "metadata": {
        "id": "K98dd7EdTNi0"
      },
      "source": [
        "какие классы путаются?"
      ]
    },
    {
      "cell_type": "code",
      "metadata": {
        "colab": {
          "base_uri": "https://localhost:8080/",
          "height": 357
        },
        "id": "BqjcJ3itrbjK",
        "outputId": "02d9c7ae-eb53-4963-9c40-26a32b14c17c"
      },
      "source": [
        "sns.heatmap(data=confusion_matrix(y_test, predicted), annot=True, fmt=\"d\", cbar=False, xticklabels=le.classes_, yticklabels=le.classes_)\n",
        "plt.title(\"Confusion matrix\")\n",
        "plt.show()"
      ],
      "execution_count": 24,
      "outputs": [
        {
          "output_type": "display_data",
          "data": {
            "image/png": "[encoded data removed]",
            "text/plain": [
              "<Figure size 432x288 with 1 Axes>"
            ]
          },
          "metadata": {
            "needs_background": "light"
          }
        }
      ]
    },
    {
      "cell_type": "markdown",
      "metadata": {
        "id": "oBGkWMhS0O_Y"
      },
      "source": [
        "только 1 из 5 и 5 из 5 нормально распознаются, с остальными классами все очень плохо\n",
        "\n",
        "чтобы улучшить результат стоит 1) сбалансировать классы 2) попробовать другие модели классификации 3) добавить фичи про эмоционально окрашенные слова aka sentiment analysis\n"
      ]
    },
    {
      "cell_type": "markdown",
      "metadata": {
        "id": "ml66Q7c24cNz"
      },
      "source": [
        "в обоих заданиях качество не очень\n",
        "\n",
        "у регрессии это может быть связано скорее всего с тем, что присутствуют выбросы, а у классификации - дисбаланс классов. возможно, нужны дополнительные фичи, например какая-то синтаксическая инфа"
      ]
    },
    {
      "cell_type": "code",
      "metadata": {
        "id": "Gc_OHdUWsJi1"
      },
      "source": [
        ""
      ],
      "execution_count": null,
      "outputs": []
    }
  ]
}