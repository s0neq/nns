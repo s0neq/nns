{
  "nbformat": 4,
  "nbformat_minor": 0,
  "metadata": {
    "colab": {
      "name": "rnnhw3.ipynb",
      "provenance": [],
      "collapsed_sections": []
    },
    "kernelspec": {
      "name": "python3",
      "display_name": "Python 3"
    },
    "language_info": {
      "name": "python"
    },
    "accelerator": "GPU"
  },
  "cells": [
    {
      "cell_type": "markdown",
      "source": [
        "прочитайте статью https://arxiv.org/pdf/1511.08630.pdf"
      ],
      "metadata": {
        "id": "lxNxEo2ZGfu9"
      }
    },
    {
      "cell_type": "markdown",
      "source": [
        "проанализируйте и сделайте препроцессинг на основании вашего анализа и того дизайна экспериментов, который описан в статье, для этого датасета https://www.kaggle.com/clmentbisaillon/fake-and-real-news-dataset?select=Fake.csv"
      ],
      "metadata": {
        "id": "OUc384DlGlUV"
      }
    },
    {
      "cell_type": "code",
      "source": [
        "import pandas as pd"
      ],
      "metadata": {
        "id": "kBqFeHtan4bQ"
      },
      "execution_count": 1,
      "outputs": []
    },
    {
      "cell_type": "code",
      "source": [
        "from google.colab import drive\n",
        "drive.mount('/content/gdrive')"
      ],
      "metadata": {
        "colab": {
          "base_uri": "https://localhost:8080/"
        },
        "id": "2hsW6WMhnmwW",
        "outputId": "46118bf1-a06d-488c-a81c-ea1d1b3678fc"
      },
      "execution_count": 2,
      "outputs": [
        {
          "output_type": "stream",
          "name": "stdout",
          "text": [
            "Mounted at /content/gdrive\n"
          ]
        }
      ]
    },
    {
      "cell_type": "code",
      "source": [
        "df = pd.read_csv('/content/gdrive/MyDrive/Fake.csv')"
      ],
      "metadata": {
        "id": "R6bbu1yxgNjs"
      },
      "execution_count": 3,
      "outputs": []
    },
    {
      "cell_type": "code",
      "source": [
        "df.head(2)"
      ],
      "metadata": {
        "colab": {
          "base_uri": "https://localhost:8080/",
          "height": 111
        },
        "id": "LDFOXTZEn9B1",
        "outputId": "bb614a20-180d-41b3-8082-922901dc1d6b"
      },
      "execution_count": 4,
      "outputs": [
        {
          "output_type": "execute_result",
          "data": {
            "text/html": [
              "\n",
              "  <div id=\"df-7de4423b-0f4c-4fd4-bd9c-17835d16fd3a\">\n",
              "    <div class=\"colab-df-container\">\n",
              "      <div>\n",
              "<style scoped>\n",
              "    .dataframe tbody tr th:only-of-type {\n",
              "        vertical-align: middle;\n",
              "    }\n",
              "\n",
              "    .dataframe tbody tr th {\n",
              "        vertical-align: top;\n",
              "    }\n",
              "\n",
              "    .dataframe thead th {\n",
              "        text-align: right;\n",
              "    }\n",
              "</style>\n",
              "<table border=\"1\" class=\"dataframe\">\n",
              "  <thead>\n",
              "    <tr style=\"text-align: right;\">\n",
              "      <th></th>\n",
              "      <th>title</th>\n",
              "      <th>text</th>\n",
              "      <th>subject</th>\n",
              "      <th>date</th>\n",
              "    </tr>\n",
              "  </thead>\n",
              "  <tbody>\n",
              "    <tr>\n",
              "      <th>0</th>\n",
              "      <td>Donald Trump Sends Out Embarrassing New Year’...</td>\n",
              "      <td>Donald Trump just couldn t wish all Americans ...</td>\n",
              "      <td>News</td>\n",
              "      <td>December 31, 2017</td>\n",
              "    </tr>\n",
              "    <tr>\n",
              "      <th>1</th>\n",
              "      <td>Drunk Bragging Trump Staffer Started Russian ...</td>\n",
              "      <td>House Intelligence Committee Chairman Devin Nu...</td>\n",
              "      <td>News</td>\n",
              "      <td>December 31, 2017</td>\n",
              "    </tr>\n",
              "  </tbody>\n",
              "</table>\n",
              "</div>\n",
              "      <button class=\"colab-df-convert\" onclick=\"convertToInteractive('df-7de4423b-0f4c-4fd4-bd9c-17835d16fd3a')\"\n",
              "              title=\"Convert this dataframe to an interactive table.\"\n",
              "              style=\"display:none;\">\n",
              "        \n",
              "  <svg xmlns=\"http://www.w3.org/2000/svg\" height=\"24px\"viewBox=\"0 0 24 24\"\n",
              "       width=\"24px\">\n",
              "    <path d=\"M0 0h24v24H0V0z\" fill=\"none\"/>\n",
              "    <path d=\"M18.56 5.44l.94 2.06.94-2.06 2.06-.94-2.06-.94-.94-2.06-.94 2.06-2.06.94zm-11 1L8.5 8.5l.94-2.06 2.06-.94-2.06-.94L8.5 2.5l-.94 2.06-2.06.94zm10 10l.94 2.06.94-2.06 2.06-.94-2.06-.94-.94-2.06-.94 2.06-2.06.94z\"/><path d=\"M17.41 7.96l-1.37-1.37c-.4-.4-.92-.59-1.43-.59-.52 0-1.04.2-1.43.59L10.3 9.45l-7.72 7.72c-.78.78-.78 2.05 0 2.83L4 21.41c.39.39.9.59 1.41.59.51 0 1.02-.2 1.41-.59l7.78-7.78 2.81-2.81c.8-.78.8-2.07 0-2.86zM5.41 20L4 18.59l7.72-7.72 1.47 1.35L5.41 20z\"/>\n",
              "  </svg>\n",
              "      </button>\n",
              "      \n",
              "  <style>\n",
              "    .colab-df-container {\n",
              "      display:flex;\n",
              "      flex-wrap:wrap;\n",
              "      gap: 12px;\n",
              "    }\n",
              "\n",
              "    .colab-df-convert {\n",
              "      background-color: #E8F0FE;\n",
              "      border: none;\n",
              "      border-radius: 50%;\n",
              "      cursor: pointer;\n",
              "      display: none;\n",
              "      fill: #1967D2;\n",
              "      height: 32px;\n",
              "      padding: 0 0 0 0;\n",
              "      width: 32px;\n",
              "    }\n",
              "\n",
              "    .colab-df-convert:hover {\n",
              "      background-color: #E2EBFA;\n",
              "      box-shadow: 0px 1px 2px rgba(60, 64, 67, 0.3), 0px 1px 3px 1px rgba(60, 64, 67, 0.15);\n",
              "      fill: #174EA6;\n",
              "    }\n",
              "\n",
              "    [theme=dark] .colab-df-convert {\n",
              "      background-color: #3B4455;\n",
              "      fill: #D2E3FC;\n",
              "    }\n",
              "\n",
              "    [theme=dark] .colab-df-convert:hover {\n",
              "      background-color: #434B5C;\n",
              "      box-shadow: 0px 1px 3px 1px rgba(0, 0, 0, 0.15);\n",
              "      filter: drop-shadow(0px 1px 2px rgba(0, 0, 0, 0.3));\n",
              "      fill: #FFFFFF;\n",
              "    }\n",
              "  </style>\n",
              "\n",
              "      <script>\n",
              "        const buttonEl =\n",
              "          document.querySelector('#df-7de4423b-0f4c-4fd4-bd9c-17835d16fd3a button.colab-df-convert');\n",
              "        buttonEl.style.display =\n",
              "          google.colab.kernel.accessAllowed ? 'block' : 'none';\n",
              "\n",
              "        async function convertToInteractive(key) {\n",
              "          const element = document.querySelector('#df-7de4423b-0f4c-4fd4-bd9c-17835d16fd3a');\n",
              "          const dataTable =\n",
              "            await google.colab.kernel.invokeFunction('convertToInteractive',\n",
              "                                                     [key], {});\n",
              "          if (!dataTable) return;\n",
              "\n",
              "          const docLinkHtml = 'Like what you see? Visit the ' +\n",
              "            '<a target=\"_blank\" href=https://colab.research.google.com/notebooks/data_table.ipynb>data table notebook</a>'\n",
              "            + ' to learn more about interactive tables.';\n",
              "          element.innerHTML = '';\n",
              "          dataTable['output_type'] = 'display_data';\n",
              "          await google.colab.output.renderOutput(dataTable, element);\n",
              "          const docLink = document.createElement('div');\n",
              "          docLink.innerHTML = docLinkHtml;\n",
              "          element.appendChild(docLink);\n",
              "        }\n",
              "      </script>\n",
              "    </div>\n",
              "  </div>\n",
              "  "
            ],
            "text/plain": [
              "                                               title  ...               date\n",
              "0   Donald Trump Sends Out Embarrassing New Year’...  ...  December 31, 2017\n",
              "1   Drunk Bragging Trump Staffer Started Russian ...  ...  December 31, 2017\n",
              "\n",
              "[2 rows x 4 columns]"
            ]
          },
          "metadata": {},
          "execution_count": 4
        }
      ]
    },
    {
      "cell_type": "markdown",
      "source": [
        "из df info видим что нет пропущенных значений"
      ],
      "metadata": {
        "id": "alPfzwvJsaE3"
      }
    },
    {
      "cell_type": "code",
      "source": [
        "df.info()"
      ],
      "metadata": {
        "colab": {
          "base_uri": "https://localhost:8080/"
        },
        "id": "8dCoYXtBoMlu",
        "outputId": "81ff0f12-3f2f-498e-86de-5d4fa7015e52"
      },
      "execution_count": 5,
      "outputs": [
        {
          "output_type": "stream",
          "name": "stdout",
          "text": [
            "<class 'pandas.core.frame.DataFrame'>\n",
            "RangeIndex: 23481 entries, 0 to 23480\n",
            "Data columns (total 4 columns):\n",
            " #   Column   Non-Null Count  Dtype \n",
            "---  ------   --------------  ----- \n",
            " 0   title    23481 non-null  object\n",
            " 1   text     23481 non-null  object\n",
            " 2   subject  23481 non-null  object\n",
            " 3   date     23481 non-null  object\n",
            "dtypes: object(4)\n",
            "memory usage: 733.9+ KB\n"
          ]
        }
      ]
    },
    {
      "cell_type": "code",
      "source": [
        "df.shape"
      ],
      "metadata": {
        "colab": {
          "base_uri": "https://localhost:8080/"
        },
        "id": "dKpCb51rqEDG",
        "outputId": "8b7902a0-15c5-40b6-8ab1-c9beedaef9cd"
      },
      "execution_count": null,
      "outputs": [
        {
          "output_type": "execute_result",
          "data": {
            "text/plain": [
              "(23481, 4)"
            ]
          },
          "metadata": {},
          "execution_count": 128
        }
      ]
    },
    {
      "cell_type": "markdown",
      "source": [
        "удалим дубликаты если они есть"
      ],
      "metadata": {
        "id": "jCA61y26sg6m"
      }
    },
    {
      "cell_type": "code",
      "source": [
        "df = df[['text',\n",
        "         'subject']]\n",
        "\n",
        "df.drop_duplicates(inplace=True)\n",
        "df.shape"
      ],
      "metadata": {
        "colab": {
          "base_uri": "https://localhost:8080/"
        },
        "id": "a_B5GCAuqOla",
        "outputId": "0fe507c6-e547-4fae-8b94-6ec6aef4b8f7"
      },
      "execution_count": 6,
      "outputs": [
        {
          "output_type": "execute_result",
          "data": {
            "text/plain": [
              "(22840, 2)"
            ]
          },
          "metadata": {},
          "execution_count": 6
        }
      ]
    },
    {
      "cell_type": "code",
      "source": [
        "df.head(2)"
      ],
      "metadata": {
        "colab": {
          "base_uri": "https://localhost:8080/",
          "height": 111
        },
        "id": "QIbvxpWmr7-3",
        "outputId": "86ca2935-1633-404f-f1d1-2c7b5b9d8de8"
      },
      "execution_count": 7,
      "outputs": [
        {
          "output_type": "execute_result",
          "data": {
            "text/html": [
              "\n",
              "  <div id=\"df-07ec2022-eb09-4fad-8edf-c20d3d0169f5\">\n",
              "    <div class=\"colab-df-container\">\n",
              "      <div>\n",
              "<style scoped>\n",
              "    .dataframe tbody tr th:only-of-type {\n",
              "        vertical-align: middle;\n",
              "    }\n",
              "\n",
              "    .dataframe tbody tr th {\n",
              "        vertical-align: top;\n",
              "    }\n",
              "\n",
              "    .dataframe thead th {\n",
              "        text-align: right;\n",
              "    }\n",
              "</style>\n",
              "<table border=\"1\" class=\"dataframe\">\n",
              "  <thead>\n",
              "    <tr style=\"text-align: right;\">\n",
              "      <th></th>\n",
              "      <th>text</th>\n",
              "      <th>subject</th>\n",
              "    </tr>\n",
              "  </thead>\n",
              "  <tbody>\n",
              "    <tr>\n",
              "      <th>0</th>\n",
              "      <td>Donald Trump just couldn t wish all Americans ...</td>\n",
              "      <td>News</td>\n",
              "    </tr>\n",
              "    <tr>\n",
              "      <th>1</th>\n",
              "      <td>House Intelligence Committee Chairman Devin Nu...</td>\n",
              "      <td>News</td>\n",
              "    </tr>\n",
              "  </tbody>\n",
              "</table>\n",
              "</div>\n",
              "      <button class=\"colab-df-convert\" onclick=\"convertToInteractive('df-07ec2022-eb09-4fad-8edf-c20d3d0169f5')\"\n",
              "              title=\"Convert this dataframe to an interactive table.\"\n",
              "              style=\"display:none;\">\n",
              "        \n",
              "  <svg xmlns=\"http://www.w3.org/2000/svg\" height=\"24px\"viewBox=\"0 0 24 24\"\n",
              "       width=\"24px\">\n",
              "    <path d=\"M0 0h24v24H0V0z\" fill=\"none\"/>\n",
              "    <path d=\"M18.56 5.44l.94 2.06.94-2.06 2.06-.94-2.06-.94-.94-2.06-.94 2.06-2.06.94zm-11 1L8.5 8.5l.94-2.06 2.06-.94-2.06-.94L8.5 2.5l-.94 2.06-2.06.94zm10 10l.94 2.06.94-2.06 2.06-.94-2.06-.94-.94-2.06-.94 2.06-2.06.94z\"/><path d=\"M17.41 7.96l-1.37-1.37c-.4-.4-.92-.59-1.43-.59-.52 0-1.04.2-1.43.59L10.3 9.45l-7.72 7.72c-.78.78-.78 2.05 0 2.83L4 21.41c.39.39.9.59 1.41.59.51 0 1.02-.2 1.41-.59l7.78-7.78 2.81-2.81c.8-.78.8-2.07 0-2.86zM5.41 20L4 18.59l7.72-7.72 1.47 1.35L5.41 20z\"/>\n",
              "  </svg>\n",
              "      </button>\n",
              "      \n",
              "  <style>\n",
              "    .colab-df-container {\n",
              "      display:flex;\n",
              "      flex-wrap:wrap;\n",
              "      gap: 12px;\n",
              "    }\n",
              "\n",
              "    .colab-df-convert {\n",
              "      background-color: #E8F0FE;\n",
              "      border: none;\n",
              "      border-radius: 50%;\n",
              "      cursor: pointer;\n",
              "      display: none;\n",
              "      fill: #1967D2;\n",
              "      height: 32px;\n",
              "      padding: 0 0 0 0;\n",
              "      width: 32px;\n",
              "    }\n",
              "\n",
              "    .colab-df-convert:hover {\n",
              "      background-color: #E2EBFA;\n",
              "      box-shadow: 0px 1px 2px rgba(60, 64, 67, 0.3), 0px 1px 3px 1px rgba(60, 64, 67, 0.15);\n",
              "      fill: #174EA6;\n",
              "    }\n",
              "\n",
              "    [theme=dark] .colab-df-convert {\n",
              "      background-color: #3B4455;\n",
              "      fill: #D2E3FC;\n",
              "    }\n",
              "\n",
              "    [theme=dark] .colab-df-convert:hover {\n",
              "      background-color: #434B5C;\n",
              "      box-shadow: 0px 1px 3px 1px rgba(0, 0, 0, 0.15);\n",
              "      filter: drop-shadow(0px 1px 2px rgba(0, 0, 0, 0.3));\n",
              "      fill: #FFFFFF;\n",
              "    }\n",
              "  </style>\n",
              "\n",
              "      <script>\n",
              "        const buttonEl =\n",
              "          document.querySelector('#df-07ec2022-eb09-4fad-8edf-c20d3d0169f5 button.colab-df-convert');\n",
              "        buttonEl.style.display =\n",
              "          google.colab.kernel.accessAllowed ? 'block' : 'none';\n",
              "\n",
              "        async function convertToInteractive(key) {\n",
              "          const element = document.querySelector('#df-07ec2022-eb09-4fad-8edf-c20d3d0169f5');\n",
              "          const dataTable =\n",
              "            await google.colab.kernel.invokeFunction('convertToInteractive',\n",
              "                                                     [key], {});\n",
              "          if (!dataTable) return;\n",
              "\n",
              "          const docLinkHtml = 'Like what you see? Visit the ' +\n",
              "            '<a target=\"_blank\" href=https://colab.research.google.com/notebooks/data_table.ipynb>data table notebook</a>'\n",
              "            + ' to learn more about interactive tables.';\n",
              "          element.innerHTML = '';\n",
              "          dataTable['output_type'] = 'display_data';\n",
              "          await google.colab.output.renderOutput(dataTable, element);\n",
              "          const docLink = document.createElement('div');\n",
              "          docLink.innerHTML = docLinkHtml;\n",
              "          element.appendChild(docLink);\n",
              "        }\n",
              "      </script>\n",
              "    </div>\n",
              "  </div>\n",
              "  "
            ],
            "text/plain": [
              "                                                text subject\n",
              "0  Donald Trump just couldn t wish all Americans ...    News\n",
              "1  House Intelligence Committee Chairman Devin Nu...    News"
            ]
          },
          "metadata": {},
          "execution_count": 7
        }
      ]
    },
    {
      "cell_type": "markdown",
      "source": [
        "уберем строки из пробелов"
      ],
      "metadata": {
        "id": "1zJe4tYhFJ7z"
      }
    },
    {
      "cell_type": "code",
      "source": [
        "df['text'] = df['text'].str.strip()\n"
      ],
      "metadata": {
        "id": "nfr5hi3-Ek3d"
      },
      "execution_count": 8,
      "outputs": []
    },
    {
      "cell_type": "code",
      "source": [
        "df = df[df['text'].str.len() != 0]"
      ],
      "metadata": {
        "id": "wEra3gsFEJT4"
      },
      "execution_count": 9,
      "outputs": []
    },
    {
      "cell_type": "code",
      "source": [
        "df.shape"
      ],
      "metadata": {
        "colab": {
          "base_uri": "https://localhost:8080/"
        },
        "id": "mgwMKewKFALD",
        "outputId": "df6a3fb1-5338-412e-c9d9-d046db37c6ea"
      },
      "execution_count": 10,
      "outputs": [
        {
          "output_type": "execute_result",
          "data": {
            "text/plain": [
              "(22834, 2)"
            ]
          },
          "metadata": {},
          "execution_count": 10
        }
      ]
    },
    {
      "cell_type": "markdown",
      "source": [
        "препроцессинг в статье: For text preprocessing, we only convert all characters in the dataset to lower case"
      ],
      "metadata": {
        "id": "7WomR0v-CEhK"
      }
    },
    {
      "cell_type": "markdown",
      "source": [
        "я еще уберу пунктуацию и токены-пустые строки"
      ],
      "metadata": {
        "id": "C2Evq-tGLR36"
      }
    },
    {
      "cell_type": "code",
      "source": [
        "from string import punctuation"
      ],
      "metadata": {
        "id": "AG7LNLnNQEgJ"
      },
      "execution_count": 11,
      "outputs": []
    },
    {
      "cell_type": "code",
      "source": [
        "def preprocess(text):\n",
        "    tokens = text.lower().split()\n",
        "    tokens = [token.strip(punctuation) for token in tokens if token.strip(punctuation)]\n",
        "    return ' '.join(tokens)"
      ],
      "metadata": {
        "id": "iMcxOIUhGthh"
      },
      "execution_count": 12,
      "outputs": []
    },
    {
      "cell_type": "code",
      "source": [
        "df['preproc'] = df['text'].apply(preprocess)"
      ],
      "metadata": {
        "id": "j6OvRH7sGxh7"
      },
      "execution_count": 13,
      "outputs": []
    },
    {
      "cell_type": "code",
      "source": [
        "df.head()"
      ],
      "metadata": {
        "colab": {
          "base_uri": "https://localhost:8080/",
          "height": 204
        },
        "id": "IntA0EzxG-7p",
        "outputId": "5835437b-6450-46a3-fde2-5997ecdd1a0c"
      },
      "execution_count": 14,
      "outputs": [
        {
          "output_type": "execute_result",
          "data": {
            "text/html": [
              "\n",
              "  <div id=\"df-1a09efbc-6ac0-4309-9b66-cae1da200d8a\">\n",
              "    <div class=\"colab-df-container\">\n",
              "      <div>\n",
              "<style scoped>\n",
              "    .dataframe tbody tr th:only-of-type {\n",
              "        vertical-align: middle;\n",
              "    }\n",
              "\n",
              "    .dataframe tbody tr th {\n",
              "        vertical-align: top;\n",
              "    }\n",
              "\n",
              "    .dataframe thead th {\n",
              "        text-align: right;\n",
              "    }\n",
              "</style>\n",
              "<table border=\"1\" class=\"dataframe\">\n",
              "  <thead>\n",
              "    <tr style=\"text-align: right;\">\n",
              "      <th></th>\n",
              "      <th>text</th>\n",
              "      <th>subject</th>\n",
              "      <th>preproc</th>\n",
              "    </tr>\n",
              "  </thead>\n",
              "  <tbody>\n",
              "    <tr>\n",
              "      <th>0</th>\n",
              "      <td>Donald Trump just couldn t wish all Americans ...</td>\n",
              "      <td>News</td>\n",
              "      <td>donald trump just couldn t wish all americans ...</td>\n",
              "    </tr>\n",
              "    <tr>\n",
              "      <th>1</th>\n",
              "      <td>House Intelligence Committee Chairman Devin Nu...</td>\n",
              "      <td>News</td>\n",
              "      <td>house intelligence committee chairman devin nu...</td>\n",
              "    </tr>\n",
              "    <tr>\n",
              "      <th>2</th>\n",
              "      <td>On Friday, it was revealed that former Milwauk...</td>\n",
              "      <td>News</td>\n",
              "      <td>on friday it was revealed that former milwauke...</td>\n",
              "    </tr>\n",
              "    <tr>\n",
              "      <th>3</th>\n",
              "      <td>On Christmas day, Donald Trump announced that ...</td>\n",
              "      <td>News</td>\n",
              "      <td>on christmas day donald trump announced that h...</td>\n",
              "    </tr>\n",
              "    <tr>\n",
              "      <th>4</th>\n",
              "      <td>Pope Francis used his annual Christmas Day mes...</td>\n",
              "      <td>News</td>\n",
              "      <td>pope francis used his annual christmas day mes...</td>\n",
              "    </tr>\n",
              "  </tbody>\n",
              "</table>\n",
              "</div>\n",
              "      <button class=\"colab-df-convert\" onclick=\"convertToInteractive('df-1a09efbc-6ac0-4309-9b66-cae1da200d8a')\"\n",
              "              title=\"Convert this dataframe to an interactive table.\"\n",
              "              style=\"display:none;\">\n",
              "        \n",
              "  <svg xmlns=\"http://www.w3.org/2000/svg\" height=\"24px\"viewBox=\"0 0 24 24\"\n",
              "       width=\"24px\">\n",
              "    <path d=\"M0 0h24v24H0V0z\" fill=\"none\"/>\n",
              "    <path d=\"M18.56 5.44l.94 2.06.94-2.06 2.06-.94-2.06-.94-.94-2.06-.94 2.06-2.06.94zm-11 1L8.5 8.5l.94-2.06 2.06-.94-2.06-.94L8.5 2.5l-.94 2.06-2.06.94zm10 10l.94 2.06.94-2.06 2.06-.94-2.06-.94-.94-2.06-.94 2.06-2.06.94z\"/><path d=\"M17.41 7.96l-1.37-1.37c-.4-.4-.92-.59-1.43-.59-.52 0-1.04.2-1.43.59L10.3 9.45l-7.72 7.72c-.78.78-.78 2.05 0 2.83L4 21.41c.39.39.9.59 1.41.59.51 0 1.02-.2 1.41-.59l7.78-7.78 2.81-2.81c.8-.78.8-2.07 0-2.86zM5.41 20L4 18.59l7.72-7.72 1.47 1.35L5.41 20z\"/>\n",
              "  </svg>\n",
              "      </button>\n",
              "      \n",
              "  <style>\n",
              "    .colab-df-container {\n",
              "      display:flex;\n",
              "      flex-wrap:wrap;\n",
              "      gap: 12px;\n",
              "    }\n",
              "\n",
              "    .colab-df-convert {\n",
              "      background-color: #E8F0FE;\n",
              "      border: none;\n",
              "      border-radius: 50%;\n",
              "      cursor: pointer;\n",
              "      display: none;\n",
              "      fill: #1967D2;\n",
              "      height: 32px;\n",
              "      padding: 0 0 0 0;\n",
              "      width: 32px;\n",
              "    }\n",
              "\n",
              "    .colab-df-convert:hover {\n",
              "      background-color: #E2EBFA;\n",
              "      box-shadow: 0px 1px 2px rgba(60, 64, 67, 0.3), 0px 1px 3px 1px rgba(60, 64, 67, 0.15);\n",
              "      fill: #174EA6;\n",
              "    }\n",
              "\n",
              "    [theme=dark] .colab-df-convert {\n",
              "      background-color: #3B4455;\n",
              "      fill: #D2E3FC;\n",
              "    }\n",
              "\n",
              "    [theme=dark] .colab-df-convert:hover {\n",
              "      background-color: #434B5C;\n",
              "      box-shadow: 0px 1px 3px 1px rgba(0, 0, 0, 0.15);\n",
              "      filter: drop-shadow(0px 1px 2px rgba(0, 0, 0, 0.3));\n",
              "      fill: #FFFFFF;\n",
              "    }\n",
              "  </style>\n",
              "\n",
              "      <script>\n",
              "        const buttonEl =\n",
              "          document.querySelector('#df-1a09efbc-6ac0-4309-9b66-cae1da200d8a button.colab-df-convert');\n",
              "        buttonEl.style.display =\n",
              "          google.colab.kernel.accessAllowed ? 'block' : 'none';\n",
              "\n",
              "        async function convertToInteractive(key) {\n",
              "          const element = document.querySelector('#df-1a09efbc-6ac0-4309-9b66-cae1da200d8a');\n",
              "          const dataTable =\n",
              "            await google.colab.kernel.invokeFunction('convertToInteractive',\n",
              "                                                     [key], {});\n",
              "          if (!dataTable) return;\n",
              "\n",
              "          const docLinkHtml = 'Like what you see? Visit the ' +\n",
              "            '<a target=\"_blank\" href=https://colab.research.google.com/notebooks/data_table.ipynb>data table notebook</a>'\n",
              "            + ' to learn more about interactive tables.';\n",
              "          element.innerHTML = '';\n",
              "          dataTable['output_type'] = 'display_data';\n",
              "          await google.colab.output.renderOutput(dataTable, element);\n",
              "          const docLink = document.createElement('div');\n",
              "          docLink.innerHTML = docLinkHtml;\n",
              "          element.appendChild(docLink);\n",
              "        }\n",
              "      </script>\n",
              "    </div>\n",
              "  </div>\n",
              "  "
            ],
            "text/plain": [
              "                                                text  ...                                            preproc\n",
              "0  Donald Trump just couldn t wish all Americans ...  ...  donald trump just couldn t wish all americans ...\n",
              "1  House Intelligence Committee Chairman Devin Nu...  ...  house intelligence committee chairman devin nu...\n",
              "2  On Friday, it was revealed that former Milwauk...  ...  on friday it was revealed that former milwauke...\n",
              "3  On Christmas day, Donald Trump announced that ...  ...  on christmas day donald trump announced that h...\n",
              "4  Pope Francis used his annual Christmas Day mes...  ...  pope francis used his annual christmas day mes...\n",
              "\n",
              "[5 rows x 3 columns]"
            ]
          },
          "metadata": {},
          "execution_count": 14
        }
      ]
    },
    {
      "cell_type": "markdown",
      "source": [
        "распределение длин текстов"
      ],
      "metadata": {
        "id": "FXnI-kJDqtr6"
      }
    },
    {
      "cell_type": "code",
      "source": [
        "import seaborn as sns\n",
        "import matplotlib.pyplot as plt\n",
        "%matplotlib inline"
      ],
      "metadata": {
        "id": "nqVKDpZbqtEE"
      },
      "execution_count": null,
      "outputs": []
    },
    {
      "cell_type": "code",
      "source": [
        "def spl(text):\n",
        "  return text.split()"
      ],
      "metadata": {
        "id": "Zc5R2_k4lJ84"
      },
      "execution_count": null,
      "outputs": []
    },
    {
      "cell_type": "code",
      "source": [
        "ax = sns.boxplot(data=df['preproc'].apply(spl).str.len())"
      ],
      "metadata": {
        "colab": {
          "base_uri": "https://localhost:8080/",
          "height": 265
        },
        "id": "vRcmZbSOqxqk",
        "outputId": "91035232-459c-4b46-d33e-500445f4d35e"
      },
      "execution_count": null,
      "outputs": [
        {
          "output_type": "display_data",
          "data": {
            "image/png": "[encoded data removed]",
            "text/plain": [
              "<Figure size 432x288 with 1 Axes>"
            ]
          },
          "metadata": {
            "needs_background": "light"
          }
        }
      ]
    },
    {
      "cell_type": "code",
      "source": [
        "df['preproc'].apply(spl).str.len().describe()"
      ],
      "metadata": {
        "colab": {
          "base_uri": "https://localhost:8080/"
        },
        "id": "kfZQt2DnrJYP",
        "outputId": "22ef529b-df2c-4474-9e1b-4e3a381d5150"
      },
      "execution_count": null,
      "outputs": [
        {
          "output_type": "execute_result",
          "data": {
            "text/plain": [
              "count    22834.000000\n",
              "mean       434.283919\n",
              "std        407.115917\n",
              "min          1.000000\n",
              "25%        254.000000\n",
              "50%        369.000000\n",
              "75%        510.000000\n",
              "max       8122.000000\n",
              "Name: preproc, dtype: float64"
            ]
          },
          "metadata": {},
          "execution_count": 145
        }
      ]
    },
    {
      "cell_type": "markdown",
      "source": [
        "паддинг в статье:\n",
        "все предложения доводятся до максимальной длины предложения в трейновых данных\n",
        "\n",
        "For a sentence in the test dataset, we pad sentences that are shorter than *maxlen* in the same way, but for sentences that have a length longer than *maxlen*, we simply cut extra words at the end of these sentences to reach *maxlen*."
      ],
      "metadata": {
        "id": "dEg3hluLCceF"
      }
    },
    {
      "cell_type": "markdown",
      "source": [
        "по графику распределения длин и по статистике из describe видно, что нет смысла паддить до максимальной длины (8122), ведь 75% значений меньше 510"
      ],
      "metadata": {
        "id": "7n6xTmUiDYw1"
      }
    },
    {
      "cell_type": "markdown",
      "source": [
        "как значение длины для паддинга возьму 1000, на графике это отмечено как максимальная длина, если не считать выбросы"
      ],
      "metadata": {
        "id": "BYJOokhZK4pw"
      }
    },
    {
      "cell_type": "markdown",
      "source": [
        "всего 6 разных классов"
      ],
      "metadata": {
        "id": "VyI9kLmiLgSW"
      }
    },
    {
      "cell_type": "code",
      "source": [
        "df['subject'].unique()"
      ],
      "metadata": {
        "colab": {
          "base_uri": "https://localhost:8080/"
        },
        "id": "it3m2xQdLf3U",
        "outputId": "3504a01f-6ff1-403f-e3e5-e3789290006f"
      },
      "execution_count": null,
      "outputs": [
        {
          "output_type": "execute_result",
          "data": {
            "text/plain": [
              "array(['News', 'politics', 'Government News', 'left-news', 'US_News',\n",
              "       'Middle-east'], dtype=object)"
            ]
          },
          "metadata": {},
          "execution_count": 71
        }
      ]
    },
    {
      "cell_type": "markdown",
      "source": [
        "### сбалансированые классы?"
      ],
      "metadata": {
        "id": "hZUr8t4_N2au"
      }
    },
    {
      "cell_type": "code",
      "source": [
        "df['subject'].value_counts()"
      ],
      "metadata": {
        "colab": {
          "base_uri": "https://localhost:8080/"
        },
        "id": "WAhnYhI6N6X6",
        "outputId": "059109b2-95ae-4331-e8b6-8054393d2523"
      },
      "execution_count": 11,
      "outputs": [
        {
          "output_type": "execute_result",
          "data": {
            "text/plain": [
              "News               9050\n",
              "politics           6423\n",
              "left-news          4303\n",
              "Government News    1497\n",
              "US_News             783\n",
              "Middle-east         778\n",
              "Name: subject, dtype: int64"
            ]
          },
          "metadata": {},
          "execution_count": 11
        }
      ]
    },
    {
      "cell_type": "markdown",
      "source": [
        "## не буду уменьшать датасет"
      ],
      "metadata": {
        "id": "_IhzeJnRgZzW"
      }
    },
    {
      "cell_type": "code",
      "source": [
        ""
      ],
      "metadata": {
        "id": "Qkh3t2NKgclA"
      },
      "execution_count": null,
      "outputs": []
    },
    {
      "cell_type": "markdown",
      "source": [
        "### размер датасета"
      ],
      "metadata": {
        "id": "3WgY8oj2M9KP"
      }
    },
    {
      "cell_type": "markdown",
      "source": [
        "### 1) сначала я попробовала сбалансировать классы и обрезать датасет - из каждого класса выбрала рандомно 778 примеров (кол-во примеров в самом маленьком клсссе), но на таком количестве данных модель ужасно обучается"
      ],
      "metadata": {
        "id": "tR-rcmhaPLO6"
      }
    },
    {
      "cell_type": "code",
      "source": [
        "from sklearn.utils import resample"
      ],
      "metadata": {
        "id": "-Fx6ZMInPqdG"
      },
      "execution_count": null,
      "outputs": []
    },
    {
      "cell_type": "code",
      "source": [
        "# cats = list(df['subject'].unique())"
      ],
      "metadata": {
        "id": "HR0jzj1-RbgB"
      },
      "execution_count": null,
      "outputs": []
    },
    {
      "cell_type": "code",
      "source": [
        "# all_dfs = []"
      ],
      "metadata": {
        "id": "1ep5OtvoS9Ev"
      },
      "execution_count": null,
      "outputs": []
    },
    {
      "cell_type": "code",
      "source": [
        "# for cat in cats:\n",
        "#   all_dfs.append(df[df['subject'] == cat].sample(n=778, random_state=42))\n",
        "\n",
        "# newdf = pd.concat(all_dfs, axis=0, ignore_index=True)"
      ],
      "metadata": {
        "id": "nmwCJi3eQSXu"
      },
      "execution_count": null,
      "outputs": []
    },
    {
      "cell_type": "code",
      "source": [
        "# newdf['subject'].value_counts()"
      ],
      "metadata": {
        "colab": {
          "base_uri": "https://localhost:8080/"
        },
        "id": "eQ6tBmEJTLgI",
        "outputId": "c9c5d974-279a-4f07-af98-90bb5cfa8c81"
      },
      "execution_count": null,
      "outputs": [
        {
          "output_type": "execute_result",
          "data": {
            "text/plain": [
              "US_News            778\n",
              "News               778\n",
              "left-news          778\n",
              "Government News    778\n",
              "Middle-east        778\n",
              "politics           778\n",
              "Name: subject, dtype: int64"
            ]
          },
          "metadata": {},
          "execution_count": 149
        }
      ]
    },
    {
      "cell_type": "code",
      "source": [
        "# newdf.to_csv('/content/gdrive/My Drive/fakenews.csv')"
      ],
      "metadata": {
        "id": "_fty4KaiT0Tw"
      },
      "execution_count": null,
      "outputs": []
    },
    {
      "cell_type": "markdown",
      "source": [
        "# Задача: предсказать категорию новости \n"
      ],
      "metadata": {
        "id": "PFziR47OGpKp"
      }
    },
    {
      "cell_type": "code",
      "source": [
        "!pip install torchmetrics"
      ],
      "metadata": {
        "id": "r5tXMASp77mv",
        "colab": {
          "base_uri": "https://localhost:8080/"
        },
        "outputId": "1ab64703-96be-4bba-9ad0-11dd4af049f8"
      },
      "execution_count": 15,
      "outputs": [
        {
          "output_type": "stream",
          "name": "stdout",
          "text": [
            "Collecting torchmetrics\n",
            "  Downloading torchmetrics-0.6.2-py3-none-any.whl (332 kB)\n",
            "\u001b[?25l\r\u001b[K     |█                               | 10 kB 23.8 MB/s eta 0:00:01\r\u001b[K     |██                              | 20 kB 25.4 MB/s eta 0:00:01\r\u001b[K     |███                             | 30 kB 13.4 MB/s eta 0:00:01\r\u001b[K     |████                            | 40 kB 9.7 MB/s eta 0:00:01\r\u001b[K     |█████                           | 51 kB 5.9 MB/s eta 0:00:01\r\u001b[K     |██████                          | 61 kB 5.5 MB/s eta 0:00:01\r\u001b[K     |███████                         | 71 kB 5.8 MB/s eta 0:00:01\r\u001b[K     |███████▉                        | 81 kB 6.5 MB/s eta 0:00:01\r\u001b[K     |████████▉                       | 92 kB 5.0 MB/s eta 0:00:01\r\u001b[K     |█████████▉                      | 102 kB 5.4 MB/s eta 0:00:01\r\u001b[K     |██████████▉                     | 112 kB 5.4 MB/s eta 0:00:01\r\u001b[K     |███████████▉                    | 122 kB 5.4 MB/s eta 0:00:01\r\u001b[K     |████████████▉                   | 133 kB 5.4 MB/s eta 0:00:01\r\u001b[K     |█████████████▉                  | 143 kB 5.4 MB/s eta 0:00:01\r\u001b[K     |██████████████▉                 | 153 kB 5.4 MB/s eta 0:00:01\r\u001b[K     |███████████████▊                | 163 kB 5.4 MB/s eta 0:00:01\r\u001b[K     |████████████████▊               | 174 kB 5.4 MB/s eta 0:00:01\r\u001b[K     |█████████████████▊              | 184 kB 5.4 MB/s eta 0:00:01\r\u001b[K     |██████████████████▊             | 194 kB 5.4 MB/s eta 0:00:01\r\u001b[K     |███████████████████▊            | 204 kB 5.4 MB/s eta 0:00:01\r\u001b[K     |████████████████████▊           | 215 kB 5.4 MB/s eta 0:00:01\r\u001b[K     |█████████████████████▊          | 225 kB 5.4 MB/s eta 0:00:01\r\u001b[K     |██████████████████████▋         | 235 kB 5.4 MB/s eta 0:00:01\r\u001b[K     |███████████████████████▋        | 245 kB 5.4 MB/s eta 0:00:01\r\u001b[K     |████████████████████████▋       | 256 kB 5.4 MB/s eta 0:00:01\r\u001b[K     |█████████████████████████▋      | 266 kB 5.4 MB/s eta 0:00:01\r\u001b[K     |██████████████████████████▋     | 276 kB 5.4 MB/s eta 0:00:01\r\u001b[K     |███████████████████████████▋    | 286 kB 5.4 MB/s eta 0:00:01\r\u001b[K     |████████████████████████████▋   | 296 kB 5.4 MB/s eta 0:00:01\r\u001b[K     |█████████████████████████████▋  | 307 kB 5.4 MB/s eta 0:00:01\r\u001b[K     |██████████████████████████████▌ | 317 kB 5.4 MB/s eta 0:00:01\r\u001b[K     |███████████████████████████████▌| 327 kB 5.4 MB/s eta 0:00:01\r\u001b[K     |████████████████████████████████| 332 kB 5.4 MB/s \n",
            "\u001b[?25hRequirement already satisfied: torch>=1.3.1 in /usr/local/lib/python3.7/dist-packages (from torchmetrics) (1.10.0+cu111)\n",
            "Requirement already satisfied: numpy>=1.17.2 in /usr/local/lib/python3.7/dist-packages (from torchmetrics) (1.19.5)\n",
            "Requirement already satisfied: packaging in /usr/local/lib/python3.7/dist-packages (from torchmetrics) (21.3)\n",
            "Requirement already satisfied: typing-extensions in /usr/local/lib/python3.7/dist-packages (from torch>=1.3.1->torchmetrics) (3.10.0.2)\n",
            "Requirement already satisfied: pyparsing!=3.0.5,>=2.0.2 in /usr/local/lib/python3.7/dist-packages (from packaging->torchmetrics) (3.0.6)\n",
            "Installing collected packages: torchmetrics\n",
            "Successfully installed torchmetrics-0.6.2\n"
          ]
        }
      ]
    },
    {
      "cell_type": "code",
      "source": [
        "!pip install ipdb"
      ],
      "metadata": {
        "id": "dEsys2lq79vc",
        "colab": {
          "base_uri": "https://localhost:8080/",
          "height": 854
        },
        "outputId": "6e7ef480-3f23-4786-f0ec-30662e133d17"
      },
      "execution_count": 16,
      "outputs": [
        {
          "output_type": "stream",
          "name": "stdout",
          "text": [
            "Collecting ipdb\n",
            "  Downloading ipdb-0.13.9.tar.gz (16 kB)\n",
            "Requirement already satisfied: setuptools in /usr/local/lib/python3.7/dist-packages (from ipdb) (57.4.0)\n",
            "Collecting ipython>=7.17.0\n",
            "  Downloading ipython-7.30.1-py3-none-any.whl (791 kB)\n",
            "\u001b[K     |████████████████████████████████| 791 kB 5.3 MB/s \n",
            "\u001b[?25hRequirement already satisfied: toml>=0.10.2 in /usr/local/lib/python3.7/dist-packages (from ipdb) (0.10.2)\n",
            "Requirement already satisfied: decorator in /usr/local/lib/python3.7/dist-packages (from ipdb) (4.4.2)\n",
            "Requirement already satisfied: pexpect>4.3 in /usr/local/lib/python3.7/dist-packages (from ipython>=7.17.0->ipdb) (4.8.0)\n",
            "Requirement already satisfied: jedi>=0.16 in /usr/local/lib/python3.7/dist-packages (from ipython>=7.17.0->ipdb) (0.18.1)\n",
            "Requirement already satisfied: traitlets>=4.2 in /usr/local/lib/python3.7/dist-packages (from ipython>=7.17.0->ipdb) (5.1.1)\n",
            "Requirement already satisfied: pygments in /usr/local/lib/python3.7/dist-packages (from ipython>=7.17.0->ipdb) (2.6.1)\n",
            "Requirement already satisfied: matplotlib-inline in /usr/local/lib/python3.7/dist-packages (from ipython>=7.17.0->ipdb) (0.1.3)\n",
            "Collecting prompt-toolkit!=3.0.0,!=3.0.1,<3.1.0,>=2.0.0\n",
            "  Downloading prompt_toolkit-3.0.24-py3-none-any.whl (374 kB)\n",
            "\u001b[K     |████████████████████████████████| 374 kB 43.7 MB/s \n",
            "\u001b[?25hRequirement already satisfied: pickleshare in /usr/local/lib/python3.7/dist-packages (from ipython>=7.17.0->ipdb) (0.7.5)\n",
            "Requirement already satisfied: backcall in /usr/local/lib/python3.7/dist-packages (from ipython>=7.17.0->ipdb) (0.2.0)\n",
            "Requirement already satisfied: parso<0.9.0,>=0.8.0 in /usr/local/lib/python3.7/dist-packages (from jedi>=0.16->ipython>=7.17.0->ipdb) (0.8.3)\n",
            "Requirement already satisfied: ptyprocess>=0.5 in /usr/local/lib/python3.7/dist-packages (from pexpect>4.3->ipython>=7.17.0->ipdb) (0.7.0)\n",
            "Requirement already satisfied: wcwidth in /usr/local/lib/python3.7/dist-packages (from prompt-toolkit!=3.0.0,!=3.0.1,<3.1.0,>=2.0.0->ipython>=7.17.0->ipdb) (0.2.5)\n",
            "Building wheels for collected packages: ipdb\n",
            "  Building wheel for ipdb (setup.py) ... \u001b[?25l\u001b[?25hdone\n",
            "  Created wheel for ipdb: filename=ipdb-0.13.9-py3-none-any.whl size=11648 sha256=a09b3b62d78f8d783c28890bd34355ae3643b1f361dac4982dec0c9ef312d7cf\n",
            "  Stored in directory: /root/.cache/pip/wheels/65/cd/cc/aaf92acae337a28fdd2aa4d632196a59745c8c39f76eaeed01\n",
            "Successfully built ipdb\n",
            "Installing collected packages: prompt-toolkit, ipython, ipdb\n",
            "  Attempting uninstall: prompt-toolkit\n",
            "    Found existing installation: prompt-toolkit 1.0.18\n",
            "    Uninstalling prompt-toolkit-1.0.18:\n",
            "      Successfully uninstalled prompt-toolkit-1.0.18\n",
            "  Attempting uninstall: ipython\n",
            "    Found existing installation: ipython 5.5.0\n",
            "    Uninstalling ipython-5.5.0:\n",
            "      Successfully uninstalled ipython-5.5.0\n",
            "\u001b[31mERROR: pip's dependency resolver does not currently take into account all the packages that are installed. This behaviour is the source of the following dependency conflicts.\n",
            "jupyter-console 5.2.0 requires prompt-toolkit<2.0.0,>=1.0.0, but you have prompt-toolkit 3.0.24 which is incompatible.\n",
            "google-colab 1.0.0 requires ipython~=5.5.0, but you have ipython 7.30.1 which is incompatible.\u001b[0m\n",
            "Successfully installed ipdb-0.13.9 ipython-7.30.1 prompt-toolkit-3.0.24\n"
          ]
        },
        {
          "output_type": "display_data",
          "data": {
            "application/vnd.colab-display-data+json": {
              "pip_warning": {
                "packages": [
                  "IPython",
                  "prompt_toolkit"
                ]
              }
            }
          },
          "metadata": {}
        }
      ]
    },
    {
      "cell_type": "code",
      "source": [
        "import numpy as np\n",
        "from string import punctuation\n",
        "from collections import Counter\n",
        "\n",
        "from sklearn.model_selection import train_test_split\n",
        "from sklearn.utils import shuffle\n",
        "import torch\n",
        "import torch.nn as nn\n",
        "import torch.nn.functional as F\n",
        "from torch.utils.data import Dataset, DataLoader, RandomSampler, SequentialSampler\n",
        "# from torch.nn.utils.rnn import pad_sequence\n",
        "import torch.optim as optim\n",
        "from torchmetrics import F1\n",
        "from torchmetrics.functional import f1, recall, accuracy\n",
        "import ipdb"
      ],
      "metadata": {
        "id": "qU4v1vET8Df-"
      },
      "execution_count": 17,
      "outputs": []
    },
    {
      "cell_type": "code",
      "source": [
        "vocab = Counter() # для ВСЕХ ДАННЫХ\n",
        "\n",
        "for text in df['preproc']:\n",
        "    vocab.update(text.split())\n",
        "print('всего уникальных токенов:', len(vocab))"
      ],
      "metadata": {
        "colab": {
          "base_uri": "https://localhost:8080/"
        },
        "id": "IFrDarUrl60j",
        "outputId": "0e9ae55e-fec0-4409-d557-2be639e0826e"
      },
      "execution_count": 18,
      "outputs": [
        {
          "output_type": "stream",
          "name": "stdout",
          "text": [
            "всего уникальных токенов: 194941\n"
          ]
        }
      ]
    },
    {
      "cell_type": "code",
      "source": [
        "filtered_vocab = set()\n",
        "\n",
        "for word in vocab:\n",
        "    if vocab[word] > 2:\n",
        "        filtered_vocab.add(word)\n",
        "print('уникальных токенов, втретившихся больше 2 раз:', len(filtered_vocab))"
      ],
      "metadata": {
        "colab": {
          "base_uri": "https://localhost:8080/"
        },
        "id": "ZOOMLNNjmLBr",
        "outputId": "fc2eccb8-4e44-4f20-c702-47e7d6a079b9"
      },
      "execution_count": 19,
      "outputs": [
        {
          "output_type": "stream",
          "name": "stdout",
          "text": [
            "уникальных токенов, втретившихся больше 2 раз: 59975\n"
          ]
        }
      ]
    },
    {
      "cell_type": "code",
      "source": [
        "#создаем словарь с индексами word2id, для спецсимвола паддинга дефолтный индекс - 0\n",
        "word2id = {'PAD':0}\n",
        "\n",
        "for word in filtered_vocab:\n",
        "    word2id[word] = len(word2id)"
      ],
      "metadata": {
        "id": "ZbLhI4_TmO-Z"
      },
      "execution_count": 20,
      "outputs": []
    },
    {
      "cell_type": "code",
      "source": [
        ""
      ],
      "metadata": {
        "id": "VYhGToYEmbJb"
      },
      "execution_count": null,
      "outputs": []
    },
    {
      "cell_type": "markdown",
      "source": [
        "идея статьи\n",
        "\n",
        "we stack CNN and standard LSTM in a unified architecture for semantic sentence modeling.\n",
        "\n",
        "we apply CNN to text data and feed consecutive window features directly to LSTM, and so our architecture enables LSTM to learn long-range dependencies from higher-order sequential features."
      ],
      "metadata": {
        "id": "UPEaSKuM00h5"
      }
    },
    {
      "cell_type": "markdown",
      "source": [
        "We choose sequence-based input other than relying on the syntactic parse trees before feeding in the neural network, thus our model doesn’t rely on any external language knowledge and complicated pre-processing."
      ],
      "metadata": {
        "id": "LX9ksiIh0mIz"
      }
    },
    {
      "cell_type": "markdown",
      "source": [
        "### векторы из статьи GoogleNews-vectors-negative300"
      ],
      "metadata": {
        "id": "9wy_KnhmY9Vb"
      }
    },
    {
      "cell_type": "markdown",
      "source": [
        "*  We initialize word vectors with the publicly avail- able word2vec vectors1 that are pre-trained using about 100B words from the Google News Dataset. The dimensionality of the word vectors is 300. We also initialize the word vector for the unknown words from the uniform distribution [-0.25, 0.25]. We then fine-tune the word vectors along with other model parameters during training."
      ],
      "metadata": {
        "id": "I9WOItpOMRa9"
      }
    },
    {
      "cell_type": "code",
      "source": [
        "!pip install tqdm\n",
        "from tqdm import tqdm"
      ],
      "metadata": {
        "id": "fj1zlgWmeWMa"
      },
      "execution_count": null,
      "outputs": []
    },
    {
      "cell_type": "code",
      "source": [
        "len(word2id) # всего слов для которых. нужны эмбеддинги"
      ],
      "metadata": {
        "colab": {
          "base_uri": "https://localhost:8080/"
        },
        "id": "qg3-YQ1O4mgi",
        "outputId": "2d869c8a-cae2-4644-a2f3-6a61e890246c"
      },
      "execution_count": 21,
      "outputs": [
        {
          "output_type": "execute_result",
          "data": {
            "text/plain": [
              "59976"
            ]
          },
          "metadata": {},
          "execution_count": 21
        }
      ]
    },
    {
      "cell_type": "markdown",
      "source": [
        "We also initialize the word vector for the unknown words from the uniform distribution [-0.25, 0.25]."
      ],
      "metadata": {
        "id": "R4UCohiq4qoS"
      }
    },
    {
      "cell_type": "markdown",
      "source": [
        "добавляю вектора для незнакомых слов и собираю все в 1 матрицу"
      ],
      "metadata": {
        "id": "h6P8mp5W5YJs"
      }
    },
    {
      "cell_type": "code",
      "source": [
        "from gensim.models import KeyedVectors"
      ],
      "metadata": {
        "id": "2Q26UPJXSmpg"
      },
      "execution_count": 22,
      "outputs": []
    },
    {
      "cell_type": "code",
      "source": [
        "! wget -c \"https://s3.amazonaws.com/dl4j-distribution/GoogleNews-vectors-negative300.bin.gz\""
      ],
      "metadata": {
        "colab": {
          "base_uri": "https://localhost:8080/"
        },
        "id": "lYOP5KAMW8Db",
        "outputId": "d8ce6924-2902-434f-c3bf-31c19be6ee0d"
      },
      "execution_count": 23,
      "outputs": [
        {
          "output_type": "stream",
          "name": "stdout",
          "text": [
            "--2021-12-29 19:38:38--  https://s3.amazonaws.com/dl4j-distribution/GoogleNews-vectors-negative300.bin.gz\n",
            "Resolving s3.amazonaws.com (s3.amazonaws.com)... 3.5.20.187\n",
            "Connecting to s3.amazonaws.com (s3.amazonaws.com)|3.5.20.187|:443... connected.\n",
            "HTTP request sent, awaiting response... 200 OK\n",
            "Length: 1647046227 (1.5G) [application/x-gzip]\n",
            "Saving to: ‘GoogleNews-vectors-negative300.bin.gz’\n",
            "\n",
            "GoogleNews-vectors- 100%[===================>]   1.53G  72.7MB/s    in 24s     \n",
            "\n",
            "2021-12-29 19:39:02 (66.0 MB/s) - ‘GoogleNews-vectors-negative300.bin.gz’ saved [1647046227/1647046227]\n",
            "\n"
          ]
        }
      ]
    },
    {
      "cell_type": "code",
      "source": [
        "! gzip -d GoogleNews-vectors-negative300.bin.gz"
      ],
      "metadata": {
        "id": "LfQ6TJhvXDCX"
      },
      "execution_count": 24,
      "outputs": []
    },
    {
      "cell_type": "code",
      "source": [
        "! ls -a"
      ],
      "metadata": {
        "colab": {
          "base_uri": "https://localhost:8080/"
        },
        "id": "YuNxqiwSTxeE",
        "outputId": "12fd0d03-4282-448f-9cc9-ec8a8688d361"
      },
      "execution_count": 25,
      "outputs": [
        {
          "output_type": "stream",
          "name": "stdout",
          "text": [
            ".  ..  .config\tgdrive\tGoogleNews-vectors-negative300.bin  sample_data\n"
          ]
        }
      ]
    },
    {
      "cell_type": "code",
      "source": [
        "w2v = KeyedVectors.load_word2vec_format('GoogleNews-vectors-negative300.bin', binary=True)"
      ],
      "metadata": {
        "id": "qhvFWNlMSrNI"
      },
      "execution_count": 26,
      "outputs": []
    },
    {
      "cell_type": "markdown",
      "source": [
        "принтится кол-во незнакомых слов для модели"
      ],
      "metadata": {
        "id": "qpiEtMCwRy-6"
      }
    },
    {
      "cell_type": "code",
      "source": [
        "weights = np.zeros((len(word2id), 300))\n",
        "unk = 0\n",
        "for word, i in word2id.items():\n",
        "    try:\n",
        "        weights[i] = w2v[word]\n",
        "    except KeyError:\n",
        "        unk += 1\n",
        "        weights[i] = np.random.uniform(-0.25, 0.25, 300)\n",
        "print(unk)\n",
        "weights = torch.FloatTensor(weights)"
      ],
      "metadata": {
        "id": "6KLof-JC45Yx",
        "colab": {
          "base_uri": "https://localhost:8080/"
        },
        "outputId": "451eeed9-2181-452c-f866-6aef1fc5a167"
      },
      "execution_count": 27,
      "outputs": [
        {
          "output_type": "stream",
          "name": "stdout",
          "text": [
            "27390\n"
          ]
        }
      ]
    },
    {
      "cell_type": "code",
      "source": [
        "weights.shape"
      ],
      "metadata": {
        "colab": {
          "base_uri": "https://localhost:8080/"
        },
        "id": "m8--IZ1H5iQR",
        "outputId": "dc1dcb06-f918-4c0c-b23f-e946e33e8856"
      },
      "execution_count": 28,
      "outputs": [
        {
          "output_type": "execute_result",
          "data": {
            "text/plain": [
              "torch.Size([59976, 300])"
            ]
          },
          "metadata": {},
          "execution_count": 28
        }
      ]
    },
    {
      "cell_type": "code",
      "source": [
        "cat_mapper = {cat: n for n, cat in enumerate(df.subject.unique())}"
      ],
      "metadata": {
        "id": "qzeQL26bh9ze"
      },
      "execution_count": 29,
      "outputs": []
    },
    {
      "cell_type": "code",
      "source": [
        "cat_mapper"
      ],
      "metadata": {
        "colab": {
          "base_uri": "https://localhost:8080/"
        },
        "id": "Jj506bdph_3S",
        "outputId": "6850c935-75ff-46f7-b3d4-af6039743931"
      },
      "execution_count": 30,
      "outputs": [
        {
          "output_type": "execute_result",
          "data": {
            "text/plain": [
              "{'Government News': 2,\n",
              " 'Middle-east': 5,\n",
              " 'News': 0,\n",
              " 'US_News': 4,\n",
              " 'left-news': 3,\n",
              " 'politics': 1}"
            ]
          },
          "metadata": {},
          "execution_count": 30
        }
      ]
    },
    {
      "cell_type": "code",
      "source": [
        "df.subject = df.subject.map(cat_mapper)"
      ],
      "metadata": {
        "id": "-ziRdKvqiBIv"
      },
      "execution_count": 31,
      "outputs": []
    },
    {
      "cell_type": "code",
      "source": [
        "df.info()"
      ],
      "metadata": {
        "colab": {
          "base_uri": "https://localhost:8080/"
        },
        "id": "bvZRRAqfiVBe",
        "outputId": "b36cdd04-76c5-46a8-e548-5ae0a0746ce5"
      },
      "execution_count": 32,
      "outputs": [
        {
          "output_type": "stream",
          "name": "stdout",
          "text": [
            "<class 'pandas.core.frame.DataFrame'>\n",
            "Int64Index: 22834 entries, 0 to 23480\n",
            "Data columns (total 3 columns):\n",
            " #   Column   Non-Null Count  Dtype \n",
            "---  ------   --------------  ----- \n",
            " 0   text     22834 non-null  object\n",
            " 1   subject  22834 non-null  int64 \n",
            " 2   preproc  22834 non-null  object\n",
            "dtypes: int64(1), object(2)\n",
            "memory usage: 713.6+ KB\n"
          ]
        }
      ]
    },
    {
      "cell_type": "markdown",
      "source": [
        "padding - как уже писала выше возьму maxlen из всех предложений, но без учета выбросов = 1000"
      ],
      "metadata": {
        "id": "WCZPpsAvO620"
      }
    },
    {
      "cell_type": "code",
      "source": [
        "class NewsDataset(Dataset):\n",
        "\n",
        "    def __init__(self, dataset, target, word2id, DEVICE, sequence_length=1000, pad_token='PAD'):\n",
        "        self.dataset = dataset.values\n",
        "        self.word2id = word2id\n",
        "        self.length = dataset.shape[0]\n",
        "        self.target = target.values\n",
        "        self.device = DEVICE\n",
        "        self.sequence_length = sequence_length\n",
        "        self.pad_token = pad_token\n",
        "        self.pad_index = self.word2id[self.pad_token]\n",
        "\n",
        "    def __len__(self):\n",
        "        return self.length\n",
        "\n",
        "    def __getitem__(self, index): \n",
        "        # sentence = self.x_data[index]\n",
        "        sentence = self.dataset[index]\n",
        "        # просто выбрасываем наши неизветсные слова\n",
        "        ids = torch.LongTensor([self.word2id[word] for word in sentence if word in self.word2id])\n",
        "        y = [self.target[index]]\n",
        "        y = torch.Tensor(y).to(self.device)\n",
        "        return ids, y\n",
        "    \n",
        "    def process_text(text):\n",
        "        words = text.split()\n",
        "        return words\n",
        "    \n",
        "    def padding(self, sequence):\n",
        "        # Ограничить длину self.sequence_length\n",
        "        # если длина меньше максимально - западить\n",
        "        if len(sequence)< self.sequence_length:\n",
        "          add_pad = self.sequence_length - len(sequence)\n",
        "          \n",
        "          return list(sequence)+[self.pad_index]*add_pad\n",
        "        else:\n",
        "          return list(sequence[:self.sequence_length])\n",
        "\n",
        "    def collate_fn(self, batch):\n",
        "      ids, y = list(zip(*batch))\n",
        "      padded_ids = []\n",
        "      for sent in ids:\n",
        "          temp = torch.Tensor(self.padding(sent)).long() # tensor(25558., 7024.)\n",
        "          padded_ids.append(temp)\n",
        "      \n",
        "      padded_ids = torch.vstack(padded_ids).to(self.device)\n",
        "      y = torch.Tensor(y).long().to(self.device)\n",
        "      return padded_ids, y"
      ],
      "metadata": {
        "id": "KxhS81vK0l1u"
      },
      "execution_count": 33,
      "outputs": []
    },
    {
      "cell_type": "code",
      "source": [
        "device = torch.device('cuda') if torch.cuda.is_available() else torch.device('cpu')"
      ],
      "metadata": {
        "id": "dJFaX6-QjR7d"
      },
      "execution_count": 34,
      "outputs": []
    },
    {
      "cell_type": "code",
      "source": [
        "x_train, x_validation, y_train, y_validation = train_test_split(df.preproc, df.subject, test_size=0.1, random_state=42)\n"
      ],
      "metadata": {
        "id": "TFS-j6alu9Sh"
      },
      "execution_count": 35,
      "outputs": []
    },
    {
      "cell_type": "code",
      "source": [
        "from torch.utils.data import RandomSampler, SequentialSampler"
      ],
      "metadata": {
        "id": "n-7G8BLOxClo"
      },
      "execution_count": 36,
      "outputs": []
    },
    {
      "cell_type": "markdown",
      "source": [
        "loaders"
      ],
      "metadata": {
        "id": "LE5uOV1_yAhu"
      }
    },
    {
      "cell_type": "code",
      "source": [
        "train_dataset = NewsDataset(x_train, y_train, word2id, device)\n",
        "train_sampler = RandomSampler(train_dataset)\n",
        "train_loader = DataLoader(train_dataset, collate_fn=train_dataset.collate_fn, sampler=train_sampler, batch_size=64)\n",
        "\n",
        "validation_dataset = NewsDataset(x_validation, y_validation, word2id, device)\n",
        "val_sampler = SequentialSampler(validation_dataset)\n",
        "validation_loader = DataLoader(validation_dataset, collate_fn=validation_dataset.collate_fn, sampler=val_sampler, batch_size=64)"
      ],
      "metadata": {
        "id": "GsMT4-e6wpGs"
      },
      "execution_count": 37,
      "outputs": []
    },
    {
      "cell_type": "markdown",
      "source": [
        "3) реализуйте на pytorch ту архитектуру модели, которую в итоге тестировали авторы (подробное описание есть в статье), таким образом, чтобы это был пайплайн для проведения экспериментов: можно было запускать модель с разными гиперпараметрами, разными способами регуляризации, описанными в статье (в том числе, чтобы можно было вставлять ее в разных местах), паддингом, векторизацией.\n"
      ],
      "metadata": {
        "id": "MyWjY1dLGpyX"
      }
    },
    {
      "cell_type": "markdown",
      "source": [
        "For text classification, we regard the output of the\n",
        "hidden state at the last time step of LSTM as the\n",
        "document representation and we add a softmax layer\n",
        "on top."
      ],
      "metadata": {
        "id": "klRmEMra3eja"
      }
    },
    {
      "cell_type": "markdown",
      "source": [
        "We then fine-tune the word vectors along with other model parameters during training."
      ],
      "metadata": {
        "id": "2QrS1Spa6lT0"
      }
    },
    {
      "cell_type": "markdown",
      "source": [
        "since the number of windows generated from each convolution layer varies when the filter length varies, we cut the window sequence at the end based on the maximum filter length that gives the shortest number of win- dows. Each window is represented as the concatena- tion of outputs from different convolutional layers. We also exploit different combinations of different filter lengths."
      ],
      "metadata": {
        "id": "ALhMKZwd7H-i"
      }
    },
    {
      "cell_type": "markdown",
      "source": [
        "![image.png](data:image/png;base64,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)"
      ],
      "metadata": {
        "id": "Hw9oADRz82NL"
      }
    },
    {
      "cell_type": "code",
      "source": [
        "class CLSTM(nn.Module):\n",
        "    \n",
        "    def __init__(self, matrix_w, kernels=[3], classes_num=6, sequence_length=1000, embedding_dim=300, num_filters=150, memory_dim=150, dropout_input=True, dropout_output=False, dropout_p=0.5):\n",
        "        super().__init__()\n",
        "\n",
        "        self.dropout_input = dropout_input\n",
        "        self.dropout_output = dropout_output\n",
        "\n",
        "        # какая то сложная идея в статье, что надо после сверток обрезать по минимальной получившейся длине последовательности\n",
        "        # я не очень поняла зачем, если можно сделать padding='same' и никаких проблем\n",
        "        self.max_window = sequence_length - int(max(kernels)) + 1\n",
        "\n",
        "        #  If freeze = True, the tensor does not get updated in the learning process. \n",
        "        # в статье авторы дообучают\n",
        "        self.embedding = torch.nn.Embedding.from_pretrained(torch.Tensor(matrix_w), freeze=False, padding_idx=0)\n",
        "\n",
        "        self.convs = nn.ModuleList([torch.nn.Conv1d(in_channels=embedding_dim, \n",
        "                                                      out_channels=num_filters, \n",
        "                                                      kernel_size=size) for size in kernels])\n",
        "        \n",
        "\n",
        "        self.LSTM = torch.nn.LSTM(input_size=num_filters*len(kernels),\n",
        "                            hidden_size=memory_dim,\n",
        "                            batch_first=True)\n",
        "\n",
        "        self.relu = torch.nn.ReLU()\n",
        "\n",
        "        self.hidden = torch.nn.Linear(in_features=memory_dim, out_features=classes_num)\n",
        "\n",
        "        self.dropout = torch.nn.Dropout(p=dropout_p)\n",
        "\n",
        "        self.softmax = torch.nn.Softmax(dim=1)\n",
        "\n",
        "    def forward(self, word):\n",
        "\n",
        "        embedded = self.embedding(word)\n",
        "        #batch_size x seq_len x embedding_dim\n",
        "\n",
        "        embedded = embedded.transpose(1,2)\n",
        "        #batch_size x embedding_dim x seq_len\n",
        "\n",
        "        # to word vectors before feeding the sequence of words into the convolutional layer\n",
        "        if self.dropout_input:\n",
        "            embedded = self.dropout(embedded)\n",
        "\n",
        "        \n",
        "        feature_maps = [self.relu(conv(embedded)[:, :, :self.max_window]) for conv in self.convs]\n",
        "        #batch_size x filter_count_i x seq_len each feature map\n",
        "\n",
        "        concat = torch.cat(feature_maps, 1)\n",
        "        #batch_size x filter_count1+...+filter_countN x seq_len\n",
        "\n",
        "        concat = concat.transpose(1,2)\n",
        "\n",
        "        # For text classification, we regard the output of the\n",
        "        # hidden state at the last time step of LSTM as the\n",
        "        # document representation and we add a softmax layer\n",
        "        # on top\n",
        "        _, (hn, _) = self.LSTM(concat)\n",
        "\n",
        "        # to the output of LSTM before the softmax layer\n",
        "        if self.dropout_output:\n",
        "            hn = self.dropout(hn)\n",
        "        #num of layers x batch_size x memory_dim\n",
        "        hn = torch.squeeze(hn, 0) # убираю num of layers\n",
        "        # batch_size x memory_dim\n",
        "\n",
        "        # linear layer(so to get number of classes) and softmax\n",
        "        logits = self.hidden(hn)\n",
        "        logits = self.softmax(logits)     \n",
        "        return logits"
      ],
      "metadata": {
        "id": "uGcR_tucWoTq"
      },
      "execution_count": 38,
      "outputs": []
    },
    {
      "cell_type": "markdown",
      "source": [
        "* cross-entropy error"
      ],
      "metadata": {
        "id": "6XAUcgpU3iEu"
      }
    },
    {
      "cell_type": "markdown",
      "source": [
        "* We employ stochas- tic gradient descent (SGD) to learn the model parameters and adopt the optimizer RM- Sprop"
      ],
      "metadata": {
        "id": "KYhoGVaU3mhF"
      }
    },
    {
      "cell_type": "code",
      "source": [
        "from torchmetrics import F1\n",
        "from torchmetrics.functional import f1, recall\n",
        "from torchmetrics.functional import precision, accuracy"
      ],
      "metadata": {
        "id": "eagPg33rUS8K"
      },
      "execution_count": 39,
      "outputs": []
    },
    {
      "cell_type": "markdown",
      "source": [
        "# train"
      ],
      "metadata": {
        "id": "BnO5r9G6UFN2"
      }
    },
    {
      "cell_type": "code",
      "source": [
        "def train(model, iterator, optimizer, criterion, DEVICE=device):\n",
        "    epoch_loss = 0 # для подсчета среднего лосса на всех батчах\n",
        "\n",
        "    model.train()  # ставим модель в обучение, явно указываем, что сейчас надо будет хранить градиенты у всех весов\n",
        "\n",
        "    for i, (texts, ys) in enumerate(iterator): #итерируемся по батчам\n",
        "        optimizer.zero_grad()  #обнуляем градиенты\n",
        "        \n",
        "        preds = model(texts.to(DEVICE))\n",
        "        \n",
        "        loss = criterion(preds, ys.to(DEVICE)) #считаем значение функции потерь  \n",
        "        loss.backward() #считаем градиенты  \n",
        "        optimizer.step() #обновляем веса \n",
        "        epoch_loss += loss.item() #сохраняем значение функции потерь\n",
        "        if not (i + 1) % int(len(iterator)/5):\n",
        "            print(f'Train loss: {epoch_loss/i}')\n",
        "    return  model, epoch_loss / len(iterator) # возвращаем среднее значение лосса по всей выборке"
      ],
      "metadata": {
        "id": "Vn4pWSMvUE8B"
      },
      "execution_count": 40,
      "outputs": []
    },
    {
      "cell_type": "code",
      "source": [
        "def evaluate(model, iterator, criterion, DEVICE=device):\n",
        "    epoch_loss = []\n",
        "    epoch_metric = []\n",
        "    # acc = []\n",
        "        \n",
        "    model.eval() \n",
        "    with torch.no_grad():\n",
        "        for i, (texts, ys) in enumerate(iterator):  \n",
        "            \n",
        "            preds = model(texts.to(DEVICE))\n",
        "            \n",
        "            loss = criterion(preds, ys.to(DEVICE))\n",
        "            epoch_loss.append(loss.item())\n",
        "            \n",
        "            # # f1\n",
        "            # batch_metric = f1(preds.argmax(1).long(), ys.long()) #  ignore_index=0\n",
        "            # epoch_metric.append(batch_metric.cpu().numpy())\n",
        "\n",
        "            # accuracy\n",
        "            batch_metric = accuracy(preds.argmax(1).long(), ys.long(), average='weighted', num_classes=6)\n",
        "            epoch_metric.append(batch_metric.cpu().numpy())\n",
        "\n",
        "    return model, np.mean(epoch_metric), np.mean(epoch_loss) # возвращаем среднее значение по всей выборке"
      ],
      "metadata": {
        "id": "cVJk4igBUIrJ"
      },
      "execution_count": 41,
      "outputs": []
    },
    {
      "cell_type": "code",
      "source": [
        "def train_epochs(model, train_iterator, val_iterator, optimizer, criterion, num_epochs=5, DEVICE=device):\n",
        "    losses = []\n",
        "    losses_eval = []\n",
        "    f1s = []\n",
        "    f1s_eval = []\n",
        "\n",
        "    for i in range(num_epochs):\n",
        "        print(f'\\nstarting Epoch {i}')\n",
        "        model, epoch_loss = train(model, train_iterator, optimizer, criterion, DEVICE)\n",
        "        losses.append(epoch_loss)\n",
        "        print('\\nEvaluating on train...')\n",
        "\n",
        "        # print(evaluate(model, train_iterator, criterion))\n",
        "        _, f1_on_train, _ = evaluate(model, train_iterator, criterion, DEVICE)\n",
        "        f1s.append(f1_on_train)\n",
        "\n",
        "        print('\\nEvaluating on test...')\n",
        "        _, f1_on_test, epoch_loss_on_test = evaluate(model, val_iterator, criterion, DEVICE)\n",
        "        losses_eval.append(epoch_loss_on_test)\n",
        "        f1s_eval.append(f1_on_test)\n",
        "    \n",
        "    return losses, losses_eval, f1s, f1s_eval"
      ],
      "metadata": {
        "id": "B7xD7COiUbt2"
      },
      "execution_count": 42,
      "outputs": []
    },
    {
      "cell_type": "markdown",
      "source": [
        "метрика у меня как у авторов статьи - акураси"
      ],
      "metadata": {
        "id": "0V6vqA64THg5"
      }
    },
    {
      "cell_type": "code",
      "source": [
        "import matplotlib.pyplot as plt\n",
        "\n",
        "def make_graphs(losses, losses_eval, \n",
        "                f1s, f1s_eval):\n",
        "\n",
        "  plt.plot(losses)\n",
        "  plt.plot(losses_eval)\n",
        "  plt.title('BCE loss value')\n",
        "  plt.ylabel('BCE loss')\n",
        "  plt.xlabel('epoch')\n",
        "  plt.legend(['train', 'val'], loc='upper right')\n",
        "  plt.show()\n",
        "\n",
        "  plt.plot(f1s)\n",
        "  plt.plot(f1s_eval)\n",
        "  plt.title('metric value')\n",
        "  plt.ylabel('metric value')\n",
        "  plt.xlabel('epoch')\n",
        "  plt.legend(['train', 'val'], loc='upper right')\n",
        "  plt.show()"
      ],
      "metadata": {
        "id": "8mzjK6d-UesV"
      },
      "execution_count": 43,
      "outputs": []
    },
    {
      "cell_type": "code",
      "source": [
        "def add_to_table(losses_eval, f1s_eval, all_dfs):\n",
        "    \"\"\"\n",
        "    add mean metrics from last 2 epochs on test to summary table\n",
        "    \"\"\"\n",
        "\n",
        "    all_metrics = []\n",
        "\n",
        "    stroka = {}\n",
        "    stroka['losses'] = np.mean(losses_eval[-2:])\n",
        "    stroka['metric'] = np.mean(f1s_eval[-2:])\n",
        "    all_metrics.append(stroka) # list of dicts\n",
        "\n",
        "    all_dfs.append(pd.DataFrame(all_metrics))"
      ],
      "metadata": {
        "id": "GlcZTySrUgeU"
      },
      "execution_count": 44,
      "outputs": []
    },
    {
      "cell_type": "code",
      "source": [
        "def pipeline(weights=weights, \n",
        "             num_epochs=3, \n",
        "             train_loader=train_loader, \n",
        "             validation_loader=validation_loader, \n",
        "             lr=0.001,\n",
        "             alldf=None,\n",
        "             **params): # **params is for CLSTM params\n",
        "\n",
        "    device = torch.device('cuda') if torch.cuda.is_available() else torch.device('cpu')\n",
        "    if params:\n",
        "        print(\"received model params\", params)\n",
        "        model = CLSTM(weights, **params)\n",
        "    else:\n",
        "        model = CLSTM(weights)\n",
        "    criterion = torch.nn.CrossEntropyLoss()\n",
        "    optimizer = torch.optim.RMSprop(params=model.parameters(), weight_decay=0.0001, lr=lr) # RMSprop with L2 regularization\n",
        "    model = model.to(device)\n",
        "    criterion = criterion.to(device)\n",
        "\n",
        "    num_epochs = num_epochs\n",
        "    \n",
        "    print(\"train_epochs\")\n",
        "    losses, losses_eval, f1s, f1s_eval = train_epochs(model,\n",
        "                                                      train_loader, \n",
        "                                                      validation_loader, \n",
        "                                                      optimizer,\n",
        "                                                      criterion,\n",
        "                                                      num_epochs,\n",
        "                                                      DEVICE=device)\n",
        "    print(\"make_graphs\")\n",
        "    make_graphs(losses, losses_eval, f1s, f1s_eval)\n",
        "\n",
        "    if alldf:\n",
        "        print(\"add metrics to table\")\n",
        "        add_to_table(losses_eval, f1s_eval, alldf)\n",
        "\n",
        "    return alldf, model"
      ],
      "metadata": {
        "id": "v6Ci8mJsUw9c"
      },
      "execution_count": 45,
      "outputs": []
    },
    {
      "cell_type": "markdown",
      "source": [
        "\n",
        "4) поставьте эксперименты с разными параметрами и особенностями архитектуры (регуляризация, паддинг, векторизация, драпаут и тд, в статье подробно описан смысл этих операций и что конкретно делали, загуглите как это имплементировано в торче) так как описано в статье (там есть подробное описание в разделе 5.2 Experimental Settings ) \n"
      ],
      "metadata": {
        "id": "bf4Fb-YJGvNR"
      }
    },
    {
      "cell_type": "markdown",
      "source": [
        "### регуляризация\n",
        "\n",
        "как ведет себя модель с дропаутами в разных местах. в статье описаны 2 варианта его расположения"
      ],
      "metadata": {
        "id": "I8LJ5Cx_SZKz"
      }
    },
    {
      "cell_type": "markdown",
      "source": [
        "For regularization, we employ two commonly used techniques: dropout and L2 weight regularization."
      ],
      "metadata": {
        "id": "tn_9wewLUwej"
      }
    },
    {
      "cell_type": "markdown",
      "source": [
        "\n",
        "We  add L2 regularization with a factor of 0.001 to the weights in the softmax layer for both tasks."
      ],
      "metadata": {
        "id": "ALCI-0-FTzze"
      }
    },
    {
      "cell_type": "markdown",
      "source": [
        "we either apply dropout \n",
        "* to word vectors before feeding the sequence of words into the convolutional layer \n",
        "\n",
        "* or to the output of LSTM before the softmax layer."
      ],
      "metadata": {
        "id": "PJfpbmVkS46V"
      }
    },
    {
      "cell_type": "markdown",
      "source": [
        "## эксперимент с параметрами модели по умолчанию: \n",
        "\n",
        "kernels=[3], \n",
        "classes_num=6, \n",
        "sequence_length=1000, \n",
        "embedding_dim=300, \n",
        "num_filters=150, \n",
        "memory_dim=150, \n",
        "dropout_input=True, \n",
        "dropout_output=False, \n",
        "dropout_p=0.5\n",
        "\n",
        "lr 0.001, 5 эпох"
      ],
      "metadata": {
        "id": "kDNrPmhFUNx2"
      }
    },
    {
      "cell_type": "code",
      "source": [
        "alldf = [pd.DataFrame({\"losses\": [], \"metric\": []})]\n",
        "alldf, mymodel = pipeline(weights=weights, \n",
        "             num_epochs=5, \n",
        "             train_loader=train_loader, \n",
        "             validation_loader=validation_loader, \n",
        "             lr=0.001,\n",
        "             alldf=alldf)"
      ],
      "metadata": {
        "colab": {
          "base_uri": "https://localhost:8080/",
          "height": 1000
        },
        "id": "kp9LMAggUFm_",
        "outputId": "08c50af6-42b3-484a-f640-8bd73236efd8"
      },
      "execution_count": 54,
      "outputs": [
        {
          "output_type": "stream",
          "name": "stdout",
          "text": [
            "train_epochs\n",
            "\n",
            "starting Epoch 0\n",
            "Train loss: 1.5862137741512723\n",
            "Train loss: 1.580365303933151\n",
            "Train loss: 1.57396484544764\n",
            "Train loss: 1.5696631076289158\n",
            "Train loss: 1.5654896333299835\n",
            "\n",
            "Evaluating on train...\n",
            "\n",
            "Evaluating on test...\n",
            "\n",
            "starting Epoch 1\n",
            "Train loss: 1.5813309181304205\n",
            "Train loss: 1.5709142450272569\n",
            "Train loss: 1.5740156822803757\n",
            "Train loss: 1.567995681482203\n",
            "Train loss: 1.5664218260576732\n",
            "\n",
            "Evaluating on train...\n",
            "\n",
            "Evaluating on test...\n",
            "\n",
            "starting Epoch 2\n",
            "Train loss: 1.593574733961196\n",
            "Train loss: 1.5791801251764372\n",
            "Train loss: 1.5699775006758605\n",
            "Train loss: 1.5687443452722887\n",
            "Train loss: 1.5638793359355867\n",
            "\n",
            "Evaluating on train...\n",
            "\n",
            "Evaluating on test...\n",
            "\n",
            "starting Epoch 3\n",
            "Train loss: 1.5832632798997184\n",
            "Train loss: 1.572482465759037\n",
            "Train loss: 1.5695828417832938\n",
            "Train loss: 1.5655773424634747\n",
            "Train loss: 1.5639965825693734\n",
            "\n",
            "Evaluating on train...\n",
            "\n",
            "Evaluating on test...\n",
            "\n",
            "starting Epoch 4\n",
            "Train loss: 1.5814602469641066\n",
            "Train loss: 1.5710407307767493\n",
            "Train loss: 1.5670306014764996\n",
            "Train loss: 1.565230238203909\n",
            "Train loss: 1.5635998686279249\n",
            "\n",
            "Evaluating on train...\n",
            "\n",
            "Evaluating on test...\n",
            "make_graphs\n"
          ]
        },
        {
          "output_type": "display_data",
          "data": {
            "image/png": "[encoded data removed]",
            "text/plain": [
              "<Figure size 432x288 with 1 Axes>"
            ]
          },
          "metadata": {
            "needs_background": "light"
          }
        },
        {
          "output_type": "display_data",
          "data": {
            "image/png": "[encoded data removed]",
            "text/plain": [
              "<Figure size 432x288 with 1 Axes>"
            ]
          },
          "metadata": {
            "needs_background": "light"
          }
        },
        {
          "output_type": "stream",
          "name": "stdout",
          "text": [
            "add metrics to table\n"
          ]
        }
      ]
    },
    {
      "cell_type": "markdown",
      "source": [
        "в таблицу собираю лоссы и метрику на тестовых данных"
      ],
      "metadata": {
        "id": "IWhfwM5Qb5OJ"
      }
    },
    {
      "cell_type": "code",
      "source": [
        "pd.concat(alldf, axis=0)"
      ],
      "metadata": {
        "colab": {
          "base_uri": "https://localhost:8080/",
          "height": 80
        },
        "id": "JI0tgvtKU1RT",
        "outputId": "09517d4d-6d89-4d32-87d0-d55150f70df3"
      },
      "execution_count": 56,
      "outputs": [
        {
          "output_type": "execute_result",
          "data": {
            "text/html": [
              "\n",
              "  <div id=\"df-13a74d17-38a8-486d-a47a-a30f03281d9e\">\n",
              "    <div class=\"colab-df-container\">\n",
              "      <div>\n",
              "<style scoped>\n",
              "    .dataframe tbody tr th:only-of-type {\n",
              "        vertical-align: middle;\n",
              "    }\n",
              "\n",
              "    .dataframe tbody tr th {\n",
              "        vertical-align: top;\n",
              "    }\n",
              "\n",
              "    .dataframe thead th {\n",
              "        text-align: right;\n",
              "    }\n",
              "</style>\n",
              "<table border=\"1\" class=\"dataframe\">\n",
              "  <thead>\n",
              "    <tr style=\"text-align: right;\">\n",
              "      <th></th>\n",
              "      <th>losses</th>\n",
              "      <th>metric</th>\n",
              "    </tr>\n",
              "  </thead>\n",
              "  <tbody>\n",
              "    <tr>\n",
              "      <th>0</th>\n",
              "      <td>1.549009</td>\n",
              "      <td>0.494654</td>\n",
              "    </tr>\n",
              "  </tbody>\n",
              "</table>\n",
              "</div>\n",
              "      <button class=\"colab-df-convert\" onclick=\"convertToInteractive('df-13a74d17-38a8-486d-a47a-a30f03281d9e')\"\n",
              "              title=\"Convert this dataframe to an interactive table.\"\n",
              "              style=\"display:none;\">\n",
              "        \n",
              "  <svg xmlns=\"http://www.w3.org/2000/svg\" height=\"24px\"viewBox=\"0 0 24 24\"\n",
              "       width=\"24px\">\n",
              "    <path d=\"M0 0h24v24H0V0z\" fill=\"none\"/>\n",
              "    <path d=\"M18.56 5.44l.94 2.06.94-2.06 2.06-.94-2.06-.94-.94-2.06-.94 2.06-2.06.94zm-11 1L8.5 8.5l.94-2.06 2.06-.94-2.06-.94L8.5 2.5l-.94 2.06-2.06.94zm10 10l.94 2.06.94-2.06 2.06-.94-2.06-.94-.94-2.06-.94 2.06-2.06.94z\"/><path d=\"M17.41 7.96l-1.37-1.37c-.4-.4-.92-.59-1.43-.59-.52 0-1.04.2-1.43.59L10.3 9.45l-7.72 7.72c-.78.78-.78 2.05 0 2.83L4 21.41c.39.39.9.59 1.41.59.51 0 1.02-.2 1.41-.59l7.78-7.78 2.81-2.81c.8-.78.8-2.07 0-2.86zM5.41 20L4 18.59l7.72-7.72 1.47 1.35L5.41 20z\"/>\n",
              "  </svg>\n",
              "      </button>\n",
              "      \n",
              "  <style>\n",
              "    .colab-df-container {\n",
              "      display:flex;\n",
              "      flex-wrap:wrap;\n",
              "      gap: 12px;\n",
              "    }\n",
              "\n",
              "    .colab-df-convert {\n",
              "      background-color: #E8F0FE;\n",
              "      border: none;\n",
              "      border-radius: 50%;\n",
              "      cursor: pointer;\n",
              "      display: none;\n",
              "      fill: #1967D2;\n",
              "      height: 32px;\n",
              "      padding: 0 0 0 0;\n",
              "      width: 32px;\n",
              "    }\n",
              "\n",
              "    .colab-df-convert:hover {\n",
              "      background-color: #E2EBFA;\n",
              "      box-shadow: 0px 1px 2px rgba(60, 64, 67, 0.3), 0px 1px 3px 1px rgba(60, 64, 67, 0.15);\n",
              "      fill: #174EA6;\n",
              "    }\n",
              "\n",
              "    [theme=dark] .colab-df-convert {\n",
              "      background-color: #3B4455;\n",
              "      fill: #D2E3FC;\n",
              "    }\n",
              "\n",
              "    [theme=dark] .colab-df-convert:hover {\n",
              "      background-color: #434B5C;\n",
              "      box-shadow: 0px 1px 3px 1px rgba(0, 0, 0, 0.15);\n",
              "      filter: drop-shadow(0px 1px 2px rgba(0, 0, 0, 0.3));\n",
              "      fill: #FFFFFF;\n",
              "    }\n",
              "  </style>\n",
              "\n",
              "      <script>\n",
              "        const buttonEl =\n",
              "          document.querySelector('#df-13a74d17-38a8-486d-a47a-a30f03281d9e button.colab-df-convert');\n",
              "        buttonEl.style.display =\n",
              "          google.colab.kernel.accessAllowed ? 'block' : 'none';\n",
              "\n",
              "        async function convertToInteractive(key) {\n",
              "          const element = document.querySelector('#df-13a74d17-38a8-486d-a47a-a30f03281d9e');\n",
              "          const dataTable =\n",
              "            await google.colab.kernel.invokeFunction('convertToInteractive',\n",
              "                                                     [key], {});\n",
              "          if (!dataTable) return;\n",
              "\n",
              "          const docLinkHtml = 'Like what you see? Visit the ' +\n",
              "            '<a target=\"_blank\" href=https://colab.research.google.com/notebooks/data_table.ipynb>data table notebook</a>'\n",
              "            + ' to learn more about interactive tables.';\n",
              "          element.innerHTML = '';\n",
              "          dataTable['output_type'] = 'display_data';\n",
              "          await google.colab.output.renderOutput(dataTable, element);\n",
              "          const docLink = document.createElement('div');\n",
              "          docLink.innerHTML = docLinkHtml;\n",
              "          element.appendChild(docLink);\n",
              "        }\n",
              "      </script>\n",
              "    </div>\n",
              "  </div>\n",
              "  "
            ],
            "text/plain": [
              "     losses    metric\n",
              "0  1.549009  0.494654"
            ]
          },
          "metadata": {},
          "execution_count": 56
        }
      ]
    },
    {
      "cell_type": "markdown",
      "source": [
        "эксперимент с тем же набором параметров, но все дропауты - false"
      ],
      "metadata": {
        "id": "69XIjnkKU-kD"
      }
    },
    {
      "cell_type": "code",
      "source": [
        "alldf, mymodel = pipeline(weights=weights, \n",
        "             num_epochs=5, \n",
        "             train_loader=train_loader, \n",
        "             validation_loader=validation_loader, \n",
        "             lr=0.001,\n",
        "             alldf=alldf, \n",
        "             kernels=[3], \n",
        "             classes_num=6, \n",
        "             sequence_length=1000, \n",
        "             embedding_dim=300, \n",
        "             num_filters=150, \n",
        "             memory_dim=150, \n",
        "             dropout_input=False, \n",
        "             dropout_output=False, \n",
        "             dropout_p=0.5)"
      ],
      "metadata": {
        "colab": {
          "base_uri": "https://localhost:8080/",
          "height": 1000
        },
        "id": "b-TQEf8aVRji",
        "outputId": "e5d82b26-6cd7-4a92-c991-dc7dc2fca608"
      },
      "execution_count": 67,
      "outputs": [
        {
          "output_type": "stream",
          "name": "stdout",
          "text": [
            "received model params {'kernels': [3], 'classes_num': 6, 'sequence_length': 1000, 'embedding_dim': 300, 'num_filters': 150, 'memory_dim': 150, 'dropout_input': False, 'dropout_output': False, 'dropout_p': 0.5}\n",
            "train_epochs\n",
            "\n",
            "starting Epoch 0\n",
            "Train loss: 1.585067906076946\n",
            "Train loss: 1.5791684051198283\n",
            "Train loss: 1.5686013623681991\n",
            "Train loss: 1.5689249351912853\n",
            "Train loss: 1.565583103129109\n",
            "\n",
            "Evaluating on train...\n",
            "\n",
            "Evaluating on test...\n",
            "\n",
            "starting Epoch 1\n",
            "Train loss: 1.612003311278328\n",
            "Train loss: 1.5848984464885683\n",
            "Train loss: 1.5756875276565552\n",
            "Train loss: 1.5734278781741273\n",
            "Train loss: 1.5704702650865416\n",
            "\n",
            "Evaluating on train...\n",
            "\n",
            "Evaluating on test...\n",
            "\n",
            "starting Epoch 2\n",
            "Train loss: 1.581195766963656\n",
            "Train loss: 1.5681647325125265\n",
            "Train loss: 1.5650520593083965\n",
            "Train loss: 1.562782123042088\n",
            "Train loss: 1.5637841295672807\n",
            "\n",
            "Evaluating on train...\n",
            "\n",
            "Evaluating on test...\n",
            "\n",
            "starting Epoch 3\n",
            "Train loss: 1.579712404145135\n",
            "Train loss: 1.5990478382335873\n",
            "Train loss: 1.588717179148609\n",
            "Train loss: 1.5825639850953046\n",
            "Train loss: 1.5771427513289975\n",
            "\n",
            "Evaluating on train...\n",
            "\n",
            "Evaluating on test...\n",
            "\n",
            "starting Epoch 4\n",
            "Train loss: 1.5706751233055478\n",
            "Train loss: 1.5707335612905307\n",
            "Train loss: 1.5655918189992455\n",
            "Train loss: 1.563739283879598\n",
            "Train loss: 1.563338440787456\n",
            "\n",
            "Evaluating on train...\n",
            "\n",
            "Evaluating on test...\n",
            "make_graphs\n"
          ]
        },
        {
          "output_type": "display_data",
          "data": {
            "image/png": "[encoded data removed]",
            "text/plain": [
              "<Figure size 432x288 with 1 Axes>"
            ]
          },
          "metadata": {
            "needs_background": "light"
          }
        },
        {
          "output_type": "display_data",
          "data": {
            "image/png": "[encoded data removed]",
            "text/plain": [
              "<Figure size 432x288 with 1 Axes>"
            ]
          },
          "metadata": {
            "needs_background": "light"
          }
        },
        {
          "output_type": "stream",
          "name": "stdout",
          "text": [
            "add metrics to table\n"
          ]
        }
      ]
    },
    {
      "cell_type": "code",
      "source": [
        "pd.concat(alldf, axis=0)"
      ],
      "metadata": {
        "colab": {
          "base_uri": "https://localhost:8080/",
          "height": 111
        },
        "id": "UtCbF9b9VyY1",
        "outputId": "fd2cacbe-bdf3-4349-998e-67399b44ab89"
      },
      "execution_count": 68,
      "outputs": [
        {
          "output_type": "execute_result",
          "data": {
            "text/html": [
              "\n",
              "  <div id=\"df-28434f7a-0d3e-44b3-94cf-0941922628f5\">\n",
              "    <div class=\"colab-df-container\">\n",
              "      <div>\n",
              "<style scoped>\n",
              "    .dataframe tbody tr th:only-of-type {\n",
              "        vertical-align: middle;\n",
              "    }\n",
              "\n",
              "    .dataframe tbody tr th {\n",
              "        vertical-align: top;\n",
              "    }\n",
              "\n",
              "    .dataframe thead th {\n",
              "        text-align: right;\n",
              "    }\n",
              "</style>\n",
              "<table border=\"1\" class=\"dataframe\">\n",
              "  <thead>\n",
              "    <tr style=\"text-align: right;\">\n",
              "      <th></th>\n",
              "      <th>losses</th>\n",
              "      <th>metric</th>\n",
              "    </tr>\n",
              "  </thead>\n",
              "  <tbody>\n",
              "    <tr>\n",
              "      <th>0</th>\n",
              "      <td>1.549009</td>\n",
              "      <td>0.494654</td>\n",
              "    </tr>\n",
              "    <tr>\n",
              "      <th>0</th>\n",
              "      <td>1.549375</td>\n",
              "      <td>0.494654</td>\n",
              "    </tr>\n",
              "  </tbody>\n",
              "</table>\n",
              "</div>\n",
              "      <button class=\"colab-df-convert\" onclick=\"convertToInteractive('df-28434f7a-0d3e-44b3-94cf-0941922628f5')\"\n",
              "              title=\"Convert this dataframe to an interactive table.\"\n",
              "              style=\"display:none;\">\n",
              "        \n",
              "  <svg xmlns=\"http://www.w3.org/2000/svg\" height=\"24px\"viewBox=\"0 0 24 24\"\n",
              "       width=\"24px\">\n",
              "    <path d=\"M0 0h24v24H0V0z\" fill=\"none\"/>\n",
              "    <path d=\"M18.56 5.44l.94 2.06.94-2.06 2.06-.94-2.06-.94-.94-2.06-.94 2.06-2.06.94zm-11 1L8.5 8.5l.94-2.06 2.06-.94-2.06-.94L8.5 2.5l-.94 2.06-2.06.94zm10 10l.94 2.06.94-2.06 2.06-.94-2.06-.94-.94-2.06-.94 2.06-2.06.94z\"/><path d=\"M17.41 7.96l-1.37-1.37c-.4-.4-.92-.59-1.43-.59-.52 0-1.04.2-1.43.59L10.3 9.45l-7.72 7.72c-.78.78-.78 2.05 0 2.83L4 21.41c.39.39.9.59 1.41.59.51 0 1.02-.2 1.41-.59l7.78-7.78 2.81-2.81c.8-.78.8-2.07 0-2.86zM5.41 20L4 18.59l7.72-7.72 1.47 1.35L5.41 20z\"/>\n",
              "  </svg>\n",
              "      </button>\n",
              "      \n",
              "  <style>\n",
              "    .colab-df-container {\n",
              "      display:flex;\n",
              "      flex-wrap:wrap;\n",
              "      gap: 12px;\n",
              "    }\n",
              "\n",
              "    .colab-df-convert {\n",
              "      background-color: #E8F0FE;\n",
              "      border: none;\n",
              "      border-radius: 50%;\n",
              "      cursor: pointer;\n",
              "      display: none;\n",
              "      fill: #1967D2;\n",
              "      height: 32px;\n",
              "      padding: 0 0 0 0;\n",
              "      width: 32px;\n",
              "    }\n",
              "\n",
              "    .colab-df-convert:hover {\n",
              "      background-color: #E2EBFA;\n",
              "      box-shadow: 0px 1px 2px rgba(60, 64, 67, 0.3), 0px 1px 3px 1px rgba(60, 64, 67, 0.15);\n",
              "      fill: #174EA6;\n",
              "    }\n",
              "\n",
              "    [theme=dark] .colab-df-convert {\n",
              "      background-color: #3B4455;\n",
              "      fill: #D2E3FC;\n",
              "    }\n",
              "\n",
              "    [theme=dark] .colab-df-convert:hover {\n",
              "      background-color: #434B5C;\n",
              "      box-shadow: 0px 1px 3px 1px rgba(0, 0, 0, 0.15);\n",
              "      filter: drop-shadow(0px 1px 2px rgba(0, 0, 0, 0.3));\n",
              "      fill: #FFFFFF;\n",
              "    }\n",
              "  </style>\n",
              "\n",
              "      <script>\n",
              "        const buttonEl =\n",
              "          document.querySelector('#df-28434f7a-0d3e-44b3-94cf-0941922628f5 button.colab-df-convert');\n",
              "        buttonEl.style.display =\n",
              "          google.colab.kernel.accessAllowed ? 'block' : 'none';\n",
              "\n",
              "        async function convertToInteractive(key) {\n",
              "          const element = document.querySelector('#df-28434f7a-0d3e-44b3-94cf-0941922628f5');\n",
              "          const dataTable =\n",
              "            await google.colab.kernel.invokeFunction('convertToInteractive',\n",
              "                                                     [key], {});\n",
              "          if (!dataTable) return;\n",
              "\n",
              "          const docLinkHtml = 'Like what you see? Visit the ' +\n",
              "            '<a target=\"_blank\" href=https://colab.research.google.com/notebooks/data_table.ipynb>data table notebook</a>'\n",
              "            + ' to learn more about interactive tables.';\n",
              "          element.innerHTML = '';\n",
              "          dataTable['output_type'] = 'display_data';\n",
              "          await google.colab.output.renderOutput(dataTable, element);\n",
              "          const docLink = document.createElement('div');\n",
              "          docLink.innerHTML = docLinkHtml;\n",
              "          element.appendChild(docLink);\n",
              "        }\n",
              "      </script>\n",
              "    </div>\n",
              "  </div>\n",
              "  "
            ],
            "text/plain": [
              "     losses    metric\n",
              "0  1.549009  0.494654\n",
              "0  1.549375  0.494654"
            ]
          },
          "metadata": {},
          "execution_count": 68
        }
      ]
    },
    {
      "cell_type": "markdown",
      "source": [
        "а теперь дропаут применяется только на выходе"
      ],
      "metadata": {
        "id": "6aGMvZmqXhSw"
      }
    },
    {
      "cell_type": "code",
      "source": [
        "alldf = [pd.DataFrame({\"losses\": [], \"metric\": []})]"
      ],
      "metadata": {
        "id": "Cf4jva71to2P"
      },
      "execution_count": 53,
      "outputs": []
    },
    {
      "cell_type": "code",
      "source": [
        "alldf, mymodel = pipeline(weights=weights, \n",
        "             num_epochs=5, \n",
        "             train_loader=train_loader, \n",
        "             validation_loader=validation_loader, \n",
        "             lr=0.001,\n",
        "             alldf=alldf, \n",
        "             kernels=[3], \n",
        "             classes_num=6, \n",
        "             sequence_length=1000, \n",
        "             embedding_dim=300, \n",
        "             num_filters=150, \n",
        "             memory_dim=150, \n",
        "             dropout_input=False, \n",
        "             dropout_output=True, \n",
        "             dropout_p=0.5)"
      ],
      "metadata": {
        "colab": {
          "base_uri": "https://localhost:8080/",
          "height": 1000
        },
        "id": "TTHuhQwweUfm",
        "outputId": "5b5c5953-4a27-4765-95a4-f6fa28dfc3f6"
      },
      "execution_count": 54,
      "outputs": [
        {
          "output_type": "stream",
          "name": "stdout",
          "text": [
            "received model params {'kernels': [3], 'classes_num': 6, 'sequence_length': 1000, 'embedding_dim': 300, 'num_filters': 150, 'memory_dim': 150, 'dropout_input': False, 'dropout_output': True, 'dropout_p': 0.5}\n",
            "train_epochs\n",
            "\n",
            "starting Epoch 0\n",
            "Train loss: 1.5861700300186399\n",
            "Train loss: 1.57365316293371\n",
            "Train loss: 1.5662923133810154\n",
            "Train loss: 1.565351500230677\n",
            "Train loss: 1.5658494207926306\n",
            "\n",
            "Evaluating on train...\n",
            "\n",
            "Evaluating on test...\n",
            "\n",
            "starting Epoch 1\n",
            "Train loss: 1.601669742947533\n",
            "Train loss: 1.574943074091213\n",
            "Train loss: 1.5658179721283039\n",
            "Train loss: 1.5646943405562757\n",
            "Train loss: 1.5730496338542352\n",
            "\n",
            "Evaluating on train...\n",
            "\n",
            "Evaluating on test...\n",
            "\n",
            "starting Epoch 2\n",
            "Train loss: 1.6999542448255751\n",
            "Train loss: 1.6303956499249916\n",
            "Train loss: 1.6094208081979402\n",
            "Train loss: 1.5935567701564115\n",
            "Train loss: 1.5857513698290882\n",
            "\n",
            "Evaluating on train...\n",
            "\n",
            "Evaluating on test...\n",
            "\n",
            "starting Epoch 3\n",
            "Train loss: 1.5915312899483576\n",
            "Train loss: 1.5756073542467253\n",
            "Train loss: 1.5719821228406816\n",
            "Train loss: 1.567361081347746\n",
            "Train loss: 1.5635042848258183\n",
            "\n",
            "Evaluating on train...\n",
            "\n",
            "Evaluating on test...\n",
            "\n",
            "starting Epoch 4\n",
            "Train loss: 1.668755743238661\n",
            "Train loss: 1.683297585314653\n",
            "Train loss: 1.6411634153096464\n",
            "Train loss: 1.6216489530077167\n",
            "Train loss: 1.6088377947343928\n",
            "\n",
            "Evaluating on train...\n",
            "\n",
            "Evaluating on test...\n",
            "make_graphs\n"
          ]
        },
        {
          "output_type": "display_data",
          "data": {
            "image/png": "[encoded data removed]",
            "text/plain": [
              "<Figure size 432x288 with 1 Axes>"
            ]
          },
          "metadata": {
            "needs_background": "light"
          }
        },
        {
          "output_type": "display_data",
          "data": {
            "image/png": "[encoded data removed]",
            "text/plain": [
              "<Figure size 432x288 with 1 Axes>"
            ]
          },
          "metadata": {
            "needs_background": "light"
          }
        },
        {
          "output_type": "stream",
          "name": "stdout",
          "text": [
            "add metrics to table\n"
          ]
        }
      ]
    },
    {
      "cell_type": "code",
      "source": [
        "pd.concat(alldf, axis=0)"
      ],
      "metadata": {
        "colab": {
          "base_uri": "https://localhost:8080/",
          "height": 80
        },
        "id": "kLWVChE_X7tQ",
        "outputId": "e5c39145-9d72-4934-a7c9-6b841888c698"
      },
      "execution_count": 55,
      "outputs": [
        {
          "output_type": "execute_result",
          "data": {
            "text/html": [
              "\n",
              "  <div id=\"df-85dfc57f-3cad-4239-a508-b5331d0fa1e3\">\n",
              "    <div class=\"colab-df-container\">\n",
              "      <div>\n",
              "<style scoped>\n",
              "    .dataframe tbody tr th:only-of-type {\n",
              "        vertical-align: middle;\n",
              "    }\n",
              "\n",
              "    .dataframe tbody tr th {\n",
              "        vertical-align: top;\n",
              "    }\n",
              "\n",
              "    .dataframe thead th {\n",
              "        text-align: right;\n",
              "    }\n",
              "</style>\n",
              "<table border=\"1\" class=\"dataframe\">\n",
              "  <thead>\n",
              "    <tr style=\"text-align: right;\">\n",
              "      <th></th>\n",
              "      <th>losses</th>\n",
              "      <th>metric</th>\n",
              "    </tr>\n",
              "  </thead>\n",
              "  <tbody>\n",
              "    <tr>\n",
              "      <th>0</th>\n",
              "      <td>1.549402</td>\n",
              "      <td>0.494003</td>\n",
              "    </tr>\n",
              "  </tbody>\n",
              "</table>\n",
              "</div>\n",
              "      <button class=\"colab-df-convert\" onclick=\"convertToInteractive('df-85dfc57f-3cad-4239-a508-b5331d0fa1e3')\"\n",
              "              title=\"Convert this dataframe to an interactive table.\"\n",
              "              style=\"display:none;\">\n",
              "        \n",
              "  <svg xmlns=\"http://www.w3.org/2000/svg\" height=\"24px\"viewBox=\"0 0 24 24\"\n",
              "       width=\"24px\">\n",
              "    <path d=\"M0 0h24v24H0V0z\" fill=\"none\"/>\n",
              "    <path d=\"M18.56 5.44l.94 2.06.94-2.06 2.06-.94-2.06-.94-.94-2.06-.94 2.06-2.06.94zm-11 1L8.5 8.5l.94-2.06 2.06-.94-2.06-.94L8.5 2.5l-.94 2.06-2.06.94zm10 10l.94 2.06.94-2.06 2.06-.94-2.06-.94-.94-2.06-.94 2.06-2.06.94z\"/><path d=\"M17.41 7.96l-1.37-1.37c-.4-.4-.92-.59-1.43-.59-.52 0-1.04.2-1.43.59L10.3 9.45l-7.72 7.72c-.78.78-.78 2.05 0 2.83L4 21.41c.39.39.9.59 1.41.59.51 0 1.02-.2 1.41-.59l7.78-7.78 2.81-2.81c.8-.78.8-2.07 0-2.86zM5.41 20L4 18.59l7.72-7.72 1.47 1.35L5.41 20z\"/>\n",
              "  </svg>\n",
              "      </button>\n",
              "      \n",
              "  <style>\n",
              "    .colab-df-container {\n",
              "      display:flex;\n",
              "      flex-wrap:wrap;\n",
              "      gap: 12px;\n",
              "    }\n",
              "\n",
              "    .colab-df-convert {\n",
              "      background-color: #E8F0FE;\n",
              "      border: none;\n",
              "      border-radius: 50%;\n",
              "      cursor: pointer;\n",
              "      display: none;\n",
              "      fill: #1967D2;\n",
              "      height: 32px;\n",
              "      padding: 0 0 0 0;\n",
              "      width: 32px;\n",
              "    }\n",
              "\n",
              "    .colab-df-convert:hover {\n",
              "      background-color: #E2EBFA;\n",
              "      box-shadow: 0px 1px 2px rgba(60, 64, 67, 0.3), 0px 1px 3px 1px rgba(60, 64, 67, 0.15);\n",
              "      fill: #174EA6;\n",
              "    }\n",
              "\n",
              "    [theme=dark] .colab-df-convert {\n",
              "      background-color: #3B4455;\n",
              "      fill: #D2E3FC;\n",
              "    }\n",
              "\n",
              "    [theme=dark] .colab-df-convert:hover {\n",
              "      background-color: #434B5C;\n",
              "      box-shadow: 0px 1px 3px 1px rgba(0, 0, 0, 0.15);\n",
              "      filter: drop-shadow(0px 1px 2px rgba(0, 0, 0, 0.3));\n",
              "      fill: #FFFFFF;\n",
              "    }\n",
              "  </style>\n",
              "\n",
              "      <script>\n",
              "        const buttonEl =\n",
              "          document.querySelector('#df-85dfc57f-3cad-4239-a508-b5331d0fa1e3 button.colab-df-convert');\n",
              "        buttonEl.style.display =\n",
              "          google.colab.kernel.accessAllowed ? 'block' : 'none';\n",
              "\n",
              "        async function convertToInteractive(key) {\n",
              "          const element = document.querySelector('#df-85dfc57f-3cad-4239-a508-b5331d0fa1e3');\n",
              "          const dataTable =\n",
              "            await google.colab.kernel.invokeFunction('convertToInteractive',\n",
              "                                                     [key], {});\n",
              "          if (!dataTable) return;\n",
              "\n",
              "          const docLinkHtml = 'Like what you see? Visit the ' +\n",
              "            '<a target=\"_blank\" href=https://colab.research.google.com/notebooks/data_table.ipynb>data table notebook</a>'\n",
              "            + ' to learn more about interactive tables.';\n",
              "          element.innerHTML = '';\n",
              "          dataTable['output_type'] = 'display_data';\n",
              "          await google.colab.output.renderOutput(dataTable, element);\n",
              "          const docLink = document.createElement('div');\n",
              "          docLink.innerHTML = docLinkHtml;\n",
              "          element.appendChild(docLink);\n",
              "        }\n",
              "      </script>\n",
              "    </div>\n",
              "  </div>\n",
              "  "
            ],
            "text/plain": [
              "     losses    metric\n",
              "0  1.549402  0.494003"
            ]
          },
          "metadata": {},
          "execution_count": 55
        }
      ]
    },
    {
      "cell_type": "markdown",
      "source": [
        "по результатам экспериментов с дропаутом\n",
        "\n",
        "дропаут только на выходе - худший результат, предыдущие два эксперимента показывают одиннаковое среднее метрики за посл две эпохи\n",
        "\n",
        "дальше буду делать без дропаута"
      ],
      "metadata": {
        "id": "alxter3fYClt"
      }
    },
    {
      "cell_type": "markdown",
      "source": [
        "### different filter size strategies"
      ],
      "metadata": {
        "id": "OYf4nvVGQyqX"
      }
    },
    {
      "cell_type": "markdown",
      "source": [
        "в Model Analysis показано как меняется accuracy в зависимости от ядра сверточного слоя и комбинации нескольких разных сверток. лучшие результаты показывает архитектуры, в которых:\n",
        "\n",
        "1) 1 свертка для 3-грамм \n",
        "\n",
        "2) 1 свертка для 2-грамм \n",
        "\n",
        "3) 1 свертка для 4-грамм\n",
        "\n",
        "\n",
        "для начала проверю эти 3 случая"
      ],
      "metadata": {
        "id": "pbVk_qUyPzx4"
      }
    },
    {
      "cell_type": "markdown",
      "source": [
        "теперь сравню разные kernel size. вариант [3] то есть 1 свертка для 3-грамм уже был выше."
      ],
      "metadata": {
        "id": "qxoNaDPjX8K-"
      }
    },
    {
      "cell_type": "markdown",
      "source": [
        "эксперимент с размером [2] (1 свертка для 2-грамм)"
      ],
      "metadata": {
        "id": "bexPYH6TYuuA"
      }
    },
    {
      "cell_type": "code",
      "source": [
        "alldf = [pd.DataFrame({\"losses\": [], \"metric\": []})]"
      ],
      "metadata": {
        "id": "BItR7Psh7OhK"
      },
      "execution_count": 56,
      "outputs": []
    },
    {
      "cell_type": "code",
      "source": [
        "alldf, mymodel = pipeline(weights=weights, \n",
        "             num_epochs=5, \n",
        "             train_loader=train_loader, \n",
        "             validation_loader=validation_loader, \n",
        "             lr=0.001,\n",
        "             alldf=alldf, \n",
        "             kernels=[2], \n",
        "             classes_num=6, \n",
        "             sequence_length=1000, \n",
        "             embedding_dim=300, \n",
        "             num_filters=150, \n",
        "             memory_dim=150, \n",
        "             dropout_input=False, \n",
        "             dropout_output=False, \n",
        "             dropout_p=0.5)"
      ],
      "metadata": {
        "colab": {
          "base_uri": "https://localhost:8080/",
          "height": 1000
        },
        "id": "A_FXHrB0ea7t",
        "outputId": "79d7ab76-6c52-419c-f3fc-d329d23f106d"
      },
      "execution_count": 57,
      "outputs": [
        {
          "output_type": "stream",
          "name": "stdout",
          "text": [
            "received model params {'kernels': [2], 'classes_num': 6, 'sequence_length': 1000, 'embedding_dim': 300, 'num_filters': 150, 'memory_dim': 150, 'dropout_input': False, 'dropout_output': False, 'dropout_p': 0.5}\n",
            "train_epochs\n",
            "\n",
            "starting Epoch 0\n",
            "Train loss: 1.5879551380399675\n",
            "Train loss: 1.5776337066034631\n",
            "Train loss: 1.5700872531111951\n",
            "Train loss: 1.5657626381107406\n",
            "Train loss: 1.565251539867126\n",
            "\n",
            "Evaluating on train...\n",
            "\n",
            "Evaluating on test...\n",
            "\n",
            "starting Epoch 1\n",
            "Train loss: 1.5901587539248996\n",
            "Train loss: 1.5681264569440225\n",
            "Train loss: 1.5691341224141147\n",
            "Train loss: 1.5767890532811484\n",
            "Train loss: 1.5740996700095533\n",
            "\n",
            "Evaluating on train...\n",
            "\n",
            "Evaluating on test...\n",
            "\n",
            "starting Epoch 2\n",
            "Train loss: 1.5741848283343844\n",
            "Train loss: 1.5638262577882902\n",
            "Train loss: 1.56204753209159\n",
            "Train loss: 1.5652513162762511\n",
            "Train loss: 1.5634494900329734\n",
            "\n",
            "Evaluating on train...\n",
            "\n",
            "Evaluating on test...\n",
            "\n",
            "starting Epoch 3\n",
            "Train loss: 1.5751081383417522\n",
            "Train loss: 1.5622905192412728\n",
            "Train loss: 1.5644075464827851\n",
            "Train loss: 1.5639585055556953\n",
            "Train loss: 1.5632420292468654\n",
            "\n",
            "Evaluating on train...\n",
            "\n",
            "Evaluating on test...\n",
            "\n",
            "starting Epoch 4\n",
            "Train loss: 1.5812676350275676\n",
            "Train loss: 1.571998093071885\n",
            "Train loss: 1.5667330925377252\n",
            "Train loss: 1.5633445683647604\n",
            "Train loss: 1.5635843617041656\n",
            "\n",
            "Evaluating on train...\n",
            "\n",
            "Evaluating on test...\n",
            "make_graphs\n"
          ]
        },
        {
          "output_type": "display_data",
          "data": {
            "image/png": "[encoded data removed]",
            "text/plain": [
              "<Figure size 432x288 with 1 Axes>"
            ]
          },
          "metadata": {
            "needs_background": "light"
          }
        },
        {
          "output_type": "display_data",
          "data": {
            "image/png": "[encoded data removed]",
            "text/plain": [
              "<Figure size 432x288 with 1 Axes>"
            ]
          },
          "metadata": {
            "needs_background": "light"
          }
        },
        {
          "output_type": "stream",
          "name": "stdout",
          "text": [
            "add metrics to table\n"
          ]
        }
      ]
    },
    {
      "cell_type": "code",
      "source": [
        "pd.concat(alldf, axis=0)"
      ],
      "metadata": {
        "colab": {
          "base_uri": "https://localhost:8080/",
          "height": 80
        },
        "id": "ekqIqHpqYZ0F",
        "outputId": "c0691d3f-5dbf-4fea-81a3-165270347738"
      },
      "execution_count": 58,
      "outputs": [
        {
          "output_type": "execute_result",
          "data": {
            "text/html": [
              "\n",
              "  <div id=\"df-edbd4923-31ab-420f-9cd8-d8810dc6bb11\">\n",
              "    <div class=\"colab-df-container\">\n",
              "      <div>\n",
              "<style scoped>\n",
              "    .dataframe tbody tr th:only-of-type {\n",
              "        vertical-align: middle;\n",
              "    }\n",
              "\n",
              "    .dataframe tbody tr th {\n",
              "        vertical-align: top;\n",
              "    }\n",
              "\n",
              "    .dataframe thead th {\n",
              "        text-align: right;\n",
              "    }\n",
              "</style>\n",
              "<table border=\"1\" class=\"dataframe\">\n",
              "  <thead>\n",
              "    <tr style=\"text-align: right;\">\n",
              "      <th></th>\n",
              "      <th>losses</th>\n",
              "      <th>metric</th>\n",
              "    </tr>\n",
              "  </thead>\n",
              "  <tbody>\n",
              "    <tr>\n",
              "      <th>0</th>\n",
              "      <td>1.549071</td>\n",
              "      <td>0.494437</td>\n",
              "    </tr>\n",
              "  </tbody>\n",
              "</table>\n",
              "</div>\n",
              "      <button class=\"colab-df-convert\" onclick=\"convertToInteractive('df-edbd4923-31ab-420f-9cd8-d8810dc6bb11')\"\n",
              "              title=\"Convert this dataframe to an interactive table.\"\n",
              "              style=\"display:none;\">\n",
              "        \n",
              "  <svg xmlns=\"http://www.w3.org/2000/svg\" height=\"24px\"viewBox=\"0 0 24 24\"\n",
              "       width=\"24px\">\n",
              "    <path d=\"M0 0h24v24H0V0z\" fill=\"none\"/>\n",
              "    <path d=\"M18.56 5.44l.94 2.06.94-2.06 2.06-.94-2.06-.94-.94-2.06-.94 2.06-2.06.94zm-11 1L8.5 8.5l.94-2.06 2.06-.94-2.06-.94L8.5 2.5l-.94 2.06-2.06.94zm10 10l.94 2.06.94-2.06 2.06-.94-2.06-.94-.94-2.06-.94 2.06-2.06.94z\"/><path d=\"M17.41 7.96l-1.37-1.37c-.4-.4-.92-.59-1.43-.59-.52 0-1.04.2-1.43.59L10.3 9.45l-7.72 7.72c-.78.78-.78 2.05 0 2.83L4 21.41c.39.39.9.59 1.41.59.51 0 1.02-.2 1.41-.59l7.78-7.78 2.81-2.81c.8-.78.8-2.07 0-2.86zM5.41 20L4 18.59l7.72-7.72 1.47 1.35L5.41 20z\"/>\n",
              "  </svg>\n",
              "      </button>\n",
              "      \n",
              "  <style>\n",
              "    .colab-df-container {\n",
              "      display:flex;\n",
              "      flex-wrap:wrap;\n",
              "      gap: 12px;\n",
              "    }\n",
              "\n",
              "    .colab-df-convert {\n",
              "      background-color: #E8F0FE;\n",
              "      border: none;\n",
              "      border-radius: 50%;\n",
              "      cursor: pointer;\n",
              "      display: none;\n",
              "      fill: #1967D2;\n",
              "      height: 32px;\n",
              "      padding: 0 0 0 0;\n",
              "      width: 32px;\n",
              "    }\n",
              "\n",
              "    .colab-df-convert:hover {\n",
              "      background-color: #E2EBFA;\n",
              "      box-shadow: 0px 1px 2px rgba(60, 64, 67, 0.3), 0px 1px 3px 1px rgba(60, 64, 67, 0.15);\n",
              "      fill: #174EA6;\n",
              "    }\n",
              "\n",
              "    [theme=dark] .colab-df-convert {\n",
              "      background-color: #3B4455;\n",
              "      fill: #D2E3FC;\n",
              "    }\n",
              "\n",
              "    [theme=dark] .colab-df-convert:hover {\n",
              "      background-color: #434B5C;\n",
              "      box-shadow: 0px 1px 3px 1px rgba(0, 0, 0, 0.15);\n",
              "      filter: drop-shadow(0px 1px 2px rgba(0, 0, 0, 0.3));\n",
              "      fill: #FFFFFF;\n",
              "    }\n",
              "  </style>\n",
              "\n",
              "      <script>\n",
              "        const buttonEl =\n",
              "          document.querySelector('#df-edbd4923-31ab-420f-9cd8-d8810dc6bb11 button.colab-df-convert');\n",
              "        buttonEl.style.display =\n",
              "          google.colab.kernel.accessAllowed ? 'block' : 'none';\n",
              "\n",
              "        async function convertToInteractive(key) {\n",
              "          const element = document.querySelector('#df-edbd4923-31ab-420f-9cd8-d8810dc6bb11');\n",
              "          const dataTable =\n",
              "            await google.colab.kernel.invokeFunction('convertToInteractive',\n",
              "                                                     [key], {});\n",
              "          if (!dataTable) return;\n",
              "\n",
              "          const docLinkHtml = 'Like what you see? Visit the ' +\n",
              "            '<a target=\"_blank\" href=https://colab.research.google.com/notebooks/data_table.ipynb>data table notebook</a>'\n",
              "            + ' to learn more about interactive tables.';\n",
              "          element.innerHTML = '';\n",
              "          dataTable['output_type'] = 'display_data';\n",
              "          await google.colab.output.renderOutput(dataTable, element);\n",
              "          const docLink = document.createElement('div');\n",
              "          docLink.innerHTML = docLinkHtml;\n",
              "          element.appendChild(docLink);\n",
              "        }\n",
              "      </script>\n",
              "    </div>\n",
              "  </div>\n",
              "  "
            ],
            "text/plain": [
              "     losses    metric\n",
              "0  1.549071  0.494437"
            ]
          },
          "metadata": {},
          "execution_count": 58
        }
      ]
    },
    {
      "cell_type": "markdown",
      "source": [
        "1 шт размера 4"
      ],
      "metadata": {
        "id": "WI8uxb0Ba9Qp"
      }
    },
    {
      "cell_type": "code",
      "source": [
        "alldf, mymodel = pipeline(weights=weights, \n",
        "             num_epochs=5, \n",
        "             train_loader=train_loader, \n",
        "             validation_loader=validation_loader, \n",
        "             lr=0.001,\n",
        "             alldf=alldf, \n",
        "             kernels=[4], \n",
        "             classes_num=6, \n",
        "             sequence_length=1000, \n",
        "             embedding_dim=300, \n",
        "             num_filters=150, \n",
        "             memory_dim=150, \n",
        "             dropout_input=False, \n",
        "             dropout_output=False, \n",
        "             dropout_p=0.5)"
      ],
      "metadata": {
        "id": "PuWpE4FWelJF"
      },
      "execution_count": null,
      "outputs": []
    },
    {
      "cell_type": "code",
      "source": [
        "pd.concat(alldf, axis=0)"
      ],
      "metadata": {
        "id": "BLgj-buaZRM3"
      },
      "execution_count": null,
      "outputs": []
    },
    {
      "cell_type": "markdown",
      "source": [
        "2 штуки размера 2 и 3"
      ],
      "metadata": {
        "id": "Qkht17fbbA3B"
      }
    },
    {
      "cell_type": "code",
      "source": [
        "alldf, mymodel = pipeline(weights=weights, \n",
        "             num_epochs=5, \n",
        "             train_loader=train_loader, \n",
        "             validation_loader=validation_loader, \n",
        "             lr=0.001,\n",
        "             alldf=alldf, \n",
        "             kernels=[2,3], \n",
        "             classes_num=6, \n",
        "             sequence_length=1000, \n",
        "             embedding_dim=300, \n",
        "             num_filters=150, \n",
        "             memory_dim=150, \n",
        "             dropout_input=False, \n",
        "             dropout_output=False, \n",
        "             dropout_p=0.5)"
      ],
      "metadata": {
        "id": "VzAiQTOGepSI"
      },
      "execution_count": null,
      "outputs": []
    },
    {
      "cell_type": "code",
      "source": [
        "pd.concat(alldf, axis=0)"
      ],
      "metadata": {
        "id": "cZk-YDfFZWWk"
      },
      "execution_count": null,
      "outputs": []
    },
    {
      "cell_type": "markdown",
      "source": [
        "2 штуки, 2 и 4"
      ],
      "metadata": {
        "id": "Q2QFA61VbEUW"
      }
    },
    {
      "cell_type": "code",
      "source": [
        "alldf, mymodel = pipeline(weights=weights, \n",
        "             num_epochs=5, \n",
        "             train_loader=train_loader, \n",
        "             validation_loader=validation_loader, \n",
        "             lr=0.001,\n",
        "             alldf=alldf, \n",
        "             kernels=[2,4], \n",
        "             classes_num=6, \n",
        "             sequence_length=1000, \n",
        "             embedding_dim=300, \n",
        "             num_filters=150, \n",
        "             memory_dim=150, \n",
        "             dropout_input=False, \n",
        "             dropout_output=False, \n",
        "             dropout_p=0.5)"
      ],
      "metadata": {
        "id": "4VtRyHWcesYq"
      },
      "execution_count": null,
      "outputs": []
    },
    {
      "cell_type": "code",
      "source": [
        "pd.concat(alldf, axis=0)"
      ],
      "metadata": {
        "id": "HaVnDCmTZYeL"
      },
      "execution_count": null,
      "outputs": []
    },
    {
      "cell_type": "markdown",
      "source": [
        "2 штуки, 3 и 4"
      ],
      "metadata": {
        "id": "SCyb2PprbH-G"
      }
    },
    {
      "cell_type": "code",
      "source": [
        "alldf, mymodel = pipeline(weights=weights, \n",
        "             num_epochs=5, \n",
        "             train_loader=train_loader, \n",
        "             validation_loader=validation_loader, \n",
        "             lr=0.001,\n",
        "             alldf=alldf, \n",
        "             kernels=[3,4], \n",
        "             classes_num=6, \n",
        "             sequence_length=1000, \n",
        "             embedding_dim=300, \n",
        "             num_filters=150, \n",
        "             memory_dim=150, \n",
        "             dropout_input=False, \n",
        "             dropout_output=False, \n",
        "             dropout_p=0.5)"
      ],
      "metadata": {
        "id": "_PUaX_nJev3n"
      },
      "execution_count": null,
      "outputs": []
    },
    {
      "cell_type": "code",
      "source": [
        "pd.concat(alldf, axis=0)"
      ],
      "metadata": {
        "id": "woILbI9gbKvc"
      },
      "execution_count": null,
      "outputs": []
    },
    {
      "cell_type": "markdown",
      "source": [
        "c большим lr  лосс вырождается в nan"
      ],
      "metadata": {
        "id": "ApxPR49TfRFy"
      }
    },
    {
      "cell_type": "code",
      "source": [
        "alldf = []\n",
        "alldf, mymodel = pipeline(weights=weights, \n",
        "             num_epochs=6, \n",
        "             train_loader=train_loader, \n",
        "             validation_loader=validation_loader, \n",
        "             lr=0.01,\n",
        "             alldf=alldf)"
      ],
      "metadata": {
        "colab": {
          "base_uri": "https://localhost:8080/",
          "height": 1000
        },
        "id": "3fRwZYupkSYZ",
        "outputId": "1d555c06-b53d-4c8f-e805-b5d8fb65dcdb"
      },
      "execution_count": null,
      "outputs": [
        {
          "output_type": "stream",
          "name": "stdout",
          "text": [
            "train_epochs\n",
            "\n",
            "starting Epoch 0\n",
            "Train loss: 1.6059787651849171\n",
            "Train loss: 1.5852945254543636\n",
            "Train loss: 1.577269046094405\n",
            "Train loss: 1.5695957590551937\n",
            "Train loss: 1.5679320052125985\n",
            "\n",
            "Evaluating on train...\n",
            "\n",
            "Evaluating on test...\n",
            "\n",
            "starting Epoch 1\n",
            "Train loss: 1.573811616216387\n",
            "Train loss: 1.5599764791999275\n",
            "Train loss: 1.5616039206220218\n",
            "Train loss: 1.5628730614980062\n",
            "Train loss: 1.5624437492842957\n",
            "\n",
            "Evaluating on train...\n",
            "\n",
            "Evaluating on test...\n",
            "\n",
            "starting Epoch 2\n",
            "Train loss: 1.570484649567377\n",
            "Train loss: 1.570126913663909\n",
            "Train loss: 1.5650500352470038\n",
            "Train loss: 1.5629818864897185\n",
            "Train loss: 1.5765532027217661\n",
            "\n",
            "Evaluating on train...\n",
            "\n",
            "Evaluating on test...\n",
            "\n",
            "starting Epoch 3\n",
            "Train loss: nan\n",
            "Train loss: nan\n",
            "Train loss: nan\n",
            "Train loss: nan\n",
            "Train loss: nan\n",
            "\n",
            "Evaluating on train...\n",
            "\n",
            "Evaluating on test...\n",
            "\n",
            "starting Epoch 4\n",
            "Train loss: nan\n",
            "Train loss: nan\n"
          ]
        },
        {
          "output_type": "error",
          "ename": "KeyboardInterrupt",
          "evalue": "ignored",
          "traceback": [
            "\u001b[0;31m---------------------------------------------------------------------------\u001b[0m",
            "\u001b[0;31mKeyboardInterrupt\u001b[0m                         Traceback (most recent call last)",
            "\u001b[0;32m<ipython-input-298-7912977192f9>\u001b[0m in \u001b[0;36m<module>\u001b[0;34m()\u001b[0m\n\u001b[1;32m      5\u001b[0m              \u001b[0mvalidation_loader\u001b[0m\u001b[0;34m=\u001b[0m\u001b[0mvalidation_loader\u001b[0m\u001b[0;34m,\u001b[0m\u001b[0;34m\u001b[0m\u001b[0;34m\u001b[0m\u001b[0m\n\u001b[1;32m      6\u001b[0m              \u001b[0mlr\u001b[0m\u001b[0;34m=\u001b[0m\u001b[0;36m0.01\u001b[0m\u001b[0;34m,\u001b[0m\u001b[0;34m\u001b[0m\u001b[0;34m\u001b[0m\u001b[0m\n\u001b[0;32m----> 7\u001b[0;31m              alldf=alldf)\n\u001b[0m",
            "\u001b[0;32m<ipython-input-39-55e30123809c>\u001b[0m in \u001b[0;36mpipeline\u001b[0;34m(weights, num_epochs, train_loader, validation_loader, lr, alldf, **params)\u001b[0m\n\u001b[1;32m     26\u001b[0m                                                       \u001b[0mcriterion\u001b[0m\u001b[0;34m,\u001b[0m\u001b[0;34m\u001b[0m\u001b[0;34m\u001b[0m\u001b[0m\n\u001b[1;32m     27\u001b[0m                                                       \u001b[0mnum_epochs\u001b[0m\u001b[0;34m,\u001b[0m\u001b[0;34m\u001b[0m\u001b[0;34m\u001b[0m\u001b[0m\n\u001b[0;32m---> 28\u001b[0;31m                                                       DEVICE=device)\n\u001b[0m\u001b[1;32m     29\u001b[0m     \u001b[0mprint\u001b[0m\u001b[0;34m(\u001b[0m\u001b[0;34m\"make_graphs\"\u001b[0m\u001b[0;34m)\u001b[0m\u001b[0;34m\u001b[0m\u001b[0;34m\u001b[0m\u001b[0m\n\u001b[1;32m     30\u001b[0m     \u001b[0mmake_graphs\u001b[0m\u001b[0;34m(\u001b[0m\u001b[0mlosses\u001b[0m\u001b[0;34m,\u001b[0m \u001b[0mlosses_eval\u001b[0m\u001b[0;34m,\u001b[0m \u001b[0mf1s\u001b[0m\u001b[0;34m,\u001b[0m \u001b[0mf1s_eval\u001b[0m\u001b[0;34m)\u001b[0m\u001b[0;34m\u001b[0m\u001b[0;34m\u001b[0m\u001b[0m\n",
            "\u001b[0;32m<ipython-input-273-47364a272b6f>\u001b[0m in \u001b[0;36mtrain_epochs\u001b[0;34m(model, train_iterator, val_iterator, optimizer, criterion, num_epochs, DEVICE)\u001b[0m\n\u001b[1;32m      7\u001b[0m     \u001b[0;32mfor\u001b[0m \u001b[0mi\u001b[0m \u001b[0;32min\u001b[0m \u001b[0mrange\u001b[0m\u001b[0;34m(\u001b[0m\u001b[0mnum_epochs\u001b[0m\u001b[0;34m)\u001b[0m\u001b[0;34m:\u001b[0m\u001b[0;34m\u001b[0m\u001b[0;34m\u001b[0m\u001b[0m\n\u001b[1;32m      8\u001b[0m         \u001b[0mprint\u001b[0m\u001b[0;34m(\u001b[0m\u001b[0;34mf'\\nstarting Epoch {i}'\u001b[0m\u001b[0;34m)\u001b[0m\u001b[0;34m\u001b[0m\u001b[0;34m\u001b[0m\u001b[0m\n\u001b[0;32m----> 9\u001b[0;31m         \u001b[0mmodel\u001b[0m\u001b[0;34m,\u001b[0m \u001b[0mepoch_loss\u001b[0m \u001b[0;34m=\u001b[0m \u001b[0mtrain\u001b[0m\u001b[0;34m(\u001b[0m\u001b[0mmodel\u001b[0m\u001b[0;34m,\u001b[0m \u001b[0mtrain_iterator\u001b[0m\u001b[0;34m,\u001b[0m \u001b[0moptimizer\u001b[0m\u001b[0;34m,\u001b[0m \u001b[0mcriterion\u001b[0m\u001b[0;34m,\u001b[0m \u001b[0mDEVICE\u001b[0m\u001b[0;34m)\u001b[0m\u001b[0;34m\u001b[0m\u001b[0;34m\u001b[0m\u001b[0m\n\u001b[0m\u001b[1;32m     10\u001b[0m         \u001b[0mlosses\u001b[0m\u001b[0;34m.\u001b[0m\u001b[0mappend\u001b[0m\u001b[0;34m(\u001b[0m\u001b[0mepoch_loss\u001b[0m\u001b[0;34m)\u001b[0m\u001b[0;34m\u001b[0m\u001b[0;34m\u001b[0m\u001b[0m\n\u001b[1;32m     11\u001b[0m         \u001b[0mprint\u001b[0m\u001b[0;34m(\u001b[0m\u001b[0;34m'\\nEvaluating on train...'\u001b[0m\u001b[0;34m)\u001b[0m\u001b[0;34m\u001b[0m\u001b[0;34m\u001b[0m\u001b[0m\n",
            "\u001b[0;32m<ipython-input-271-7e3b51cb5f42>\u001b[0m in \u001b[0;36mtrain\u001b[0;34m(model, iterator, optimizer, criterion, DEVICE)\u001b[0m\n\u001b[1;32m      4\u001b[0m     \u001b[0mmodel\u001b[0m\u001b[0;34m.\u001b[0m\u001b[0mtrain\u001b[0m\u001b[0;34m(\u001b[0m\u001b[0;34m)\u001b[0m  \u001b[0;31m# ставим модель в обучение, явно указываем, что сейчас надо будет хранить градиенты у всех весов\u001b[0m\u001b[0;34m\u001b[0m\u001b[0;34m\u001b[0m\u001b[0m\n\u001b[1;32m      5\u001b[0m \u001b[0;34m\u001b[0m\u001b[0m\n\u001b[0;32m----> 6\u001b[0;31m     \u001b[0;32mfor\u001b[0m \u001b[0mi\u001b[0m\u001b[0;34m,\u001b[0m \u001b[0;34m(\u001b[0m\u001b[0mtexts\u001b[0m\u001b[0;34m,\u001b[0m \u001b[0mys\u001b[0m\u001b[0;34m)\u001b[0m \u001b[0;32min\u001b[0m \u001b[0menumerate\u001b[0m\u001b[0;34m(\u001b[0m\u001b[0miterator\u001b[0m\u001b[0;34m)\u001b[0m\u001b[0;34m:\u001b[0m \u001b[0;31m#итерируемся по батчам\u001b[0m\u001b[0;34m\u001b[0m\u001b[0;34m\u001b[0m\u001b[0m\n\u001b[0m\u001b[1;32m      7\u001b[0m         \u001b[0moptimizer\u001b[0m\u001b[0;34m.\u001b[0m\u001b[0mzero_grad\u001b[0m\u001b[0;34m(\u001b[0m\u001b[0;34m)\u001b[0m  \u001b[0;31m#обнуляем градиенты\u001b[0m\u001b[0;34m\u001b[0m\u001b[0;34m\u001b[0m\u001b[0m\n\u001b[1;32m      8\u001b[0m \u001b[0;34m\u001b[0m\u001b[0m\n",
            "\u001b[0;32m/usr/local/lib/python3.7/dist-packages/torch/utils/data/dataloader.py\u001b[0m in \u001b[0;36m__next__\u001b[0;34m(self)\u001b[0m\n\u001b[1;32m    519\u001b[0m             \u001b[0;32mif\u001b[0m \u001b[0mself\u001b[0m\u001b[0;34m.\u001b[0m\u001b[0m_sampler_iter\u001b[0m \u001b[0;32mis\u001b[0m \u001b[0;32mNone\u001b[0m\u001b[0;34m:\u001b[0m\u001b[0;34m\u001b[0m\u001b[0;34m\u001b[0m\u001b[0m\n\u001b[1;32m    520\u001b[0m                 \u001b[0mself\u001b[0m\u001b[0;34m.\u001b[0m\u001b[0m_reset\u001b[0m\u001b[0;34m(\u001b[0m\u001b[0;34m)\u001b[0m\u001b[0;34m\u001b[0m\u001b[0;34m\u001b[0m\u001b[0m\n\u001b[0;32m--> 521\u001b[0;31m             \u001b[0mdata\u001b[0m \u001b[0;34m=\u001b[0m \u001b[0mself\u001b[0m\u001b[0;34m.\u001b[0m\u001b[0m_next_data\u001b[0m\u001b[0;34m(\u001b[0m\u001b[0;34m)\u001b[0m\u001b[0;34m\u001b[0m\u001b[0;34m\u001b[0m\u001b[0m\n\u001b[0m\u001b[1;32m    522\u001b[0m             \u001b[0mself\u001b[0m\u001b[0;34m.\u001b[0m\u001b[0m_num_yielded\u001b[0m \u001b[0;34m+=\u001b[0m \u001b[0;36m1\u001b[0m\u001b[0;34m\u001b[0m\u001b[0;34m\u001b[0m\u001b[0m\n\u001b[1;32m    523\u001b[0m             \u001b[0;32mif\u001b[0m \u001b[0mself\u001b[0m\u001b[0;34m.\u001b[0m\u001b[0m_dataset_kind\u001b[0m \u001b[0;34m==\u001b[0m \u001b[0m_DatasetKind\u001b[0m\u001b[0;34m.\u001b[0m\u001b[0mIterable\u001b[0m \u001b[0;32mand\u001b[0m\u001b[0;31m \u001b[0m\u001b[0;31m\\\u001b[0m\u001b[0;34m\u001b[0m\u001b[0;34m\u001b[0m\u001b[0m\n",
            "\u001b[0;32m/usr/local/lib/python3.7/dist-packages/torch/utils/data/dataloader.py\u001b[0m in \u001b[0;36m_next_data\u001b[0;34m(self)\u001b[0m\n\u001b[1;32m    559\u001b[0m     \u001b[0;32mdef\u001b[0m \u001b[0m_next_data\u001b[0m\u001b[0;34m(\u001b[0m\u001b[0mself\u001b[0m\u001b[0;34m)\u001b[0m\u001b[0;34m:\u001b[0m\u001b[0;34m\u001b[0m\u001b[0;34m\u001b[0m\u001b[0m\n\u001b[1;32m    560\u001b[0m         \u001b[0mindex\u001b[0m \u001b[0;34m=\u001b[0m \u001b[0mself\u001b[0m\u001b[0;34m.\u001b[0m\u001b[0m_next_index\u001b[0m\u001b[0;34m(\u001b[0m\u001b[0;34m)\u001b[0m  \u001b[0;31m# may raise StopIteration\u001b[0m\u001b[0;34m\u001b[0m\u001b[0;34m\u001b[0m\u001b[0m\n\u001b[0;32m--> 561\u001b[0;31m         \u001b[0mdata\u001b[0m \u001b[0;34m=\u001b[0m \u001b[0mself\u001b[0m\u001b[0;34m.\u001b[0m\u001b[0m_dataset_fetcher\u001b[0m\u001b[0;34m.\u001b[0m\u001b[0mfetch\u001b[0m\u001b[0;34m(\u001b[0m\u001b[0mindex\u001b[0m\u001b[0;34m)\u001b[0m  \u001b[0;31m# may raise StopIteration\u001b[0m\u001b[0;34m\u001b[0m\u001b[0;34m\u001b[0m\u001b[0m\n\u001b[0m\u001b[1;32m    562\u001b[0m         \u001b[0;32mif\u001b[0m \u001b[0mself\u001b[0m\u001b[0;34m.\u001b[0m\u001b[0m_pin_memory\u001b[0m\u001b[0;34m:\u001b[0m\u001b[0;34m\u001b[0m\u001b[0;34m\u001b[0m\u001b[0m\n\u001b[1;32m    563\u001b[0m             \u001b[0mdata\u001b[0m \u001b[0;34m=\u001b[0m \u001b[0m_utils\u001b[0m\u001b[0;34m.\u001b[0m\u001b[0mpin_memory\u001b[0m\u001b[0;34m.\u001b[0m\u001b[0mpin_memory\u001b[0m\u001b[0;34m(\u001b[0m\u001b[0mdata\u001b[0m\u001b[0;34m)\u001b[0m\u001b[0;34m\u001b[0m\u001b[0;34m\u001b[0m\u001b[0m\n",
            "\u001b[0;32m/usr/local/lib/python3.7/dist-packages/torch/utils/data/_utils/fetch.py\u001b[0m in \u001b[0;36mfetch\u001b[0;34m(self, possibly_batched_index)\u001b[0m\n\u001b[1;32m     47\u001b[0m     \u001b[0;32mdef\u001b[0m \u001b[0mfetch\u001b[0m\u001b[0;34m(\u001b[0m\u001b[0mself\u001b[0m\u001b[0;34m,\u001b[0m \u001b[0mpossibly_batched_index\u001b[0m\u001b[0;34m)\u001b[0m\u001b[0;34m:\u001b[0m\u001b[0;34m\u001b[0m\u001b[0;34m\u001b[0m\u001b[0m\n\u001b[1;32m     48\u001b[0m         \u001b[0;32mif\u001b[0m \u001b[0mself\u001b[0m\u001b[0;34m.\u001b[0m\u001b[0mauto_collation\u001b[0m\u001b[0;34m:\u001b[0m\u001b[0;34m\u001b[0m\u001b[0;34m\u001b[0m\u001b[0m\n\u001b[0;32m---> 49\u001b[0;31m             \u001b[0mdata\u001b[0m \u001b[0;34m=\u001b[0m \u001b[0;34m[\u001b[0m\u001b[0mself\u001b[0m\u001b[0;34m.\u001b[0m\u001b[0mdataset\u001b[0m\u001b[0;34m[\u001b[0m\u001b[0midx\u001b[0m\u001b[0;34m]\u001b[0m \u001b[0;32mfor\u001b[0m \u001b[0midx\u001b[0m \u001b[0;32min\u001b[0m \u001b[0mpossibly_batched_index\u001b[0m\u001b[0;34m]\u001b[0m\u001b[0;34m\u001b[0m\u001b[0;34m\u001b[0m\u001b[0m\n\u001b[0m\u001b[1;32m     50\u001b[0m         \u001b[0;32melse\u001b[0m\u001b[0;34m:\u001b[0m\u001b[0;34m\u001b[0m\u001b[0;34m\u001b[0m\u001b[0m\n\u001b[1;32m     51\u001b[0m             \u001b[0mdata\u001b[0m \u001b[0;34m=\u001b[0m \u001b[0mself\u001b[0m\u001b[0;34m.\u001b[0m\u001b[0mdataset\u001b[0m\u001b[0;34m[\u001b[0m\u001b[0mpossibly_batched_index\u001b[0m\u001b[0;34m]\u001b[0m\u001b[0;34m\u001b[0m\u001b[0;34m\u001b[0m\u001b[0m\n",
            "\u001b[0;32m/usr/local/lib/python3.7/dist-packages/torch/utils/data/_utils/fetch.py\u001b[0m in \u001b[0;36m<listcomp>\u001b[0;34m(.0)\u001b[0m\n\u001b[1;32m     47\u001b[0m     \u001b[0;32mdef\u001b[0m \u001b[0mfetch\u001b[0m\u001b[0;34m(\u001b[0m\u001b[0mself\u001b[0m\u001b[0;34m,\u001b[0m \u001b[0mpossibly_batched_index\u001b[0m\u001b[0;34m)\u001b[0m\u001b[0;34m:\u001b[0m\u001b[0;34m\u001b[0m\u001b[0;34m\u001b[0m\u001b[0m\n\u001b[1;32m     48\u001b[0m         \u001b[0;32mif\u001b[0m \u001b[0mself\u001b[0m\u001b[0;34m.\u001b[0m\u001b[0mauto_collation\u001b[0m\u001b[0;34m:\u001b[0m\u001b[0;34m\u001b[0m\u001b[0;34m\u001b[0m\u001b[0m\n\u001b[0;32m---> 49\u001b[0;31m             \u001b[0mdata\u001b[0m \u001b[0;34m=\u001b[0m \u001b[0;34m[\u001b[0m\u001b[0mself\u001b[0m\u001b[0;34m.\u001b[0m\u001b[0mdataset\u001b[0m\u001b[0;34m[\u001b[0m\u001b[0midx\u001b[0m\u001b[0;34m]\u001b[0m \u001b[0;32mfor\u001b[0m \u001b[0midx\u001b[0m \u001b[0;32min\u001b[0m \u001b[0mpossibly_batched_index\u001b[0m\u001b[0;34m]\u001b[0m\u001b[0;34m\u001b[0m\u001b[0;34m\u001b[0m\u001b[0m\n\u001b[0m\u001b[1;32m     50\u001b[0m         \u001b[0;32melse\u001b[0m\u001b[0;34m:\u001b[0m\u001b[0;34m\u001b[0m\u001b[0;34m\u001b[0m\u001b[0m\n\u001b[1;32m     51\u001b[0m             \u001b[0mdata\u001b[0m \u001b[0;34m=\u001b[0m \u001b[0mself\u001b[0m\u001b[0;34m.\u001b[0m\u001b[0mdataset\u001b[0m\u001b[0;34m[\u001b[0m\u001b[0mpossibly_batched_index\u001b[0m\u001b[0;34m]\u001b[0m\u001b[0;34m\u001b[0m\u001b[0;34m\u001b[0m\u001b[0m\n",
            "\u001b[0;32m<ipython-input-171-88a628d3577c>\u001b[0m in \u001b[0;36m__getitem__\u001b[0;34m(self, index)\u001b[0m\n\u001b[1;32m     22\u001b[0m         \u001b[0;31m# просто выбрасываем наши неизветсные слова\u001b[0m\u001b[0;34m\u001b[0m\u001b[0;34m\u001b[0m\u001b[0;34m\u001b[0m\u001b[0m\n\u001b[1;32m     23\u001b[0m         \u001b[0;31m# ids = [self.word2id[word] for word in sentence if word in self.word2id]\u001b[0m\u001b[0;34m\u001b[0m\u001b[0;34m\u001b[0m\u001b[0;34m\u001b[0m\u001b[0m\n\u001b[0;32m---> 24\u001b[0;31m         \u001b[0mids\u001b[0m \u001b[0;34m=\u001b[0m \u001b[0mtorch\u001b[0m\u001b[0;34m.\u001b[0m\u001b[0mLongTensor\u001b[0m\u001b[0;34m(\u001b[0m\u001b[0;34m[\u001b[0m\u001b[0mself\u001b[0m\u001b[0;34m.\u001b[0m\u001b[0mword2id\u001b[0m\u001b[0;34m[\u001b[0m\u001b[0mword\u001b[0m\u001b[0;34m]\u001b[0m \u001b[0;32mfor\u001b[0m \u001b[0mword\u001b[0m \u001b[0;32min\u001b[0m \u001b[0msentence\u001b[0m \u001b[0;32mif\u001b[0m \u001b[0mword\u001b[0m \u001b[0;32min\u001b[0m \u001b[0mself\u001b[0m\u001b[0;34m.\u001b[0m\u001b[0mword2id\u001b[0m\u001b[0;34m]\u001b[0m\u001b[0;34m)\u001b[0m\u001b[0;34m\u001b[0m\u001b[0;34m\u001b[0m\u001b[0m\n\u001b[0m\u001b[1;32m     25\u001b[0m \u001b[0;34m\u001b[0m\u001b[0m\n\u001b[1;32m     26\u001b[0m         \u001b[0;31m# padded_ids = torch.LongTensor(self.padding(ids)).to(self.device)\u001b[0m\u001b[0;34m\u001b[0m\u001b[0;34m\u001b[0m\u001b[0;34m\u001b[0m\u001b[0m\n",
            "\u001b[0;32m<ipython-input-171-88a628d3577c>\u001b[0m in \u001b[0;36m<listcomp>\u001b[0;34m(.0)\u001b[0m\n\u001b[1;32m     22\u001b[0m         \u001b[0;31m# просто выбрасываем наши неизветсные слова\u001b[0m\u001b[0;34m\u001b[0m\u001b[0;34m\u001b[0m\u001b[0;34m\u001b[0m\u001b[0m\n\u001b[1;32m     23\u001b[0m         \u001b[0;31m# ids = [self.word2id[word] for word in sentence if word in self.word2id]\u001b[0m\u001b[0;34m\u001b[0m\u001b[0;34m\u001b[0m\u001b[0;34m\u001b[0m\u001b[0m\n\u001b[0;32m---> 24\u001b[0;31m         \u001b[0mids\u001b[0m \u001b[0;34m=\u001b[0m \u001b[0mtorch\u001b[0m\u001b[0;34m.\u001b[0m\u001b[0mLongTensor\u001b[0m\u001b[0;34m(\u001b[0m\u001b[0;34m[\u001b[0m\u001b[0mself\u001b[0m\u001b[0;34m.\u001b[0m\u001b[0mword2id\u001b[0m\u001b[0;34m[\u001b[0m\u001b[0mword\u001b[0m\u001b[0;34m]\u001b[0m \u001b[0;32mfor\u001b[0m \u001b[0mword\u001b[0m \u001b[0;32min\u001b[0m \u001b[0msentence\u001b[0m \u001b[0;32mif\u001b[0m \u001b[0mword\u001b[0m \u001b[0;32min\u001b[0m \u001b[0mself\u001b[0m\u001b[0;34m.\u001b[0m\u001b[0mword2id\u001b[0m\u001b[0;34m]\u001b[0m\u001b[0;34m)\u001b[0m\u001b[0;34m\u001b[0m\u001b[0;34m\u001b[0m\u001b[0m\n\u001b[0m\u001b[1;32m     25\u001b[0m \u001b[0;34m\u001b[0m\u001b[0m\n\u001b[1;32m     26\u001b[0m         \u001b[0;31m# padded_ids = torch.LongTensor(self.padding(ids)).to(self.device)\u001b[0m\u001b[0;34m\u001b[0m\u001b[0;34m\u001b[0m\u001b[0;34m\u001b[0m\u001b[0m\n",
            "\u001b[0;31mKeyboardInterrupt\u001b[0m: "
          ]
        }
      ]
    },
    {
      "cell_type": "code",
      "source": [
        ""
      ],
      "metadata": {
        "id": "wq5qkZiVHLwC"
      },
      "execution_count": null,
      "outputs": []
    }
  ]
}